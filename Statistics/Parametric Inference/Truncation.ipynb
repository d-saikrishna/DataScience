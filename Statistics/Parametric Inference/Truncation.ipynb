{
 "cells": [
  {
   "cell_type": "code",
   "execution_count": 1,
   "id": "646127f4-64d9-4e7a-ad16-4d0d2f0e4eb2",
   "metadata": {},
   "outputs": [],
   "source": [
    "import numpy as np"
   ]
  },
  {
   "cell_type": "code",
   "execution_count": 10,
   "id": "736c9fd6-67c7-4b61-b28d-fa43c1638ca8",
   "metadata": {},
   "outputs": [
    {
     "name": "stdout",
     "output_type": "stream",
     "text": [
      "P(X = 0) = 0.0\n",
      "P(X = 1) = 0.01818181818181818\n",
      "P(X = 2) = 0.03636363636363636\n",
      "P(X = 3) = 0.05454545454545454\n",
      "P(X = 4) = 0.07272727272727272\n",
      "P(X = 5) = 0.09090909090909091\n",
      "P(X = 6) = 0.10909090909090909\n",
      "P(X = 7) = 0.12727272727272726\n",
      "P(X = 8) = 0.14545454545454545\n",
      "P(X = 9) = 0.16363636363636364\n",
      "P(X = 10) = 0.18181818181818182\n"
     ]
    }
   ],
   "source": [
    "# Parameters\n",
    "n = 10  # Number of trials\n",
    "p = 0.5  # Probability of success (heads)\n",
    "\n",
    "binomial_probs = [p**k * (1-p)**(n-k) for k in range(n+1)]\n",
    "\n",
    "# Size-bias weights (for example, using w(k) = k)\n",
    "size_biased_weights = np.array([k * binomial_probs[k] for k in range(n+1)])\n",
    "    \n",
    "# Normalize to get the size-biased probabilities\n",
    "size_biased_probs = size_biased_weights / np.sum(size_biased_weights)\n",
    "\n",
    "# Display the size-biased probabilities\n",
    "for k in range(n+1):\n",
    "    print(f\"P(X = {k}) = {size_biased_probabilities[k]}\")\n"
   ]
  },
  {
   "cell_type": "code",
   "execution_count": 8,
   "id": "823964dc-fe98-4932-bb26-8255e4fac4d1",
   "metadata": {},
   "outputs": [
    {
     "data": {
      "text/plain": [
       "1.0"
      ]
     },
     "execution_count": 8,
     "metadata": {},
     "output_type": "execute_result"
    }
   ],
   "source": [
    "np.array(size_biased_probs).sum()"
   ]
  },
  {
   "cell_type": "code",
   "execution_count": 11,
   "id": "4db79ce0-6990-478e-9e91-ce9ae6caf681",
   "metadata": {},
   "outputs": [
    {
     "data": {
      "text/plain": [
       "[0.0009765625,\n",
       " 0.0009765625,\n",
       " 0.0009765625,\n",
       " 0.0009765625,\n",
       " 0.0009765625,\n",
       " 0.0009765625,\n",
       " 0.0009765625,\n",
       " 0.0009765625,\n",
       " 0.0009765625,\n",
       " 0.0009765625,\n",
       " 0.0009765625]"
      ]
     },
     "execution_count": 11,
     "metadata": {},
     "output_type": "execute_result"
    }
   ],
   "source": [
    "binomial_probs"
   ]
  },
  {
   "cell_type": "code",
   "execution_count": null,
   "id": "9afd5391-b26e-4ba4-b8e0-9d0665d9a87b",
   "metadata": {},
   "outputs": [],
   "source": []
  }
 ],
 "metadata": {
  "kernelspec": {
   "display_name": "Python 3 (ipykernel)",
   "language": "python",
   "name": "python3"
  },
  "language_info": {
   "codemirror_mode": {
    "name": "ipython",
    "version": 3
   },
   "file_extension": ".py",
   "mimetype": "text/x-python",
   "name": "python",
   "nbconvert_exporter": "python",
   "pygments_lexer": "ipython3",
   "version": "3.11.7"
  }
 },
 "nbformat": 4,
 "nbformat_minor": 5
}
