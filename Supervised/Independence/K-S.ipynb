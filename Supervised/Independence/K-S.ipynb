{
 "cells": [
  {
   "cell_type": "markdown",
   "id": "8e67d46f-1922-4eed-906b-6c87c8602047",
   "metadata": {},
   "source": [
    "# Kolmogorov-Smirnov \n",
    "K-S Test is used to test independence between one continous and one cateogrical variables."
   ]
  },
  {
   "cell_type": "code",
   "execution_count": 1,
   "id": "f1fc05f9-3eb4-4175-9fca-974f592925a7",
   "metadata": {},
   "outputs": [],
   "source": [
    "import pandas as pd\n",
    "import numpy as np\n",
    "import scipy.stats as stats\n",
    "\n",
    "import seaborn as sns\n",
    "import matplotlib.pyplot as plt"
   ]
  },
  {
   "cell_type": "code",
   "execution_count": 2,
   "id": "3d7a9b3b-cb9a-4ffc-a4d0-cce6253090d8",
   "metadata": {},
   "outputs": [
    {
     "data": {
      "text/html": [
       "<div>\n",
       "<style scoped>\n",
       "    .dataframe tbody tr th:only-of-type {\n",
       "        vertical-align: middle;\n",
       "    }\n",
       "\n",
       "    .dataframe tbody tr th {\n",
       "        vertical-align: top;\n",
       "    }\n",
       "\n",
       "    .dataframe thead th {\n",
       "        text-align: right;\n",
       "    }\n",
       "</style>\n",
       "<table border=\"1\" class=\"dataframe\">\n",
       "  <thead>\n",
       "    <tr style=\"text-align: right;\">\n",
       "      <th></th>\n",
       "      <th>Treatment</th>\n",
       "      <th>Begin</th>\n",
       "      <th>End</th>\n",
       "      <th>Decrease</th>\n",
       "    </tr>\n",
       "  </thead>\n",
       "  <tbody>\n",
       "    <tr>\n",
       "      <th>3</th>\n",
       "      <td>Calcium</td>\n",
       "      <td>129</td>\n",
       "      <td>112</td>\n",
       "      <td>17</td>\n",
       "    </tr>\n",
       "    <tr>\n",
       "      <th>9</th>\n",
       "      <td>Calcium</td>\n",
       "      <td>102</td>\n",
       "      <td>104</td>\n",
       "      <td>-2</td>\n",
       "    </tr>\n",
       "    <tr>\n",
       "      <th>11</th>\n",
       "      <td>Placebo</td>\n",
       "      <td>109</td>\n",
       "      <td>97</td>\n",
       "      <td>12</td>\n",
       "    </tr>\n",
       "    <tr>\n",
       "      <th>13</th>\n",
       "      <td>Placebo</td>\n",
       "      <td>102</td>\n",
       "      <td>105</td>\n",
       "      <td>-3</td>\n",
       "    </tr>\n",
       "    <tr>\n",
       "      <th>15</th>\n",
       "      <td>Placebo</td>\n",
       "      <td>114</td>\n",
       "      <td>119</td>\n",
       "      <td>-5</td>\n",
       "    </tr>\n",
       "    <tr>\n",
       "      <th>8</th>\n",
       "      <td>Calcium</td>\n",
       "      <td>136</td>\n",
       "      <td>125</td>\n",
       "      <td>11</td>\n",
       "    </tr>\n",
       "  </tbody>\n",
       "</table>\n",
       "</div>"
      ],
      "text/plain": [
       "   Treatment  Begin  End  Decrease\n",
       "3    Calcium    129  112        17\n",
       "9    Calcium    102  104        -2\n",
       "11   Placebo    109   97        12\n",
       "13   Placebo    102  105        -3\n",
       "15   Placebo    114  119        -5\n",
       "8    Calcium    136  125        11"
      ]
     },
     "execution_count": 2,
     "metadata": {},
     "output_type": "execute_result"
    }
   ],
   "source": [
    "data = pd.read_csv('calcium.txt', sep='\\t')\n",
    "X, Y = data['Treatment'], data['Decrease']\n",
    "data.sample(6)"
   ]
  },
  {
   "cell_type": "code",
   "execution_count": 3,
   "id": "217f3f49-336c-4504-ab23-73fd7420dce8",
   "metadata": {},
   "outputs": [],
   "source": [
    "# Empirical CDFs of Treatment group\n",
    "F_n = lambda x : sum(r <= x) / n\n",
    "\n",
    "r = data[data['Treatment'] == 'Calcium']['Decrease'].to_numpy()\n",
    "r = sorted(r)\n",
    "n = len(r)\n",
    "\n",
    "cdf_t = pd.DataFrame({\n",
    "    't': r,\n",
    "    'F_t': np.array(map(F_n, r)), \n",
    "})"
   ]
  },
  {
   "cell_type": "code",
   "execution_count": 4,
   "id": "bfc26b53-a854-448c-a115-3410e6f7dd83",
   "metadata": {},
   "outputs": [],
   "source": [
    "# Empirical CDFs of Placebo group\n",
    "F_n = lambda x : sum(r <= x) / n\n",
    "\n",
    "r = data[data['Treatment'] == 'Placebo']['Decrease'].to_numpy()\n",
    "r = sorted(r)\n",
    "n = len(r)\n",
    "\n",
    "cdf_p = pd.DataFrame({\n",
    "    'p': r,\n",
    "    'F_p': np.array(map(F_n, r)), \n",
    "})\n"
   ]
  },
  {
   "cell_type": "code",
   "execution_count": 7,
   "id": "6cd5cc88-3d30-42d3-9a2f-18d0c46a8c14",
   "metadata": {},
   "outputs": [
    {
     "data": {
      "image/png": "[encoded data removed]",
      "text/plain": [
       "<Figure size 640x480 with 1 Axes>"
      ]
     },
     "metadata": {},
     "output_type": "display_data"
    }
   ],
   "source": [
    "plt.step( 't', 'F_t', data=cdf_t, color='red')\n",
    "plt.step( 'p', 'F_p', data=cdf_p)\n",
    "plt.show()"
   ]
  },
  {
   "cell_type": "code",
   "execution_count": 13,
   "id": "e73f8b60-5685-4fd4-9542-aee734917df6",
   "metadata": {},
   "outputs": [
    {
     "name": "stdout",
     "output_type": "stream",
     "text": [
      "KS Statistic: 0.4090909090909091\n",
      "Reject Null Hypothesis: Distributions are distinct - Treatment has an effect\n"
     ]
    }
   ],
   "source": [
    "from scipy.stats import ks_2samp\n",
    "result = ks_2samp(data[data['Treatment'] == 'Placebo']['Decrease'].to_numpy(),\n",
    "                  data[data['Treatment'] == 'Calcium']['Decrease'].to_numpy())\n",
    "D_value, p_value = result.statistic, result.pvalue\n",
    "\n",
    "# Print the results\n",
    "print(\"KS Statistic:\", D_value)\n",
    "\n",
    "critical_D = 0.294 #From table for 0.05 alpha and n=20\n",
    "\n",
    "if D_value > critical_D:\n",
    "    print(\"Reject Null Hypothesis: Distributions are distinct - Treatment has an effect\")"
   ]
  },
  {
   "cell_type": "code",
   "execution_count": null,
   "id": "0287fe8a-465b-49ac-870e-33e5dda05d60",
   "metadata": {},
   "outputs": [],
   "source": []
  }
 ],
 "metadata": {
  "kernelspec": {
   "display_name": "Python 3 (ipykernel)",
   "language": "python",
   "name": "python3"
  },
  "language_info": {
   "codemirror_mode": {
    "name": "ipython",
    "version": 3
   },
   "file_extension": ".py",
   "mimetype": "text/x-python",
   "name": "python",
   "nbconvert_exporter": "python",
   "pygments_lexer": "ipython3",
   "version": "3.11.7"
  }
 },
 "nbformat": 4,
 "nbformat_minor": 5
}
