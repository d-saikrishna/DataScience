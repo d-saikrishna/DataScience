{
 "cells": [
  {
   "cell_type": "markdown",
   "id": "fe968fd3",
   "metadata": {},
   "source": [
    "I have penned this article on [Bayesian Thinking](https://dsaikrishna.wordpress.com/2021/06/12/bayesian-thinking-for-a-better-world/) which discusses the math and intuition behind the bayesian probabilities. The following is a python implementation of a little more complex problem."
   ]
  },
  {
   "cell_type": "code",
   "execution_count": 63,
   "id": "ae1a3acb",
   "metadata": {},
   "outputs": [],
   "source": [
    "#Importing libraries\n",
    "import numpy as np\n",
    "import pandas as pd"
   ]
  },
  {
   "cell_type": "markdown",
   "id": "3b87ce59",
   "metadata": {},
   "source": [
    "### Consider the following problem. There are five 'infinite' bags with given priors; determine the posterior probability in the light of new evidence as you pick candies.\n",
    "h1 (prior: 10%): This type of bag contains 100% cherry candies.<br>\n",
    "h2 (prior: 20%): This type of bag contains 75% cherry candies and 25% lime candies.<br>\n",
    "h3 (prior: 40%): This type of bag contains 50% cherry candies and 50% lime candies.<br>\n",
    "h4 (prior: 20%): This type of bag contains 25% cherry candies and 75% lime candies.<br>\n",
    "h5 (prior: 10%): This type of bag contains 100% lime candies "
   ]
  },
  {
   "cell_type": "code",
   "execution_count": 14,
   "id": "24741552",
   "metadata": {},
   "outputs": [],
   "source": [
    "# Probability of finding candies in each of the bags. \n",
    "p_c_1 = 1\n",
    "p_c_2 = 0.75\n",
    "p_c_3 = 0.5\n",
    "p_c_4 = 0.25\n",
    "p_c_5 = 0"
   ]
  },
  {
   "cell_type": "code",
   "execution_count": 50,
   "id": "3c82fd57",
   "metadata": {},
   "outputs": [
    {
     "data": {
      "text/plain": [
       "h1    0.1\n",
       "h2    0.2\n",
       "h3    0.4\n",
       "h4    0.2\n",
       "h5    0.1\n",
       "dtype: float64"
      ]
     },
     "execution_count": 50,
     "metadata": {},
     "output_type": "execute_result"
    }
   ],
   "source": [
    "hypotheses = 'h1', 'h2', 'h3', 'h4', 'h5'\n",
    "priors = 0.1, 0.2, 0.4, 0.2, 0.1\n",
    "prior = pd.Series(priors,hypotheses)\n",
    "prior"
   ]
  },
  {
   "cell_type": "code",
   "execution_count": 23,
   "id": "71b4c071",
   "metadata": {},
   "outputs": [],
   "source": [
    "# New Evidence - Candy picked\n",
    "Q =\"C\""
   ]
  },
  {
   "cell_type": "code",
   "execution_count": 24,
   "id": "2e7b0ee0",
   "metadata": {},
   "outputs": [],
   "source": [
    "# If the first picked is Candy - what is the likelihood that its from each of the bags?\n",
    "likelihoods = 1, 0.75, 0.5, 0.25, 0\n",
    "\n",
    "#Computing it through code:\n",
    "likelihoods = (p_c_1, p_c_2, p_c_3, p_c_4, p_c_5) if Q==\"C\" else (1-p_c_1, 1-p_c_2, 1-p_c_3, 1-p_c_4, 1-p_c_5)"
   ]
  },
  {
   "cell_type": "code",
   "execution_count": 25,
   "id": "669230d4",
   "metadata": {},
   "outputs": [
    {
     "data": {
      "text/plain": [
       "(1, 0.75, 0.5, 0.25, 0)"
      ]
     },
     "execution_count": 25,
     "metadata": {},
     "output_type": "execute_result"
    }
   ],
   "source": [
    "likelihoods"
   ]
  },
  {
   "attachments": {
    "image.png": {
     "image/png": "[encoded data removed]"
    }
   },
   "cell_type": "markdown",
   "id": "b60ab772",
   "metadata": {},
   "source": [
    "![image.png](attachment:image.png)"
   ]
  },
  {
   "cell_type": "code",
   "execution_count": 26,
   "id": "d795c139",
   "metadata": {},
   "outputs": [
    {
     "data": {
      "text/plain": [
       "h1    0.2\n",
       "h2    0.3\n",
       "h3    0.4\n",
       "h4    0.1\n",
       "h5    0.0\n",
       "dtype: float64"
      ]
     },
     "execution_count": 26,
     "metadata": {},
     "output_type": "execute_result"
    }
   ],
   "source": [
    "unnorm = prior * likelihoods \n",
    "\n",
    "posterior = unnorm/unnorm.sum()\n",
    "posterior"
   ]
  },
  {
   "cell_type": "code",
   "execution_count": 27,
   "id": "fa21c17f",
   "metadata": {},
   "outputs": [
    {
     "data": {
      "text/plain": [
       "1.0"
      ]
     },
     "execution_count": 27,
     "metadata": {},
     "output_type": "execute_result"
    }
   ],
   "source": [
    "posterior.sum()"
   ]
  },
  {
   "cell_type": "code",
   "execution_count": 30,
   "id": "da595b7a",
   "metadata": {},
   "outputs": [
    {
     "data": {
      "text/plain": [
       "h1    0.000000\n",
       "h2    0.214286\n",
       "h3    0.571429\n",
       "h4    0.214286\n",
       "h5    0.000000\n",
       "dtype: float64"
      ]
     },
     "execution_count": 30,
     "metadata": {},
     "output_type": "execute_result"
    }
   ],
   "source": [
    "# Now, consider another ball is picked - posterior becomes prior\n",
    "\n",
    "#Evidence\n",
    "Q=\"CL\"\n",
    "\n",
    "prior = posterior\n",
    "\n",
    "# Likelihoods don't change as it as infinite bag.\n",
    "likelihoods = (p_c_1, p_c_2, p_c_3, p_c_4, p_c_5) if Q[-1]==\"C\" else (1-p_c_1, 1-p_c_2, 1-p_c_3, 1-p_c_4, 1-p_c_5)\n",
    "\n",
    "#New posterior:\n",
    "unnorm = prior * likelihoods \n",
    "posterior = unnorm/unnorm.sum()\n",
    "posterior"
   ]
  },
  {
   "cell_type": "code",
   "execution_count": 31,
   "id": "26fc8d49",
   "metadata": {},
   "outputs": [
    {
     "data": {
      "text/plain": [
       "1.0"
      ]
     },
     "execution_count": 31,
     "metadata": {},
     "output_type": "execute_result"
    }
   ],
   "source": [
    "posterior.sum()"
   ]
  },
  {
   "cell_type": "code",
   "execution_count": 45,
   "id": "af1cfef2",
   "metadata": {},
   "outputs": [],
   "source": [
    "# Function for any length of evidence:\n",
    "def get_posteriors_bags(evidence, p_c, prior):\n",
    "    '''\n",
    "    evidence: New evidence string;\n",
    "    p_c: Tuple containing probability of finding candy in each of the bag\n",
    "    prior: Given priors\n",
    "    '''\n",
    "    \n",
    "    file1 = open(\"result.txt\",\"w\")\n",
    "    l1 = \"Observation of sequence Q: {}\\n\".format(evidence)\n",
    "    l2 = \"Length of Q: {}\\n\".format(len(evidence))\n",
    "    file1.writelines([l1,l2,'\\n'])\n",
    "    \n",
    "\n",
    "    if evidence=='':\n",
    "        l = 'After observation {} = {}\\n'.format(0,'')\n",
    "        file1.writelines([l,'\\n'])\n",
    "        l1 = 'P(h1 | Q) = {}\\n'.format(prior['h1'])\n",
    "        l2 = 'P(h2 | Q) = {}\\n'.format(prior['h2'])\n",
    "        l3 = 'P(h3 | Q) = {}\\n'.format(prior['h3'])\n",
    "        l4 = 'P(h4 | Q) = {}\\n'.format(prior['h4'])\n",
    "        l5 = 'P(h5 | Q) = {}\\n'.format(prior['h5'])\n",
    "        file1.writelines([l1,l2,l3,l4,l5,'\\n'])\n",
    "        l1 = 'Probability that the next candy we pick will be C, given Q: {}\\n'.format((prior*p_c).sum())\n",
    "        l2 = 'Probability that the next candy we pick will be L, given Q: {}\\n'.format(1-(prior*p_c).sum())\n",
    "        file1.writelines([l1,l2,'\\n'])\n",
    "        return prior\n",
    "    \n",
    "    for i in range(len(evidence)):\n",
    "        likelihoods = p_c if evidence[i]==\"C\" else tuple([1-i for i in p_c]) #Since infinite bag; likelihood won't change with iterations\n",
    "        unnorm = prior * likelihoods \n",
    "        posterior = unnorm/unnorm.sum()\n",
    "        \n",
    "        l = 'After observation {} = {}\\n'.format(i+1,evidence[i])\n",
    "        file1.writelines([l,'\\n'])\n",
    "        l1 = 'P(h1 | Q) = {}\\n'.format(posterior['h1'])\n",
    "        l2 = 'P(h2 | Q) = {}\\n'.format(posterior['h2'])\n",
    "        l3 = 'P(h3 | Q) = {}\\n'.format(posterior['h3'])\n",
    "        l4 = 'P(h4 | Q) = {}\\n'.format(posterior['h4'])\n",
    "        l5 = 'P(h5 | Q) = {}\\n'.format(posterior['h5'])\n",
    "        file1.writelines([l1,l2,l3,l4,l5,'\\n'])\n",
    "        l1 = 'Probability that the next candy we pick will be C, given Q: {}\\n'.format((posterior*p_c).sum())\n",
    "        l2 = 'Probability that the next candy we pick will be L, given Q: {}\\n'.format(1-(posterior*p_c).sum())\n",
    "        file1.writelines([l1,l2,'\\n'])\n",
    "        prior = posterior\n",
    "        \n",
    "    file1.close()\n",
    "    return posterior"
   ]
  },
  {
   "cell_type": "code",
   "execution_count": 49,
   "id": "5275481c",
   "metadata": {},
   "outputs": [],
   "source": [
    "p_c = (p_c_1, p_c_2, p_c_3, p_c_4, p_c_5)"
   ]
  },
  {
   "cell_type": "code",
   "execution_count": 66,
   "id": "d82a39da",
   "metadata": {},
   "outputs": [
    {
     "name": "stdout",
     "output_type": "stream",
     "text": [
      "Enter sequence of candies picked: CLCCLLC\n"
     ]
    }
   ],
   "source": [
    "evidence=input('Enter sequence of candies picked: ')"
   ]
  },
  {
   "cell_type": "code",
   "execution_count": 67,
   "id": "a467c556",
   "metadata": {},
   "outputs": [],
   "source": [
    "posterior = get_posteriors_bags(evidence,p_c,prior)"
   ]
  },
  {
   "cell_type": "code",
   "execution_count": 68,
   "id": "1f1e5aca",
   "metadata": {},
   "outputs": [
    {
     "data": {
      "text/plain": [
       "h1    0.000000\n",
       "h2    0.222527\n",
       "h3    0.703297\n",
       "h4    0.074176\n",
       "h5    0.000000\n",
       "dtype: float64"
      ]
     },
     "execution_count": 68,
     "metadata": {},
     "output_type": "execute_result"
    }
   ],
   "source": [
    "posterior"
   ]
  },
  {
   "cell_type": "code",
   "execution_count": 70,
   "id": "28139c58",
   "metadata": {},
   "outputs": [
    {
     "data": {
      "text/plain": [
       "1.0"
      ]
     },
     "execution_count": 70,
     "metadata": {},
     "output_type": "execute_result"
    }
   ],
   "source": [
    "posterior.sum()"
   ]
  }
 ],
 "metadata": {
  "kernelspec": {
   "display_name": "Python 3 (ipykernel)",
   "language": "python",
   "name": "python3"
  },
  "language_info": {
   "codemirror_mode": {
    "name": "ipython",
    "version": 3
   },
   "file_extension": ".py",
   "mimetype": "text/x-python",
   "name": "python",
   "nbconvert_exporter": "python",
   "pygments_lexer": "ipython3",
   "version": "3.9.7"
  }
 },
 "nbformat": 4,
 "nbformat_minor": 5
}
