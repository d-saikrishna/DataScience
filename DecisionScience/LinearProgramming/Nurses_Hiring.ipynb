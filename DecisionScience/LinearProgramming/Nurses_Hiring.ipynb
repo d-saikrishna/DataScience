{
 "cells": [
  {
   "cell_type": "markdown",
   "id": "042df127-03e5-4b3f-aa72-c9f6e60ada94",
   "metadata": {},
   "source": [
    "# Problem\n",
    "A hospital has the following demand for nurses on each day.\n",
    "\n",
    "Sunday: 30\n",
    "Monday: 20\n",
    "Tuesday: 15\n",
    "Wednesday: 17\n",
    "Thursday: 19\n",
    "Friday: 25\n",
    "Saturday: 30\n",
    "\n",
    "Each Nurse can only work on 5 days in a row.\n",
    "\n",
    "What is the minimum number of nurses that the hospital has to hire?\n",
    "\n",
    "*Problem taken from Introduction To Linear Optimization by Dimitris Bertsimas, John N. Tsitsiklis*"
   ]
  },
  {
   "cell_type": "code",
   "execution_count": 68,
   "id": "281225e9-688f-476e-9e2f-61d4f6ade82b",
   "metadata": {},
   "outputs": [],
   "source": [
    "#Demands +Sunday = day_0\n",
    "d = [30, 20, 15, 17, 19, 25, 30]"
   ]
  },
  {
   "cell_type": "code",
   "execution_count": 69,
   "id": "31c8cf5d-a077-4348-9e78-4f700a0902e0",
   "metadata": {},
   "outputs": [],
   "source": [
    "import pulp as p"
   ]
  },
  {
   "cell_type": "code",
   "execution_count": 70,
   "id": "b0fd4c5e-34e5-4488-b3b6-0aa1a1778443",
   "metadata": {},
   "outputs": [],
   "source": [
    "# Decision variables -\n",
    "# Defining x_i as number of nurses who start work on day_i\n",
    "x = p.LpVariable.dicts(\"num_nurses\",\n",
    "                       range(7),\n",
    "                       lowBound=0,\n",
    "                          cat='Continuous')#default "
   ]
  },
  {
   "cell_type": "code",
   "execution_count": 71,
   "id": "b1fa4ea4-b726-4fe9-b52c-45815bce8a9e",
   "metadata": {},
   "outputs": [
    {
     "data": {
      "text/plain": [
       "Problem:\n",
       "MINIMIZE\n",
       "1*num_nurses_0 + 1*num_nurses_1 + 1*num_nurses_2 + 1*num_nurses_3 + 1*num_nurses_4 + 1*num_nurses_5 + 1*num_nurses_6 + 0\n",
       "VARIABLES\n",
       "num_nurses_0 Continuous\n",
       "num_nurses_1 Continuous\n",
       "num_nurses_2 Continuous\n",
       "num_nurses_3 Continuous\n",
       "num_nurses_4 Continuous\n",
       "num_nurses_5 Continuous\n",
       "num_nurses_6 Continuous"
      ]
     },
     "execution_count": 71,
     "metadata": {},
     "output_type": "execute_result"
    }
   ],
   "source": [
    "# Objective function: Minimize number of nurses\n",
    "Lp_prob = p.LpProblem('Problem', sense = p.LpMinimize)  \n",
    "Lp_prob += p.lpSum([x[i] for i in range(7)])\n",
    "Lp_prob"
   ]
  },
  {
   "cell_type": "code",
   "execution_count": 72,
   "id": "12005ac1-5897-4e29-9eba-0081aa5ae8fa",
   "metadata": {},
   "outputs": [],
   "source": [
    "# Constraints\n",
    "# if x_0 number of nurses start on day_0 -- they would work on days 0,1,2,3,4\n",
    "# Nurses who start on days 1,2 will not be able to serve on day 0\n",
    "Lp_prob += x[0] + 0 + 0 + x[3] + x[4] + x[5] + x[6] >= d[0], f\"Demand_Constraint_0\"\n",
    "Lp_prob += x[0] + x[1] + 0 + 0 + x[4] + x[5] + x[6] >= d[1], f\"Demand_Constraint_1\"\n",
    "Lp_prob += x[0] + x[1] + x[2] + 0 + 0 + x[5] + x[6] >= d[2], f\"Demand_Constraint_2\"\n",
    "Lp_prob += x[0] + x[1] + x[2] + x[3] + 0 + 0 + x[6] >= d[3], f\"Demand_Constraint_3\"\n",
    "Lp_prob += x[0] + x[1] + x[2] + x[3] + x[4] + 0 + 0 >= d[4], f\"Demand_Constraint_4\"\n",
    "Lp_prob += 0 + x[1] + x[2] + x[3] + x[4] + x[5] + 0 >= d[5], f\"Demand_Constraint_5\"\n",
    "Lp_prob += 0 + 0 + x[2] + x[3] + x[4] + x[5] + x[6] >= d[6], f\"Demand_Constraint_6\""
   ]
  },
  {
   "cell_type": "code",
   "execution_count": 73,
   "id": "5f3e7558-69d9-4be8-8dbd-77fdcc79088f",
   "metadata": {},
   "outputs": [
    {
     "data": {
      "text/plain": [
       "1"
      ]
     },
     "execution_count": 73,
     "metadata": {},
     "output_type": "execute_result"
    }
   ],
   "source": [
    "# Solve the problem\n",
    "Lp_prob.solve()"
   ]
  },
  {
   "cell_type": "code",
   "execution_count": 74,
   "id": "b82eca0e-e1ed-4424-af4a-fe0a22f3e10a",
   "metadata": {},
   "outputs": [
    {
     "name": "stdout",
     "output_type": "stream",
     "text": [
      "Total Cost =  31.3333332\n",
      "*******\n",
      "num_nurses_0 - 1.3333333\n",
      "num_nurses_1 - 0.0\n",
      "num_nurses_2 - 1.3333333\n",
      "num_nurses_3 - 9.3333333\n",
      "num_nurses_4 - 7.0\n",
      "num_nurses_5 - 7.3333333\n",
      "num_nurses_6 - 5.0\n"
     ]
    }
   ],
   "source": [
    "print(\"Total Cost = \", p.value(Lp_prob.objective))\n",
    "print(\"*******\")\n",
    "for v in Lp_prob.variables():\n",
    "    print(\"{} - {}\".format(v.name, v.varValue))"
   ]
  },
  {
   "cell_type": "code",
   "execution_count": null,
   "id": "b8c13f1c-0f37-4be5-81b8-3de4271a0166",
   "metadata": {},
   "outputs": [],
   "source": []
  },
  {
   "cell_type": "markdown",
   "id": "225b03f8-9e67-4bc8-9741-c58e81728801",
   "metadata": {},
   "source": [
    "Number of nurses cannot be a decimal right?\n",
    "\n",
    "We solved the linear programming problem. But the problem is actually linear interger programming problem. It needs more constraints - *integrality constraints*"
   ]
  },
  {
   "cell_type": "code",
   "execution_count": 60,
   "id": "bea0a3f8-9c0a-4bbc-91ed-4deef247032a",
   "metadata": {},
   "outputs": [],
   "source": [
    "# Decision variables -\n",
    "# Defining x_i as number of nurses who start work on day_i\n",
    "x = p.LpVariable.dicts(\"num_nurses\",\n",
    "                       range(7),\n",
    "                       lowBound=0,\n",
    "                        cat='Integer')"
   ]
  },
  {
   "cell_type": "code",
   "execution_count": 61,
   "id": "647b99ae-b1e0-48e4-990b-88c145c00d7f",
   "metadata": {},
   "outputs": [],
   "source": [
    "# Objective function: Minimize number of nurses\n",
    "Lp_prob = p.LpProblem('Problem', sense = p.LpMinimize)  \n",
    "Lp_prob += p.lpSum([x[i] for i in range(7)])"
   ]
  },
  {
   "cell_type": "code",
   "execution_count": 62,
   "id": "126ea130-8cab-438b-8cb1-4455448c0d10",
   "metadata": {},
   "outputs": [],
   "source": [
    "# Constraints\n",
    "# if x_0 number of nurses start on day_0 -- they would work on days 0,1,2,3,4\n",
    "# Nurses who start on days 1,2 will not be able to serve on day 0\n",
    "Lp_prob += x[0] + 0 + 0 + x[3] + x[4] + x[5] + x[6] >= d[0], f\"Demand_Constraint_0\"\n",
    "Lp_prob += x[0] + x[1] + 0 + 0 + x[4] + x[5] + x[6] >= d[1], f\"Demand_Constraint_1\"\n",
    "Lp_prob += x[0] + x[1] + x[2] + 0 + 0 + x[5] + x[6] >= d[2], f\"Demand_Constraint_2\"\n",
    "Lp_prob += x[0] + x[1] + x[2] + x[3] + 0 + 0 + x[6] >= d[3], f\"Demand_Constraint_3\"\n",
    "Lp_prob += x[0] + x[1] + x[2] + x[3] + x[4] + 0 + 0 >= d[4], f\"Demand_Constraint_4\"\n",
    "Lp_prob += 0 + x[1] + x[2] + x[3] + x[4] + x[5] + 0 >= d[5], f\"Demand_Constraint_5\"\n",
    "Lp_prob += 0 + 0 + x[2] + x[3] + x[4] + x[5] + x[6] >= d[6], f\"Demand_Constraint_6\""
   ]
  },
  {
   "cell_type": "code",
   "execution_count": 63,
   "id": "ad3c6ed9-3938-45df-923a-0a61255ec700",
   "metadata": {},
   "outputs": [
    {
     "data": {
      "text/plain": [
       "1"
      ]
     },
     "execution_count": 63,
     "metadata": {},
     "output_type": "execute_result"
    }
   ],
   "source": [
    "# Solve the problem\n",
    "Lp_prob.solve()"
   ]
  },
  {
   "cell_type": "code",
   "execution_count": 67,
   "id": "0551f025-af84-4559-8cda-55cd46cbcd71",
   "metadata": {},
   "outputs": [
    {
     "name": "stdout",
     "output_type": "stream",
     "text": [
      "Total Cost =  32.0\n",
      "*******\n",
      "num_nurses_0 - 2.0\n",
      "num_nurses_1 - 0.0\n",
      "num_nurses_2 - 0.0\n",
      "num_nurses_3 - 10.0\n",
      "num_nurses_4 - 7.0\n",
      "num_nurses_5 - 8.0\n",
      "num_nurses_6 - 5.0\n"
     ]
    }
   ],
   "source": [
    "print(\"Total Cost = \", p.value(Lp_prob.objective))\n",
    "print(\"*******\")\n",
    "for v in Lp_prob.variables():\n",
    "    print(\"{} - {}\".format(v.name, v.varValue))"
   ]
  },
  {
   "cell_type": "code",
   "execution_count": 65,
   "id": "4a083607-2670-428b-abd1-e113f237e332",
   "metadata": {},
   "outputs": [
    {
     "data": {
      "text/plain": [
       "'num_nurses_6'"
      ]
     },
     "execution_count": 65,
     "metadata": {},
     "output_type": "execute_result"
    }
   ],
   "source": [
    "v.name"
   ]
  },
  {
   "cell_type": "markdown",
   "id": "c425def0-4e0d-4484-8cc0-53fe55a028f0",
   "metadata": {},
   "source": [
    "Hospital has to hire 32 nurses with the above starting dates of their weeks"
   ]
  },
  {
   "cell_type": "markdown",
   "id": "1cbcfb12-c5eb-403a-bd91-cd040cdffd25",
   "metadata": {},
   "source": [
    "###### Note on Linear Integer Problems:\n",
    "For this partic\u0002ular problem, an optimal solution can be found without too much effort. \n",
    "However, this is the exception rather than the rule: finding optimal solu\u0002tions to general integer programming problems is difficult. \n",
    "\n",
    "One way of dealing with this issue is to ignore ( \"relax\" ) \n",
    "the integrality constraints and obtain the so-called linear programming r\u0002laxation of the original problem. Because the linear programming problem\r\n",
    "has fewer constraints, and therefore more options, the optimal cost will b \r\n",
    "less than or equal to the optimal cost of the original problem. If the optiml \r\n",
    "solution to the linear programming relaxation happens to be integer, ten \r\n",
    "it is also an optimal solution to the original problem. If it is not integer we \r\n",
    "can round each Xj upwards, thus obtaining a feasible, but not necessarily \r\n",
    "optimal, solution to the original prdifficul"
   ]
  },
  {
   "cell_type": "code",
   "execution_count": null,
   "id": "a324f62d-a14e-4bfa-8891-5b0caa77eb51",
   "metadata": {},
   "outputs": [],
   "source": []
  }
 ],
 "metadata": {
  "kernelspec": {
   "display_name": "Python 3 (ipykernel)",
   "language": "python",
   "name": "python3"
  },
  "language_info": {
   "codemirror_mode": {
    "name": "ipython",
    "version": 3
   },
   "file_extension": ".py",
   "mimetype": "text/x-python",
   "name": "python",
   "nbconvert_exporter": "python",
   "pygments_lexer": "ipython3",
   "version": "3.11.7"
  }
 },
 "nbformat": 4,
 "nbformat_minor": 5
}
