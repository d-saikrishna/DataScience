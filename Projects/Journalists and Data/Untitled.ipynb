{
 "cells": [
  {
   "cell_type": "code",
   "execution_count": 1,
   "id": "b1d1be49-ba8f-4ec1-9735-dd8f58d0fa92",
   "metadata": {},
   "outputs": [],
   "source": [
    "import pandas as pd"
   ]
  },
  {
   "cell_type": "code",
   "execution_count": 2,
   "id": "27b6ac0d-e3ae-4f12-9d1d-ba0a369ea65e",
   "metadata": {},
   "outputs": [],
   "source": [
    "one = [27516, 31089, 20703, 28901, 36808]\n",
    "two = [45399, 45701, 55603, 58910, 61607]\n",
    "two = [km*2 for km in two]\n",
    "\n",
    "four = [18372, 21201, 24705, 26347, 27935]\n",
    "four = [km*4 for km in four]"
   ]
  },
  {
   "cell_type": "code",
   "execution_count": 3,
   "id": "9900299d-bd6d-4f81-8c07-d138c181b7c4",
   "metadata": {},
   "outputs": [],
   "source": [
    "df = pd.DataFrame([one, two, four])"
   ]
  },
  {
   "cell_type": "code",
   "execution_count": 5,
   "id": "6959a0c4-58c6-431a-86de-c5c9dd6ceb1a",
   "metadata": {},
   "outputs": [],
   "source": [
    "df.columns = ['2014', '2015', '2016', '2017', '2018']"
   ]
  },
  {
   "cell_type": "code",
   "execution_count": 8,
   "id": "3a1e8884-5694-4a1a-a543-b017a498a5d2",
   "metadata": {},
   "outputs": [
    {
     "data": {
      "text/plain": [
       "2014    191802\n",
       "2015    207295\n",
       "2016    230729\n",
       "2017    252109\n",
       "2018    271762\n",
       "dtype: int64"
      ]
     },
     "execution_count": 8,
     "metadata": {},
     "output_type": "execute_result"
    }
   ],
   "source": [
    "df.sum(axis=0)"
   ]
  },
  {
   "cell_type": "code",
   "execution_count": null,
   "id": "3e5a27d8-8bc3-40db-9d8b-d63fbd996efc",
   "metadata": {},
   "outputs": [],
   "source": []
  }
 ],
 "metadata": {
  "kernelspec": {
   "display_name": "Python 3 (ipykernel)",
   "language": "python",
   "name": "python3"
  },
  "language_info": {
   "codemirror_mode": {
    "name": "ipython",
    "version": 3
   },
   "file_extension": ".py",
   "mimetype": "text/x-python",
   "name": "python",
   "nbconvert_exporter": "python",
   "pygments_lexer": "ipython3",
   "version": "3.11.7"
  }
 },
 "nbformat": 4,
 "nbformat_minor": 5
}
