{
 "cells": [
  {
   "cell_type": "markdown",
   "id": "a1eacbf4",
   "metadata": {},
   "source": [
    "# Bootstrapping\n",
    "You conducted an experiment and got values. But is that the true value? You cannot confidently say it. You would want to conduct the experiment multiple times, in different scenarios to go close to the true value. But [India's expenditure on RnD is among the lowest in the world.](https://economictimes.indiatimes.com/news/india/indias-rd-spends-amongst-the-lowest-in-the-world-niti-aayog-study/articleshow/93024586.cms?from=mdr). You don't have enough money to conduct many experiments. And hence, you take help of Statisitics. Because, [Indians are good at math](https://www.hindustantimes.com/india-news/indians-are-so-good-at-mathematics-and-physics-when-stephen-hawking-came-to-india/story-qeRRbpPJK15LCHsNEKWiLK.html).\n",
    "\n",
    "`Bootstrapping is a statistical method in which we resample the original sample to calculate any stat with more confidence.`\n",
    "\n",
    "## Steps of bootstrapping\n",
    "1. Make a `bookstrapped dataset` from the original dataset.\n",
    "2. Calculate something with the bootsrapped dataset (mean, median, SD)\n",
    "3. Keep track of the calculation. (histogram)\n",
    "4. Repeat 1,2,3\n",
    "\n",
    "## Bootstrapped dataset:\n",
    "Perform `Sampling with replacement` on the original dataset. The size of the bootsrapped dataset will be the same as the original dataset.\n",
    "\n",
    "Use the histogram to calculate the SE and CI of the required statistic (mean, median .. )\n",
    "\n",
    "## Use-cases:\n",
    "1. `Hypothesis testing`\n",
    "2. `It helps in estimating the underlying distribution.` (look at the histogram)"
   ]
  },
  {
   "cell_type": "code",
   "execution_count": 17,
   "id": "6bb2ec06",
   "metadata": {},
   "outputs": [],
   "source": [
    "data = [2, 4, 9, 12]"
   ]
  },
  {
   "cell_type": "code",
   "execution_count": 18,
   "id": "7bc85465",
   "metadata": {},
   "outputs": [],
   "source": [
    "from scipy.stats import bootstrap\n",
    "import numpy as np\n",
    "import matplotlib.pyplot as plt\n",
    "import seaborn as sns\n",
    "\n",
    "#convert array to sequence\n",
    "data = (data,)\n",
    "\n",
    "#calculate 95% bootstrap for mean\n",
    "bootstraped = bootstrap(data, np.mean, confidence_level=0.95,\n",
    "                         random_state=111, method='percentile')"
   ]
  },
  {
   "cell_type": "code",
   "execution_count": 19,
   "id": "0606e71d",
   "metadata": {},
   "outputs": [
    {
     "name": "stdout",
     "output_type": "stream",
     "text": [
      "ConfidenceInterval(low=3.0, high=10.5)\n"
     ]
    }
   ],
   "source": [
    "print(bootstraped.confidence_interval)"
   ]
  },
  {
   "cell_type": "code",
   "execution_count": 20,
   "id": "e69f6bfa",
   "metadata": {},
   "outputs": [
    {
     "data": {
      "image/png": "[encoded data removed]",
      "text/plain": [
       "<Figure size 600x500 with 1 Axes>"
      ]
     },
     "metadata": {},
     "output_type": "display_data"
    }
   ],
   "source": [
    "distribution = bootstraped.bootstrap_distribution\n",
    "\n",
    "fig, ax = plt.subplots(figsize=(6, 5))\n",
    "p = sns.histplot(data=distribution, stat='probability', discrete=True, ax=ax)\n",
    "plt.show()"
   ]
  },
  {
   "cell_type": "markdown",
   "id": "1039d9a1",
   "metadata": {},
   "source": [
    "References:\n",
    "1. [StatQuest - Part1](https://www.youtube.com/watch?v=Xz0x-8-cgaQ)\n",
    "2. [StatQuest - Part2](https://www.youtube.com/watch?v=N4ZQQqyIf6k)\n",
    "3. [SciPy - Bootstrap](https://docs.scipy.org/doc/scipy/reference/generated/scipy.stats.bootstrap.html)"
   ]
  },
  {
   "cell_type": "code",
   "execution_count": 26,
   "id": "cdc98a52",
   "metadata": {},
   "outputs": [
    {
     "data": {
      "text/plain": [
       "{2.0,\n",
       " 2.5,\n",
       " 3.0,\n",
       " 3.5,\n",
       " 3.75,\n",
       " 4.0,\n",
       " 4.25,\n",
       " 4.5,\n",
       " 4.75,\n",
       " 5.0,\n",
       " 5.25,\n",
       " 5.5,\n",
       " 6.0,\n",
       " 6.25,\n",
       " 6.5,\n",
       " 6.75,\n",
       " 7.0,\n",
       " 7.25,\n",
       " 7.5,\n",
       " 7.75,\n",
       " 8.0,\n",
       " 8.5,\n",
       " 8.75,\n",
       " 9.0,\n",
       " 9.25,\n",
       " 9.5,\n",
       " 9.75,\n",
       " 10.0,\n",
       " 10.5,\n",
       " 11.25,\n",
       " 12.0}"
      ]
     },
     "execution_count": 26,
     "metadata": {},
     "output_type": "execute_result"
    }
   ],
   "source": [
    "set(distribution)"
   ]
  },
  {
   "cell_type": "code",
   "execution_count": null,
   "id": "f920e4e7",
   "metadata": {},
   "outputs": [],
   "source": []
  }
 ],
 "metadata": {
  "kernelspec": {
   "display_name": "Python 3 (ipykernel)",
   "language": "python",
   "name": "python3"
  },
  "language_info": {
   "codemirror_mode": {
    "name": "ipython",
    "version": 3
   },
   "file_extension": ".py",
   "mimetype": "text/x-python",
   "name": "python",
   "nbconvert_exporter": "python",
   "pygments_lexer": "ipython3",
   "version": "3.9.13"
  }
 },
 "nbformat": 4,
 "nbformat_minor": 5
}
