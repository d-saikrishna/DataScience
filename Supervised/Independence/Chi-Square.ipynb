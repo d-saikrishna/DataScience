{
 "cells": [
  {
   "cell_type": "markdown",
   "id": "55517b96-2c0f-4f3e-ac6b-7f4fda98aa96",
   "metadata": {},
   "source": [
    "# Chi-Square\n",
    "To test independence/assocation between categorical variables."
   ]
  },
  {
   "cell_type": "code",
   "execution_count": 1,
   "id": "2c86f0b8-dad4-493c-ba16-2d7b73867432",
   "metadata": {},
   "outputs": [],
   "source": [
    "import numpy as np\n",
    "\n",
    "X_ij = np.array([[14, 641], [62, 594]]) #Contingency table    "
   ]
  },
  {
   "cell_type": "code",
   "execution_count": 2,
   "id": "26ccf0c2-c19b-40bd-857f-79b2d98d6f84",
   "metadata": {},
   "outputs": [],
   "source": [
    "X_idot = X_ij.sum(axis = 1).reshape(2, 1)\n",
    "X_dotj = X_ij.sum(axis = 0).reshape(1, 2)\n",
    "n = X_ij.sum()\n",
    "E_ij = X_idot @ X_dotj / n\n",
    "\n",
    "# Log-likelihood test statistic\n",
    "T = 2 * (X_ij * np.log(X_ij / E_ij)).sum()\n",
    "\n",
    "# Pearson's \\chi^2 test statistic\n",
    "U = ((X_ij - E_ij)**2 / E_ij).sum()"
   ]
  },
  {
   "cell_type": "code",
   "execution_count": 3,
   "id": "c1b4ab0a-6391-45ab-a96d-994517e26c19",
   "metadata": {},
   "outputs": [
    {
     "name": "stdout",
     "output_type": "stream",
     "text": [
      "T test statistic: \t\t34.534\n",
      "Pearson chi^2 statistic: \t32.104\n",
      "p-value log likelihood:\t\t 0.000\n",
      "p-value Pearson: \t\t 0.000\n"
     ]
    }
   ],
   "source": [
    "from scipy.stats import chi2\n",
    "\n",
    "p_value_log_likelihood = 1 - chi2.cdf(T, 1)\n",
    "p_value_pearson = 1 - chi2.cdf(U, 1)\n",
    "\n",
    "print('T test statistic: \\t\\t%.3f'% T)\n",
    "print('Pearson chi^2 statistic: \\t%.3f'% U)\n",
    "\n",
    "print('p-value log likelihood:\\t\\t %.3f' % p_value_log_likelihood)\n",
    "print('p-value Pearson: \\t\\t %.3f' % p_value_pearson)"
   ]
  },
  {
   "cell_type": "code",
   "execution_count": null,
   "id": "cad8777f-b47f-4d0f-b0b1-b6ceaf911ffd",
   "metadata": {},
   "outputs": [],
   "source": []
  }
 ],
 "metadata": {
  "kernelspec": {
   "display_name": "Python 3 (ipykernel)",
   "language": "python",
   "name": "python3"
  },
  "language_info": {
   "codemirror_mode": {
    "name": "ipython",
    "version": 3
   },
   "file_extension": ".py",
   "mimetype": "text/x-python",
   "name": "python",
   "nbconvert_exporter": "python",
   "pygments_lexer": "ipython3",
   "version": "3.11.7"
  }
 },
 "nbformat": 4,
 "nbformat_minor": 5
}
