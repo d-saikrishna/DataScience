{
 "cells": [
  {
   "cell_type": "code",
   "execution_count": 5,
   "id": "a11b7998-d541-4e36-a625-659d9b24b182",
   "metadata": {},
   "outputs": [],
   "source": [
    "import numpy as np\n",
    "from scipy.stats import norm\n",
    "import scipy.stats as stats"
   ]
  },
  {
   "cell_type": "code",
   "execution_count": 18,
   "id": "ac65aaf3-1537-4d45-b649-07dfe35595ae",
   "metadata": {},
   "outputs": [],
   "source": [
    "# Original data\n",
    "data = np.array([182, 322, 252, 269, 245, 214, 230, 223, 229, 327, 219, 216, 272, 208, 320, 187, 230, 192, 332, 213, 198, 269, 226, 242, 299, 241, 249, 203, 270, 273, 228, 294, 233, 220, 208, 245, 271])\n",
    "\n",
    "# Log-transform the data\n",
    "log_data = np.log(data)\n",
    "\n",
    "# Estimate parameters\n",
    "mu = np.mean(log_data)\n",
    "sigma = np.std(log_data, ddof=1)\n",
    "\n",
    "degrees_of_freedom = len(log_data) - 1\n",
    "t_score = stats.t.ppf(0.975, degrees_of_freedom) # 95% confidence\n",
    "z = norm.ppf(0.975)  # 95% confidence"
   ]
  },
  {
   "cell_type": "code",
   "execution_count": 20,
   "id": "c7f988c8-1498-4b8b-8340-c658bb33fecb",
   "metadata": {},
   "outputs": [
    {
     "data": {
      "text/plain": [
       "(229.44750324174328, 254.30334626235623)"
      ]
     },
     "execution_count": 20,
     "metadata": {},
     "output_type": "execute_result"
    }
   ],
   "source": [
    "# Confidence interval for the log-transformed data\n",
    "n = len(data)\n",
    "\n",
    "ci_lower_log = mu - z * (sigma / np.sqrt(n))\n",
    "ci_upper_log = mu + z * (sigma / np.sqrt(n))\n",
    "\n",
    "# Back-transform the confidence interval\n",
    "ci_lower = np.exp(ci_lower_log)\n",
    "ci_upper = np.exp(ci_upper_log)\n",
    "\n",
    "ci_lower, ci_upper"
   ]
  },
  {
   "cell_type": "code",
   "execution_count": 15,
   "id": "7955f980-833a-46cf-ac8c-d71fe7841b93",
   "metadata": {},
   "outputs": [
    {
     "data": {
      "text/plain": [
       "1.509895002120106"
      ]
     },
     "execution_count": 15,
     "metadata": {},
     "output_type": "execute_result"
    }
   ],
   "source": [
    "ci_lower_log"
   ]
  },
  {
   "cell_type": "code",
   "execution_count": 16,
   "id": "0d57dc9c-eec9-4c93-a8e5-1692f7a75a17",
   "metadata": {},
   "outputs": [
    {
     "data": {
      "text/plain": [
       "8.000549962306415"
      ]
     },
     "execution_count": 16,
     "metadata": {},
     "output_type": "execute_result"
    }
   ],
   "source": [
    "ci_upper_log"
   ]
  },
  {
   "cell_type": "code",
   "execution_count": null,
   "id": "7cbb7f7e-b170-4799-bc95-768228e19d89",
   "metadata": {},
   "outputs": [],
   "source": []
  }
 ],
 "metadata": {
  "kernelspec": {
   "display_name": "Python 3 (ipykernel)",
   "language": "python",
   "name": "python3"
  },
  "language_info": {
   "codemirror_mode": {
    "name": "ipython",
    "version": 3
   },
   "file_extension": ".py",
   "mimetype": "text/x-python",
   "name": "python",
   "nbconvert_exporter": "python",
   "pygments_lexer": "ipython3",
   "version": "3.11.7"
  }
 },
 "nbformat": 4,
 "nbformat_minor": 5
}
