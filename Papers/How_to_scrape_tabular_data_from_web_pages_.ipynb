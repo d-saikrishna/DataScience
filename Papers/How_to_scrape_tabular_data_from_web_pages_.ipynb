{
  "nbformat": 4,
  "nbformat_minor": 0,
  "metadata": {
    "colab": {
      "name": "How to scrape tabular data from web-pages?.ipynb",
      "provenance": []
    },
    "kernelspec": {
      "name": "python3",
      "display_name": "Python 3"
    }
  },
  "cells": [
    {
      "cell_type": "markdown",
      "metadata": {
        "id": "cObMeuKHB6ey",
        "colab_type": "text"
      },
      "source": [
        "# Learning Web-Scraping.\n",
        "There is no AI/Data Science without data and websites are the places where data is hosted in the digital age. Webscraping is thus a crucial skill to have. \n",
        "\n",
        "**Note:** Not every website allows you to scrape and may treat it as breach of terms of service. In such cases, you might loose access to the website. \n",
        "\n",
        "All credits to [Devakumar P](https://www.kaggle.com/imdevskp) who has actually written the code. This notebook aims at explaining the code to understand web scraping better.\n"
      ]
    },
    {
      "cell_type": "code",
      "metadata": {
        "id": "bcmdELjNDRcy",
        "colab_type": "code",
        "outputId": "8b200bf5-0db8-4255-b627-ccfa7149135e",
        "colab": {
          "base_uri": "https://localhost:8080/",
          "height": 34
        }
      },
      "source": [
        "# Required Libraries\n",
        "pip install beautifulsoup4"
      ],
      "execution_count": 15,
      "outputs": [
        {
          "output_type": "stream",
          "text": [
            "Requirement already satisfied: beautifulsoup4 in /usr/local/lib/python3.6/dist-packages (4.6.3)\n"
          ],
          "name": "stdout"
        }
      ]
    },
    {
      "cell_type": "code",
      "metadata": {
        "id": "IwP3G0jGBj7D",
        "colab_type": "code",
        "colab": {}
      },
      "source": [
        "# Importing required Libraries\n",
        "import requests\n",
        "from bs4 import BeautifulSoup"
      ],
      "execution_count": 0,
      "outputs": []
    },
    {
      "cell_type": "code",
      "metadata": {
        "id": "pLtZtkToEcaR",
        "colab_type": "code",
        "colab": {}
      },
      "source": [
        "#Saving required URL in a variable. \n",
        "req_url = \"https://www.mohfw.gov.in/\""
      ],
      "execution_count": 0,
      "outputs": []
    },
    {
      "cell_type": "code",
      "metadata": {
        "id": "8SUKNPFHFEsn",
        "colab_type": "code",
        "outputId": "62be0c50-68cc-4807-9180-6361cd06b0ce",
        "colab": {
          "base_uri": "https://localhost:8080/",
          "height": 34
        }
      },
      "source": [
        "#Pinging the URL and getting the response. \n",
        "res = requests.get(req_url)\n",
        "res"
      ],
      "execution_count": 18,
      "outputs": [
        {
          "output_type": "execute_result",
          "data": {
            "text/plain": [
              "<Response [200]>"
            ]
          },
          "metadata": {
            "tags": []
          },
          "execution_count": 18
        }
      ]
    },
    {
      "cell_type": "code",
      "metadata": {
        "id": "Z_fa1tGLFJGy",
        "colab_type": "code",
        "colab": {}
      },
      "source": [
        "# Creating an HTML parser. \n",
        "## All the data in a webpage is stored in tags. All these tags will now be extracted into the code window using the html parser\n",
        "### We will have to extract required data from these tags.\n",
        "html = BeautifulSoup(res.content, 'html.parser')\n",
        "html"
      ],
      "execution_count": 0,
      "outputs": []
    },
    {
      "cell_type": "markdown",
      "metadata": {
        "id": "AeYn-soTN2JM",
        "colab_type": "text"
      },
      "source": [
        "Now inspect the URL (Right Click => Inspect) to find the tag in which the data we need is stored. In the URL, there is only one table aout daily status of Corona cases. This is the data we need.  \n",
        "Refer to this [HTML tutorial](https://www.w3schools.com/tags/tag_thead.asp) to know how tables are stored on websites"
      ]
    },
    {
      "cell_type": "code",
      "metadata": {
        "id": "xJcYge90FLIf",
        "colab_type": "code",
        "colab": {
          "base_uri": "https://localhost:8080/",
          "height": 170
        },
        "outputId": "7f8c89e3-d1e6-41ec-f38f-eabacb9f82d4"
      },
      "source": [
        "# Extracting the table header\n",
        "thead = html.find_all('thead')\n",
        "thead"
      ],
      "execution_count": 26,
      "outputs": [
        {
          "output_type": "execute_result",
          "data": {
            "text/plain": [
              "[<thead>\n",
              " <tr>\n",
              " <th><strong>S. No.</strong></th>\n",
              " <th><strong>Name of State / UT</strong></th>\n",
              " <th><strong>Total Confirmed cases (Including 72 foreign Nationals) </strong></th>\n",
              " <th><strong>Cured/Discharged/<br/>Migrated</strong></th>\n",
              " <th><strong>Death</strong></th>\n",
              " </tr>\n",
              " </thead>]"
            ]
          },
          "metadata": {
            "tags": []
          },
          "execution_count": 26
        }
      ]
    },
    {
      "cell_type": "code",
      "metadata": {
        "id": "NOzmPJVPM445",
        "colab_type": "code",
        "colab": {
          "base_uri": "https://localhost:8080/",
          "height": 136
        },
        "outputId": "cfc0fabb-e8a8-4be9-fbbc-bc24d4fbfac8"
      },
      "source": [
        "# Select a table header and Extract the column names from a table header. \n",
        "## If you have referred the tutorial already, all cells of the table header are stored inside the tag <tr>\n",
        "head = thead[0].find_all('tr')\n",
        "head"
      ],
      "execution_count": 28,
      "outputs": [
        {
          "output_type": "execute_result",
          "data": {
            "text/plain": [
              "[<tr>\n",
              " <th><strong>S. No.</strong></th>\n",
              " <th><strong>Name of State / UT</strong></th>\n",
              " <th><strong>Total Confirmed cases (Including 72 foreign Nationals) </strong></th>\n",
              " <th><strong>Cured/Discharged/<br/>Migrated</strong></th>\n",
              " <th><strong>Death</strong></th>\n",
              " </tr>]"
            ]
          },
          "metadata": {
            "tags": []
          },
          "execution_count": 28
        }
      ]
    },
    {
      "cell_type": "code",
      "metadata": {
        "id": "Gc6cKKGxQTYf",
        "colab_type": "code",
        "colab": {
          "base_uri": "https://localhost:8080/",
          "height": 1000
        },
        "outputId": "fb4c0ece-9647-4393-e8c2-6f93134452c6"
      },
      "source": [
        "# Extracting all the table bodies in the URL\n",
        "tbody = html.find_all('tbody')\n",
        "tbody"
      ],
      "execution_count": 29,
      "outputs": [
        {
          "output_type": "execute_result",
          "data": {
            "text/plain": [
              "[<tbody>\n",
              " <tr>\n",
              " <td>1</td>\n",
              " <td>Andhra Pradesh</td>\n",
              " <td>427</td>\n",
              " <td>11</td>\n",
              " <td>7</td>\n",
              " </tr>\n",
              " <tr>\n",
              " <td>2</td>\n",
              " <td>Andaman and Nicobar Islands</td>\n",
              " <td>11</td>\n",
              " <td>10</td>\n",
              " <td>0</td>\n",
              " </tr>\n",
              " <tr>\n",
              " <td>3</td>\n",
              " <td>Arunachal Pradesh</td>\n",
              " <td>1</td>\n",
              " <td>0</td>\n",
              " <td>0</td>\n",
              " </tr>\n",
              " <tr>\n",
              " <td>4</td>\n",
              " <td>Assam</td>\n",
              " <td>29</td>\n",
              " <td>0</td>\n",
              " <td>1</td>\n",
              " </tr>\n",
              " <tr>\n",
              " <td>5</td>\n",
              " <td>Bihar</td>\n",
              " <td>64</td>\n",
              " <td>19</td>\n",
              " <td>1</td>\n",
              " </tr>\n",
              " <tr>\n",
              " <td>6</td>\n",
              " <td>Chandigarh</td>\n",
              " <td>21</td>\n",
              " <td>7</td>\n",
              " <td>0</td>\n",
              " </tr>\n",
              " <tr>\n",
              " <td>7</td>\n",
              " <td>Chhattisgarh</td>\n",
              " <td>31</td>\n",
              " <td>10</td>\n",
              " <td>0</td>\n",
              " </tr>\n",
              " <tr>\n",
              " <td>8</td>\n",
              " <td>Delhi</td>\n",
              " <td>1154</td>\n",
              " <td>27</td>\n",
              " <td>24</td>\n",
              " </tr>\n",
              " <tr>\n",
              " <td>9</td>\n",
              " <td>Goa</td>\n",
              " <td>7</td>\n",
              " <td>5</td>\n",
              " <td>0</td>\n",
              " </tr>\n",
              " <tr>\n",
              " <td>10</td>\n",
              " <td>Gujarat</td>\n",
              " <td>516</td>\n",
              " <td>44</td>\n",
              " <td>25</td>\n",
              " </tr>\n",
              " <tr>\n",
              " <td>11</td>\n",
              " <td>Haryana</td>\n",
              " <td>185</td>\n",
              " <td>29</td>\n",
              " <td>3</td>\n",
              " </tr>\n",
              " <tr>\n",
              " <td>12</td>\n",
              " <td>Himachal Pradesh</td>\n",
              " <td>32</td>\n",
              " <td>13</td>\n",
              " <td>1</td>\n",
              " </tr>\n",
              " <tr>\n",
              " <td>13</td>\n",
              " <td>Jammu and Kashmir</td>\n",
              " <td>245</td>\n",
              " <td>6</td>\n",
              " <td>4</td>\n",
              " </tr>\n",
              " <tr>\n",
              " <td>14</td>\n",
              " <td>Jharkhand</td>\n",
              " <td>19</td>\n",
              " <td>0</td>\n",
              " <td>2</td>\n",
              " </tr>\n",
              " <tr>\n",
              " <td>15</td>\n",
              " <td>Karnataka</td>\n",
              " <td>232</td>\n",
              " <td>57</td>\n",
              " <td>6</td>\n",
              " </tr>\n",
              " <tr>\n",
              " <td>16</td>\n",
              " <td>Kerala</td>\n",
              " <td>376</td>\n",
              " <td>179</td>\n",
              " <td>2</td>\n",
              " </tr>\n",
              " <tr>\n",
              " <td>17</td>\n",
              " <td>Ladakh</td>\n",
              " <td>15</td>\n",
              " <td>10</td>\n",
              " <td>0</td>\n",
              " </tr>\n",
              " <tr>\n",
              " <td>18</td>\n",
              " <td>Madhya Pradesh</td>\n",
              " <td>564</td>\n",
              " <td>0</td>\n",
              " <td>36</td>\n",
              " </tr>\n",
              " <tr>\n",
              " <td>19</td>\n",
              " <td>Maharashtra</td>\n",
              " <td>1985</td>\n",
              " <td>217</td>\n",
              " <td>149</td>\n",
              " </tr>\n",
              " <tr>\n",
              " <td>20</td>\n",
              " <td>Manipur</td>\n",
              " <td>2</td>\n",
              " <td>1</td>\n",
              " <td>0</td>\n",
              " </tr>\n",
              " <tr>\n",
              " <td>21</td>\n",
              " <td>Mizoram</td>\n",
              " <td>1</td>\n",
              " <td>0</td>\n",
              " <td>0</td>\n",
              " </tr>\n",
              " <tr>\n",
              " <td>22</td>\n",
              " <td>Odisha</td>\n",
              " <td>54</td>\n",
              " <td>12</td>\n",
              " <td>1</td>\n",
              " </tr>\n",
              " <tr>\n",
              " <td>23</td>\n",
              " <td>Puducherry</td>\n",
              " <td>7</td>\n",
              " <td>1</td>\n",
              " <td>0</td>\n",
              " </tr>\n",
              " <tr>\n",
              " <td>24</td>\n",
              " <td>Punjab</td>\n",
              " <td>151</td>\n",
              " <td>5</td>\n",
              " <td>11</td>\n",
              " </tr>\n",
              " <tr>\n",
              " <td>25</td>\n",
              " <td>Rajasthan</td>\n",
              " <td>804</td>\n",
              " <td>21</td>\n",
              " <td>3</td>\n",
              " </tr>\n",
              " <tr>\n",
              " <td>26</td>\n",
              " <td>Tamil Nadu</td>\n",
              " <td>1043</td>\n",
              " <td>50</td>\n",
              " <td>11</td>\n",
              " </tr>\n",
              " <tr>\n",
              " <td>27</td>\n",
              " <td>Telengana</td>\n",
              " <td>504</td>\n",
              " <td>43</td>\n",
              " <td>9</td>\n",
              " </tr>\n",
              " <tr>\n",
              " <td>28</td>\n",
              " <td>Tripura</td>\n",
              " <td>2</td>\n",
              " <td>0</td>\n",
              " <td>0</td>\n",
              " </tr>\n",
              " <tr>\n",
              " <td>29</td>\n",
              " <td>Uttarakhand</td>\n",
              " <td>35</td>\n",
              " <td>5</td>\n",
              " <td>0</td>\n",
              " </tr>\n",
              " <tr>\n",
              " <td>30</td>\n",
              " <td>Uttar Pradesh</td>\n",
              " <td>483</td>\n",
              " <td>46</td>\n",
              " <td>5</td>\n",
              " </tr>\n",
              " <tr>\n",
              " <td>31</td>\n",
              " <td>West Bengal</td>\n",
              " <td>152</td>\n",
              " <td>29</td>\n",
              " <td>7</td>\n",
              " </tr>\n",
              " <tr>\n",
              " <td colspan=\"2\"><strong><span align=\"centre\">Total number of confirmed cases in India</span></strong></td>\n",
              " <td align=\"centre\"><strong>9152*</strong></td>\n",
              " <td>\n",
              " <strong>857</strong>\n",
              " </td>\n",
              " <td>\n",
              " <strong>308</strong>\n",
              " </td>\n",
              " </tr>\n",
              " <tr>\n",
              " <td colspan=\"5\"><strong>*States wise distribution is subject to further verification and reconciliation</strong></td>\n",
              " </tr>\n",
              " </tbody>]"
            ]
          },
          "metadata": {
            "tags": []
          },
          "execution_count": 29
        }
      ]
    },
    {
      "cell_type": "code",
      "metadata": {
        "id": "sehk-dGZRE-u",
        "colab_type": "code",
        "colab": {
          "base_uri": "https://localhost:8080/",
          "height": 1000
        },
        "outputId": "396ebd41-483b-4d90-ce87-d28f739d36f2"
      },
      "source": [
        "# In the table body, each table row is stored inside a <tr> tag. \n",
        "## So we will select a table body and then extract all the rows from it/\n",
        "body = tbody[0].find_all('tr')\n",
        "body"
      ],
      "execution_count": 31,
      "outputs": [
        {
          "output_type": "execute_result",
          "data": {
            "text/plain": [
              "[<tr>\n",
              " <td>1</td>\n",
              " <td>Andhra Pradesh</td>\n",
              " <td>427</td>\n",
              " <td>11</td>\n",
              " <td>7</td>\n",
              " </tr>, <tr>\n",
              " <td>2</td>\n",
              " <td>Andaman and Nicobar Islands</td>\n",
              " <td>11</td>\n",
              " <td>10</td>\n",
              " <td>0</td>\n",
              " </tr>, <tr>\n",
              " <td>3</td>\n",
              " <td>Arunachal Pradesh</td>\n",
              " <td>1</td>\n",
              " <td>0</td>\n",
              " <td>0</td>\n",
              " </tr>, <tr>\n",
              " <td>4</td>\n",
              " <td>Assam</td>\n",
              " <td>29</td>\n",
              " <td>0</td>\n",
              " <td>1</td>\n",
              " </tr>, <tr>\n",
              " <td>5</td>\n",
              " <td>Bihar</td>\n",
              " <td>64</td>\n",
              " <td>19</td>\n",
              " <td>1</td>\n",
              " </tr>, <tr>\n",
              " <td>6</td>\n",
              " <td>Chandigarh</td>\n",
              " <td>21</td>\n",
              " <td>7</td>\n",
              " <td>0</td>\n",
              " </tr>, <tr>\n",
              " <td>7</td>\n",
              " <td>Chhattisgarh</td>\n",
              " <td>31</td>\n",
              " <td>10</td>\n",
              " <td>0</td>\n",
              " </tr>, <tr>\n",
              " <td>8</td>\n",
              " <td>Delhi</td>\n",
              " <td>1154</td>\n",
              " <td>27</td>\n",
              " <td>24</td>\n",
              " </tr>, <tr>\n",
              " <td>9</td>\n",
              " <td>Goa</td>\n",
              " <td>7</td>\n",
              " <td>5</td>\n",
              " <td>0</td>\n",
              " </tr>, <tr>\n",
              " <td>10</td>\n",
              " <td>Gujarat</td>\n",
              " <td>516</td>\n",
              " <td>44</td>\n",
              " <td>25</td>\n",
              " </tr>, <tr>\n",
              " <td>11</td>\n",
              " <td>Haryana</td>\n",
              " <td>185</td>\n",
              " <td>29</td>\n",
              " <td>3</td>\n",
              " </tr>, <tr>\n",
              " <td>12</td>\n",
              " <td>Himachal Pradesh</td>\n",
              " <td>32</td>\n",
              " <td>13</td>\n",
              " <td>1</td>\n",
              " </tr>, <tr>\n",
              " <td>13</td>\n",
              " <td>Jammu and Kashmir</td>\n",
              " <td>245</td>\n",
              " <td>6</td>\n",
              " <td>4</td>\n",
              " </tr>, <tr>\n",
              " <td>14</td>\n",
              " <td>Jharkhand</td>\n",
              " <td>19</td>\n",
              " <td>0</td>\n",
              " <td>2</td>\n",
              " </tr>, <tr>\n",
              " <td>15</td>\n",
              " <td>Karnataka</td>\n",
              " <td>232</td>\n",
              " <td>57</td>\n",
              " <td>6</td>\n",
              " </tr>, <tr>\n",
              " <td>16</td>\n",
              " <td>Kerala</td>\n",
              " <td>376</td>\n",
              " <td>179</td>\n",
              " <td>2</td>\n",
              " </tr>, <tr>\n",
              " <td>17</td>\n",
              " <td>Ladakh</td>\n",
              " <td>15</td>\n",
              " <td>10</td>\n",
              " <td>0</td>\n",
              " </tr>, <tr>\n",
              " <td>18</td>\n",
              " <td>Madhya Pradesh</td>\n",
              " <td>564</td>\n",
              " <td>0</td>\n",
              " <td>36</td>\n",
              " </tr>, <tr>\n",
              " <td>19</td>\n",
              " <td>Maharashtra</td>\n",
              " <td>1985</td>\n",
              " <td>217</td>\n",
              " <td>149</td>\n",
              " </tr>, <tr>\n",
              " <td>20</td>\n",
              " <td>Manipur</td>\n",
              " <td>2</td>\n",
              " <td>1</td>\n",
              " <td>0</td>\n",
              " </tr>, <tr>\n",
              " <td>21</td>\n",
              " <td>Mizoram</td>\n",
              " <td>1</td>\n",
              " <td>0</td>\n",
              " <td>0</td>\n",
              " </tr>, <tr>\n",
              " <td>22</td>\n",
              " <td>Odisha</td>\n",
              " <td>54</td>\n",
              " <td>12</td>\n",
              " <td>1</td>\n",
              " </tr>, <tr>\n",
              " <td>23</td>\n",
              " <td>Puducherry</td>\n",
              " <td>7</td>\n",
              " <td>1</td>\n",
              " <td>0</td>\n",
              " </tr>, <tr>\n",
              " <td>24</td>\n",
              " <td>Punjab</td>\n",
              " <td>151</td>\n",
              " <td>5</td>\n",
              " <td>11</td>\n",
              " </tr>, <tr>\n",
              " <td>25</td>\n",
              " <td>Rajasthan</td>\n",
              " <td>804</td>\n",
              " <td>21</td>\n",
              " <td>3</td>\n",
              " </tr>, <tr>\n",
              " <td>26</td>\n",
              " <td>Tamil Nadu</td>\n",
              " <td>1043</td>\n",
              " <td>50</td>\n",
              " <td>11</td>\n",
              " </tr>, <tr>\n",
              " <td>27</td>\n",
              " <td>Telengana</td>\n",
              " <td>504</td>\n",
              " <td>43</td>\n",
              " <td>9</td>\n",
              " </tr>, <tr>\n",
              " <td>28</td>\n",
              " <td>Tripura</td>\n",
              " <td>2</td>\n",
              " <td>0</td>\n",
              " <td>0</td>\n",
              " </tr>, <tr>\n",
              " <td>29</td>\n",
              " <td>Uttarakhand</td>\n",
              " <td>35</td>\n",
              " <td>5</td>\n",
              " <td>0</td>\n",
              " </tr>, <tr>\n",
              " <td>30</td>\n",
              " <td>Uttar Pradesh</td>\n",
              " <td>483</td>\n",
              " <td>46</td>\n",
              " <td>5</td>\n",
              " </tr>, <tr>\n",
              " <td>31</td>\n",
              " <td>West Bengal</td>\n",
              " <td>152</td>\n",
              " <td>29</td>\n",
              " <td>7</td>\n",
              " </tr>, <tr>\n",
              " <td colspan=\"2\"><strong><span align=\"centre\">Total number of confirmed cases in India</span></strong></td>\n",
              " <td align=\"centre\"><strong>9152*</strong></td>\n",
              " <td>\n",
              " <strong>857</strong>\n",
              " </td>\n",
              " <td>\n",
              " <strong>308</strong>\n",
              " </td>\n",
              " </tr>, <tr>\n",
              " <td colspan=\"5\"><strong>*States wise distribution is subject to further verification and reconciliation</strong></td>\n",
              " </tr>]"
            ]
          },
          "metadata": {
            "tags": []
          },
          "execution_count": 31
        }
      ]
    },
    {
      "cell_type": "markdown",
      "metadata": {
        "id": "cikrtrKBR_Z2",
        "colab_type": "text"
      },
      "source": [
        "So far, we have extracted HTML tags of the required tabular data. Next, we will convert it into Python data formats so that we can analyse them further.\n"
      ]
    },
    {
      "cell_type": "code",
      "metadata": {
        "id": "ESVaN_uRSPQ0",
        "colab_type": "code",
        "colab": {
          "base_uri": "https://localhost:8080/",
          "height": 102
        },
        "outputId": "ab6d6ff0-60a0-4583-e5a7-8d2d9ff016c5"
      },
      "source": [
        "head_rows = []\n",
        "for tr in head:\n",
        "  # Inside each <tr>, each cell information is stored in either <th> or <td> tags. We will first extract all the cell level tags in a <tr> and store it in 'td'\n",
        "  td = tr.find_all(['th', 'td'])\n",
        "  # From each cell level tag 'td', we will extract the information as a string and store it as a list.   \n",
        "  row = [i.text for i in td]\n",
        "  head_rows.append(row)\n",
        "head_rows"
      ],
      "execution_count": 35,
      "outputs": [
        {
          "output_type": "execute_result",
          "data": {
            "text/plain": [
              "[['S. No.',\n",
              "  'Name of State / UT',\n",
              "  'Total Confirmed cases (Including 72 foreign Nationals) ',\n",
              "  'Cured/Discharged/Migrated',\n",
              "  'Death']]"
            ]
          },
          "metadata": {
            "tags": []
          },
          "execution_count": 35
        }
      ]
    },
    {
      "cell_type": "markdown",
      "metadata": {
        "id": "ZRSf1nPdT3MI",
        "colab_type": "text"
      },
      "source": [
        "Similarly, we will repeat the operation for all the rows in table body."
      ]
    },
    {
      "cell_type": "code",
      "metadata": {
        "id": "SEbPWTGeT8It",
        "colab_type": "code",
        "colab": {
          "base_uri": "https://localhost:8080/",
          "height": 578
        },
        "outputId": "130cf74c-cd62-4256-d6f0-ff2860cddbcd"
      },
      "source": [
        "body_rows = []\n",
        "for tr in body:\n",
        "  # Inside each <tr>, each cell information is stored in either <th> or <td> tags. We will first extract all the cell level tags in a <tr> and store it in 'td'\n",
        "  td = tr.find_all(['th', 'td'])\n",
        "  # From each cell level tag 'td', we will extract the information as a string and store it as a list.   \n",
        "  row = [i.text for i in td]\n",
        "  body_rows.append(row)\n",
        "body_rows"
      ],
      "execution_count": 37,
      "outputs": [
        {
          "output_type": "execute_result",
          "data": {
            "text/plain": [
              "[['1', 'Andhra Pradesh', '427', '11', '7'],\n",
              " ['2', 'Andaman and Nicobar Islands', '11', '10', '0'],\n",
              " ['3', 'Arunachal Pradesh', '1', '0', '0'],\n",
              " ['4', 'Assam', '29', '0', '1'],\n",
              " ['5', 'Bihar', '64', '19', '1'],\n",
              " ['6', 'Chandigarh', '21', '7', '0'],\n",
              " ['7', 'Chhattisgarh', '31', '10', '0'],\n",
              " ['8', 'Delhi', '1154', '27', '24'],\n",
              " ['9', 'Goa', '7', '5', '0'],\n",
              " ['10', 'Gujarat', '516', '44', '25'],\n",
              " ['11', 'Haryana', '185', '29', '3'],\n",
              " ['12', 'Himachal Pradesh', '32', '13', '1'],\n",
              " ['13', 'Jammu and Kashmir', '245', '6', '4'],\n",
              " ['14', 'Jharkhand', '19', '0', '2'],\n",
              " ['15', 'Karnataka', '232', '57', '6'],\n",
              " ['16', 'Kerala', '376', '179', '2'],\n",
              " ['17', 'Ladakh', '15', '10', '0'],\n",
              " ['18', 'Madhya Pradesh', '564', '0', '36'],\n",
              " ['19', 'Maharashtra', '1985', '217', '149'],\n",
              " ['20', 'Manipur', '2', '1', '0'],\n",
              " ['21', 'Mizoram', '1', '0', '0'],\n",
              " ['22', 'Odisha', '54', '12', '1'],\n",
              " ['23', 'Puducherry', '7', '1', '0'],\n",
              " ['24', 'Punjab', '151', '5', '11'],\n",
              " ['25', 'Rajasthan', '804', '21', '3'],\n",
              " ['26', 'Tamil Nadu', '1043', '50', '11'],\n",
              " ['27', 'Telengana', '504', '43', '9'],\n",
              " ['28', 'Tripura', '2', '0', '0'],\n",
              " ['29', 'Uttarakhand', '35', '5', '0'],\n",
              " ['30', 'Uttar Pradesh', '483', '46', '5'],\n",
              " ['31', 'West Bengal', '152', '29', '7'],\n",
              " ['Total number of confirmed cases in India', '9152*', '\\n857\\n', '\\n308\\n'],\n",
              " ['*States wise distribution is subject to further verification and reconciliation']]"
            ]
          },
          "metadata": {
            "tags": []
          },
          "execution_count": 37
        }
      ]
    },
    {
      "cell_type": "markdown",
      "metadata": {
        "id": "QHeBLTt6UXHQ",
        "colab_type": "text"
      },
      "source": [
        "Use both these lists to create the data frame."
      ]
    },
    {
      "cell_type": "code",
      "metadata": {
        "id": "ajfR1_psUkBV",
        "colab_type": "code",
        "colab": {}
      },
      "source": [
        "import pandas as pd"
      ],
      "execution_count": 0,
      "outputs": []
    },
    {
      "cell_type": "code",
      "metadata": {
        "id": "zVqJpP22UaPk",
        "colab_type": "code",
        "colab": {
          "base_uri": "https://localhost:8080/",
          "height": 1000
        },
        "outputId": "ac9de68d-815d-4cb5-b491-24a703e063a5"
      },
      "source": [
        "df = pd.DataFrame(body_rows[:len(body_rows)-2], columns=head_rows[0])\n",
        "df"
      ],
      "execution_count": 40,
      "outputs": [
        {
          "output_type": "execute_result",
          "data": {
            "text/html": [
              "<div>\n",
              "<style scoped>\n",
              "    .dataframe tbody tr th:only-of-type {\n",
              "        vertical-align: middle;\n",
              "    }\n",
              "\n",
              "    .dataframe tbody tr th {\n",
              "        vertical-align: top;\n",
              "    }\n",
              "\n",
              "    .dataframe thead th {\n",
              "        text-align: right;\n",
              "    }\n",
              "</style>\n",
              "<table border=\"1\" class=\"dataframe\">\n",
              "  <thead>\n",
              "    <tr style=\"text-align: right;\">\n",
              "      <th></th>\n",
              "      <th>S. No.</th>\n",
              "      <th>Name of State / UT</th>\n",
              "      <th>Total Confirmed cases (Including 72 foreign Nationals)</th>\n",
              "      <th>Cured/Discharged/Migrated</th>\n",
              "      <th>Death</th>\n",
              "    </tr>\n",
              "  </thead>\n",
              "  <tbody>\n",
              "    <tr>\n",
              "      <th>0</th>\n",
              "      <td>1</td>\n",
              "      <td>Andhra Pradesh</td>\n",
              "      <td>427</td>\n",
              "      <td>11</td>\n",
              "      <td>7</td>\n",
              "    </tr>\n",
              "    <tr>\n",
              "      <th>1</th>\n",
              "      <td>2</td>\n",
              "      <td>Andaman and Nicobar Islands</td>\n",
              "      <td>11</td>\n",
              "      <td>10</td>\n",
              "      <td>0</td>\n",
              "    </tr>\n",
              "    <tr>\n",
              "      <th>2</th>\n",
              "      <td>3</td>\n",
              "      <td>Arunachal Pradesh</td>\n",
              "      <td>1</td>\n",
              "      <td>0</td>\n",
              "      <td>0</td>\n",
              "    </tr>\n",
              "    <tr>\n",
              "      <th>3</th>\n",
              "      <td>4</td>\n",
              "      <td>Assam</td>\n",
              "      <td>29</td>\n",
              "      <td>0</td>\n",
              "      <td>1</td>\n",
              "    </tr>\n",
              "    <tr>\n",
              "      <th>4</th>\n",
              "      <td>5</td>\n",
              "      <td>Bihar</td>\n",
              "      <td>64</td>\n",
              "      <td>19</td>\n",
              "      <td>1</td>\n",
              "    </tr>\n",
              "    <tr>\n",
              "      <th>5</th>\n",
              "      <td>6</td>\n",
              "      <td>Chandigarh</td>\n",
              "      <td>21</td>\n",
              "      <td>7</td>\n",
              "      <td>0</td>\n",
              "    </tr>\n",
              "    <tr>\n",
              "      <th>6</th>\n",
              "      <td>7</td>\n",
              "      <td>Chhattisgarh</td>\n",
              "      <td>31</td>\n",
              "      <td>10</td>\n",
              "      <td>0</td>\n",
              "    </tr>\n",
              "    <tr>\n",
              "      <th>7</th>\n",
              "      <td>8</td>\n",
              "      <td>Delhi</td>\n",
              "      <td>1154</td>\n",
              "      <td>27</td>\n",
              "      <td>24</td>\n",
              "    </tr>\n",
              "    <tr>\n",
              "      <th>8</th>\n",
              "      <td>9</td>\n",
              "      <td>Goa</td>\n",
              "      <td>7</td>\n",
              "      <td>5</td>\n",
              "      <td>0</td>\n",
              "    </tr>\n",
              "    <tr>\n",
              "      <th>9</th>\n",
              "      <td>10</td>\n",
              "      <td>Gujarat</td>\n",
              "      <td>516</td>\n",
              "      <td>44</td>\n",
              "      <td>25</td>\n",
              "    </tr>\n",
              "    <tr>\n",
              "      <th>10</th>\n",
              "      <td>11</td>\n",
              "      <td>Haryana</td>\n",
              "      <td>185</td>\n",
              "      <td>29</td>\n",
              "      <td>3</td>\n",
              "    </tr>\n",
              "    <tr>\n",
              "      <th>11</th>\n",
              "      <td>12</td>\n",
              "      <td>Himachal Pradesh</td>\n",
              "      <td>32</td>\n",
              "      <td>13</td>\n",
              "      <td>1</td>\n",
              "    </tr>\n",
              "    <tr>\n",
              "      <th>12</th>\n",
              "      <td>13</td>\n",
              "      <td>Jammu and Kashmir</td>\n",
              "      <td>245</td>\n",
              "      <td>6</td>\n",
              "      <td>4</td>\n",
              "    </tr>\n",
              "    <tr>\n",
              "      <th>13</th>\n",
              "      <td>14</td>\n",
              "      <td>Jharkhand</td>\n",
              "      <td>19</td>\n",
              "      <td>0</td>\n",
              "      <td>2</td>\n",
              "    </tr>\n",
              "    <tr>\n",
              "      <th>14</th>\n",
              "      <td>15</td>\n",
              "      <td>Karnataka</td>\n",
              "      <td>232</td>\n",
              "      <td>57</td>\n",
              "      <td>6</td>\n",
              "    </tr>\n",
              "    <tr>\n",
              "      <th>15</th>\n",
              "      <td>16</td>\n",
              "      <td>Kerala</td>\n",
              "      <td>376</td>\n",
              "      <td>179</td>\n",
              "      <td>2</td>\n",
              "    </tr>\n",
              "    <tr>\n",
              "      <th>16</th>\n",
              "      <td>17</td>\n",
              "      <td>Ladakh</td>\n",
              "      <td>15</td>\n",
              "      <td>10</td>\n",
              "      <td>0</td>\n",
              "    </tr>\n",
              "    <tr>\n",
              "      <th>17</th>\n",
              "      <td>18</td>\n",
              "      <td>Madhya Pradesh</td>\n",
              "      <td>564</td>\n",
              "      <td>0</td>\n",
              "      <td>36</td>\n",
              "    </tr>\n",
              "    <tr>\n",
              "      <th>18</th>\n",
              "      <td>19</td>\n",
              "      <td>Maharashtra</td>\n",
              "      <td>1985</td>\n",
              "      <td>217</td>\n",
              "      <td>149</td>\n",
              "    </tr>\n",
              "    <tr>\n",
              "      <th>19</th>\n",
              "      <td>20</td>\n",
              "      <td>Manipur</td>\n",
              "      <td>2</td>\n",
              "      <td>1</td>\n",
              "      <td>0</td>\n",
              "    </tr>\n",
              "    <tr>\n",
              "      <th>20</th>\n",
              "      <td>21</td>\n",
              "      <td>Mizoram</td>\n",
              "      <td>1</td>\n",
              "      <td>0</td>\n",
              "      <td>0</td>\n",
              "    </tr>\n",
              "    <tr>\n",
              "      <th>21</th>\n",
              "      <td>22</td>\n",
              "      <td>Odisha</td>\n",
              "      <td>54</td>\n",
              "      <td>12</td>\n",
              "      <td>1</td>\n",
              "    </tr>\n",
              "    <tr>\n",
              "      <th>22</th>\n",
              "      <td>23</td>\n",
              "      <td>Puducherry</td>\n",
              "      <td>7</td>\n",
              "      <td>1</td>\n",
              "      <td>0</td>\n",
              "    </tr>\n",
              "    <tr>\n",
              "      <th>23</th>\n",
              "      <td>24</td>\n",
              "      <td>Punjab</td>\n",
              "      <td>151</td>\n",
              "      <td>5</td>\n",
              "      <td>11</td>\n",
              "    </tr>\n",
              "    <tr>\n",
              "      <th>24</th>\n",
              "      <td>25</td>\n",
              "      <td>Rajasthan</td>\n",
              "      <td>804</td>\n",
              "      <td>21</td>\n",
              "      <td>3</td>\n",
              "    </tr>\n",
              "    <tr>\n",
              "      <th>25</th>\n",
              "      <td>26</td>\n",
              "      <td>Tamil Nadu</td>\n",
              "      <td>1043</td>\n",
              "      <td>50</td>\n",
              "      <td>11</td>\n",
              "    </tr>\n",
              "    <tr>\n",
              "      <th>26</th>\n",
              "      <td>27</td>\n",
              "      <td>Telengana</td>\n",
              "      <td>504</td>\n",
              "      <td>43</td>\n",
              "      <td>9</td>\n",
              "    </tr>\n",
              "    <tr>\n",
              "      <th>27</th>\n",
              "      <td>28</td>\n",
              "      <td>Tripura</td>\n",
              "      <td>2</td>\n",
              "      <td>0</td>\n",
              "      <td>0</td>\n",
              "    </tr>\n",
              "    <tr>\n",
              "      <th>28</th>\n",
              "      <td>29</td>\n",
              "      <td>Uttarakhand</td>\n",
              "      <td>35</td>\n",
              "      <td>5</td>\n",
              "      <td>0</td>\n",
              "    </tr>\n",
              "    <tr>\n",
              "      <th>29</th>\n",
              "      <td>30</td>\n",
              "      <td>Uttar Pradesh</td>\n",
              "      <td>483</td>\n",
              "      <td>46</td>\n",
              "      <td>5</td>\n",
              "    </tr>\n",
              "    <tr>\n",
              "      <th>30</th>\n",
              "      <td>31</td>\n",
              "      <td>West Bengal</td>\n",
              "      <td>152</td>\n",
              "      <td>29</td>\n",
              "      <td>7</td>\n",
              "    </tr>\n",
              "  </tbody>\n",
              "</table>\n",
              "</div>"
            ],
            "text/plain": [
              "   S. No.           Name of State / UT  ... Cured/Discharged/Migrated Death\n",
              "0       1               Andhra Pradesh  ...                        11     7\n",
              "1       2  Andaman and Nicobar Islands  ...                        10     0\n",
              "2       3            Arunachal Pradesh  ...                         0     0\n",
              "3       4                        Assam  ...                         0     1\n",
              "4       5                        Bihar  ...                        19     1\n",
              "5       6                   Chandigarh  ...                         7     0\n",
              "6       7                 Chhattisgarh  ...                        10     0\n",
              "7       8                        Delhi  ...                        27    24\n",
              "8       9                          Goa  ...                         5     0\n",
              "9      10                      Gujarat  ...                        44    25\n",
              "10     11                      Haryana  ...                        29     3\n",
              "11     12             Himachal Pradesh  ...                        13     1\n",
              "12     13            Jammu and Kashmir  ...                         6     4\n",
              "13     14                    Jharkhand  ...                         0     2\n",
              "14     15                    Karnataka  ...                        57     6\n",
              "15     16                       Kerala  ...                       179     2\n",
              "16     17                       Ladakh  ...                        10     0\n",
              "17     18               Madhya Pradesh  ...                         0    36\n",
              "18     19                  Maharashtra  ...                       217   149\n",
              "19     20                      Manipur  ...                         1     0\n",
              "20     21                      Mizoram  ...                         0     0\n",
              "21     22                       Odisha  ...                        12     1\n",
              "22     23                   Puducherry  ...                         1     0\n",
              "23     24                       Punjab  ...                         5    11\n",
              "24     25                    Rajasthan  ...                        21     3\n",
              "25     26                   Tamil Nadu  ...                        50    11\n",
              "26     27                    Telengana  ...                        43     9\n",
              "27     28                      Tripura  ...                         0     0\n",
              "28     29                  Uttarakhand  ...                         5     0\n",
              "29     30                Uttar Pradesh  ...                        46     5\n",
              "30     31                  West Bengal  ...                        29     7\n",
              "\n",
              "[31 rows x 5 columns]"
            ]
          },
          "metadata": {
            "tags": []
          },
          "execution_count": 40
        }
      ]
    },
    {
      "cell_type": "code",
      "metadata": {
        "id": "ax7Ym8TeVyMO",
        "colab_type": "code",
        "colab": {}
      },
      "source": [
        "now  = datetime.now()\n",
        "#df_bs['Date'] =  "
      ],
      "execution_count": 0,
      "outputs": []
    },
    {
      "cell_type": "code",
      "metadata": {
        "id": "0bO3JXGvVzcf",
        "colab_type": "code",
        "colab": {}
      },
      "source": [
        "from datetime import datetime\n"
      ],
      "execution_count": 0,
      "outputs": []
    },
    {
      "cell_type": "code",
      "metadata": {
        "id": "383VHCSnV1Ku",
        "colab_type": "code",
        "colab": {
          "base_uri": "https://localhost:8080/",
          "height": 34
        },
        "outputId": "18d81432-38bb-4eae-e1d7-07f1e3c9fa7c"
      },
      "source": [
        "now"
      ],
      "execution_count": 46,
      "outputs": [
        {
          "output_type": "execute_result",
          "data": {
            "text/plain": [
              "datetime.datetime(2020, 4, 13, 7, 1, 28, 338612)"
            ]
          },
          "metadata": {
            "tags": []
          },
          "execution_count": 46
        }
      ]
    },
    {
      "cell_type": "code",
      "metadata": {
        "id": "PDVnKRLBV9_G",
        "colab_type": "code",
        "colab": {
          "base_uri": "https://localhost:8080/",
          "height": 34
        },
        "outputId": "b6e283e8-3527-4157-eeb4-fcc7c120d1b5"
      },
      "source": [
        "now.strftime(\"%m/%d/%Y\")"
      ],
      "execution_count": 47,
      "outputs": [
        {
          "output_type": "execute_result",
          "data": {
            "text/plain": [
              "'04/13/2020'"
            ]
          },
          "metadata": {
            "tags": []
          },
          "execution_count": 47
        }
      ]
    },
    {
      "cell_type": "code",
      "metadata": {
        "id": "whvha_mkWGR0",
        "colab_type": "code",
        "colab": {}
      },
      "source": [
        ""
      ],
      "execution_count": 0,
      "outputs": []
    }
  ]
}