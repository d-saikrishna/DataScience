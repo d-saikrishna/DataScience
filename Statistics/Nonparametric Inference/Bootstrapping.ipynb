{
 "cells": [
  {
   "cell_type": "markdown",
   "id": "f0a872ce",
   "metadata": {},
   "source": [
    "# Bootstrapping\n",
    "You conducted an experiment and got values. But is that the true value? You cannot confidently say it. You would want to conduct the experiment multiple times, in different scenarios to go close to the true value. But [India's expenditure on RnD is among the lowest in the world.](https://economictimes.indiatimes.com/news/india/indias-rd-spends-amongst-the-lowest-in-the-world-niti-aayog-study/articleshow/93024586.cms?from=mdr). You don't have enough money to conduct many experiments. And hence, you take help of Statisitics. Because, [Indians are good at math](https://www.hindustantimes.com/india-news/indians-are-so-good-at-mathematics-and-physics-when-stephen-hawking-came-to-india/story-qeRRbpPJK15LCHsNEKWiLK.html).\n",
    "\n",
    "`Bootstrapping is a statistical method in which we resample the original sample to calculate any stat with more confidence.`\n",
    "\n",
    "## Steps of bootstrapping\n",
    "1. Make a `bookstrapped dataset` from the original dataset.\n",
    "2. Calculate something with the bootsrapped dataset (mean, median, SD)\n",
    "3. Keep track of the calculation. (histogram)\n",
    "4. Repeat 1,2,3\n",
    "\n",
    "## Bootstrapped dataset:\n",
    "Perform `Sampling with replacement` on the original dataset. The size of the bootsrapped dataset will be the same as the original dataset.\n",
    "\n",
    "Use the histogram to calculate the SE and CI of the required statistic (mean, median .. )\n",
    "\n",
    "## Use-cases:\n",
    "1. `Hypothesis testing`\n",
    "2. `It helps in estimating the underlying distribution.` (look at the histogram)"
   ]
  },
  {
   "cell_type": "code",
   "execution_count": 1,
   "id": "72280a0d",
   "metadata": {},
   "outputs": [],
   "source": [
    "data = [2,4,9,12]"
   ]
  },
  {
   "cell_type": "code",
   "execution_count": 2,
   "id": "80a9f4e9",
   "metadata": {},
   "outputs": [],
   "source": [
    "from scipy.stats import bootstrap\n",
    "import numpy as np\n",
    "import matplotlib.pyplot as plt\n",
    "import seaborn as sns\n",
    "\n",
    "#convert array to sequence\n",
    "data = (data,)\n",
    "\n",
    "#calculate 95% bootstrap for mean\n",
    "bootstraped = bootstrap(data, np.mean, confidence_level=0.95,\n",
    "                         random_state=111, method='percentile')"
   ]
  },
  {
   "cell_type": "code",
   "execution_count": 3,
   "id": "76364736",
   "metadata": {},
   "outputs": [
    {
     "name": "stdout",
     "output_type": "stream",
     "text": [
      "ConfidenceInterval(low=3.0, high=10.5)\n"
     ]
    }
   ],
   "source": [
    "print(bootstraped.confidence_interval)"
   ]
  },
  {
   "cell_type": "code",
   "execution_count": 4,
   "id": "978ce296",
   "metadata": {},
   "outputs": [
    {
     "data": {
      "text/plain": [
       "array([2.  , 8.5 , 8.  , ..., 8.  , 7.25, 8.75])"
      ]
     },
     "execution_count": 4,
     "metadata": {},
     "output_type": "execute_result"
    }
   ],
   "source": [
    "distribution = bootstraped.bootstrap_distribution\n",
    "distribution"
   ]
  },
  {
   "cell_type": "code",
   "execution_count": 7,
   "id": "77d320f7",
   "metadata": {},
   "outputs": [
    {
     "data": {
      "text/plain": [
       "6.7275977597759775"
      ]
     },
     "execution_count": 7,
     "metadata": {},
     "output_type": "execute_result"
    }
   ],
   "source": [
    "distribution.mean()"
   ]
  },
  {
   "cell_type": "code",
   "execution_count": 10,
   "id": "3fc0cc43",
   "metadata": {},
   "outputs": [
    {
     "data": {
      "text/plain": [
       "3.865009696754227"
      ]
     },
     "execution_count": 10,
     "metadata": {},
     "output_type": "execute_result"
    }
   ],
   "source": [
    "std = np.std(distribution)\n",
    "1.96*std"
   ]
  },
  {
   "cell_type": "code",
   "execution_count": 6,
   "id": "ed0bcf45",
   "metadata": {},
   "outputs": [
    {
     "data": {
      "image/png": "[encoded data removed]",
      "text/plain": [
       "<Figure size 600x500 with 1 Axes>"
      ]
     },
     "metadata": {},
     "output_type": "display_data"
    }
   ],
   "source": [
    "fig, ax = plt.subplots(figsize=(6, 5))\n",
    "p = sns.histplot(data=distribution, stat='probability', discrete=True, ax=ax)\n",
    "plt.show()"
   ]
  },
  {
   "cell_type": "markdown",
   "id": "5f0f9161",
   "metadata": {},
   "source": [
    "# Bootstrapping using 'chance' probability\n",
    "\n",
    "In the above section, we caclulated probability of each average using frequency method. We basically took samples 9999 times and then plotted the frequency of each average obtained.\n",
    "\n",
    "We can also obtain these probabilities using counting methods."
   ]
  },
  {
   "cell_type": "code",
   "execution_count": 7,
   "id": "ee5f8203",
   "metadata": {},
   "outputs": [],
   "source": [
    "# Boot strapping through probabilities\n",
    "from math import comb, factorial\n",
    "import numpy as np\n",
    "import pandas as pd\n",
    "from itertools import combinations_with_replacement"
   ]
  },
  {
   "cell_type": "code",
   "execution_count": 8,
   "id": "c86924b7",
   "metadata": {},
   "outputs": [
    {
     "data": {
      "text/plain": [
       "[(2, 2, 2, 2),\n",
       " (2, 2, 2, 4),\n",
       " (2, 2, 2, 9),\n",
       " (2, 2, 2, 12),\n",
       " (2, 2, 4, 4),\n",
       " (2, 2, 4, 9),\n",
       " (2, 2, 4, 12),\n",
       " (2, 2, 9, 9),\n",
       " (2, 2, 9, 12),\n",
       " (2, 2, 12, 12),\n",
       " (2, 4, 4, 4),\n",
       " (2, 4, 4, 9),\n",
       " (2, 4, 4, 12),\n",
       " (2, 4, 9, 9),\n",
       " (2, 4, 9, 12),\n",
       " (2, 4, 12, 12),\n",
       " (2, 9, 9, 9),\n",
       " (2, 9, 9, 12),\n",
       " (2, 9, 12, 12),\n",
       " (2, 12, 12, 12),\n",
       " (4, 4, 4, 4),\n",
       " (4, 4, 4, 9),\n",
       " (4, 4, 4, 12),\n",
       " (4, 4, 9, 9),\n",
       " (4, 4, 9, 12),\n",
       " (4, 4, 12, 12),\n",
       " (4, 9, 9, 9),\n",
       " (4, 9, 9, 12),\n",
       " (4, 9, 12, 12),\n",
       " (4, 12, 12, 12),\n",
       " (9, 9, 9, 9),\n",
       " (9, 9, 9, 12),\n",
       " (9, 9, 12, 12),\n",
       " (9, 12, 12, 12),\n",
       " (12, 12, 12, 12)]"
      ]
     },
     "execution_count": 8,
     "metadata": {},
     "output_type": "execute_result"
    }
   ],
   "source": [
    "data = [2, 4, 9, 12]\n",
    "unordered_samplesspace = list(combinations_with_replacement(data, len(data)))\n",
    "unordered_samplesspace"
   ]
  },
  {
   "cell_type": "markdown",
   "id": "8db559bb",
   "metadata": {},
   "source": [
    "Each unordered sample of the above 35 samples `(n+m-1 C n)` has an average. Sometimes the two different samples can have the same average. For instance `(4, 4, 12, 12)` and `(2, 9, 9, 12)` have the same average of `8`. Hence the probability of getting average `8` is the sum of probabilities of finding both these samples."
   ]
  },
  {
   "cell_type": "markdown",
   "id": "c5a4f849",
   "metadata": {},
   "source": [
    "**Now how to calculate the probability of picking one of these samples?** *Is it not 1/35?* Obviously, NO!\n",
    "\n",
    "When you pick four numbers from `(2,4,9,12)` with replacement - there are actually 4^4 (256) ways of doing it. These 256 are ordered samples. And each of these 256 have equal probability.\n",
    "\n",
    "Each sample from the `unordered sample space` has multiple samples associated in the `ordered sample space`. For instance:\n",
    "1. `{2,2,2,2}` is only associated  `(2,2,2,2)`\n",
    "2. `{2,2,2,4}` is associated with `(2,2,2,4); (2,2,4,2); (2,4,2,2); (4,2,2,2)`\n",
    "\n",
    "etc\n",
    "\n",
    "Hence, each unordered sample has `n!/(k1!*k2!...)`; where\n",
    "1. `n - size of unordered sample`\n",
    "2. `k1, k2....` are reptitions of any number."
   ]
  },
  {
   "cell_type": "code",
   "execution_count": 9,
   "id": "49329306",
   "metadata": {},
   "outputs": [],
   "source": [
    "means = []\n",
    "probs = []\n",
    "for unordered_sample in unordered_samplesspace:\n",
    "    means.append(np.mean(unordered_sample))\n",
    "    repetitions = [[x,unordered_sample.count(x)] for x in set(unordered_sample)]\n",
    "    reptitions_factorials = np.prod([factorial(repetition[1]) for repetition in repetitions])\n",
    "\n",
    "    num_associated_ordered_samples = factorial(len(unordered_sample))/(reptitions_factorials)\n",
    "    prob_unordered_sample = (num_associated_ordered_samples)/256\n",
    "    probs.append(prob_unordered_sample)"
   ]
  },
  {
   "cell_type": "code",
   "execution_count": 10,
   "id": "09bd8bc2",
   "metadata": {},
   "outputs": [],
   "source": [
    "df = pd.DataFrame([means, probs]).T\n",
    "df.columns = ['avg', 'prob']"
   ]
  },
  {
   "cell_type": "code",
   "execution_count": 11,
   "id": "f597253f",
   "metadata": {},
   "outputs": [
    {
     "data": {
      "text/html": [
       "<div>\n",
       "<style scoped>\n",
       "    .dataframe tbody tr th:only-of-type {\n",
       "        vertical-align: middle;\n",
       "    }\n",
       "\n",
       "    .dataframe tbody tr th {\n",
       "        vertical-align: top;\n",
       "    }\n",
       "\n",
       "    .dataframe thead th {\n",
       "        text-align: right;\n",
       "    }\n",
       "</style>\n",
       "<table border=\"1\" class=\"dataframe\">\n",
       "  <thead>\n",
       "    <tr style=\"text-align: right;\">\n",
       "      <th></th>\n",
       "      <th>avg</th>\n",
       "      <th>prob</th>\n",
       "    </tr>\n",
       "  </thead>\n",
       "  <tbody>\n",
       "    <tr>\n",
       "      <th>0</th>\n",
       "      <td>2.00</td>\n",
       "      <td>0.003906</td>\n",
       "    </tr>\n",
       "    <tr>\n",
       "      <th>1</th>\n",
       "      <td>2.50</td>\n",
       "      <td>0.015625</td>\n",
       "    </tr>\n",
       "    <tr>\n",
       "      <th>2</th>\n",
       "      <td>3.00</td>\n",
       "      <td>0.023438</td>\n",
       "    </tr>\n",
       "    <tr>\n",
       "      <th>3</th>\n",
       "      <td>3.50</td>\n",
       "      <td>0.015625</td>\n",
       "    </tr>\n",
       "    <tr>\n",
       "      <th>4</th>\n",
       "      <td>3.75</td>\n",
       "      <td>0.015625</td>\n",
       "    </tr>\n",
       "    <tr>\n",
       "      <th>5</th>\n",
       "      <td>4.00</td>\n",
       "      <td>0.003906</td>\n",
       "    </tr>\n",
       "    <tr>\n",
       "      <th>6</th>\n",
       "      <td>4.25</td>\n",
       "      <td>0.046875</td>\n",
       "    </tr>\n",
       "    <tr>\n",
       "      <th>7</th>\n",
       "      <td>4.50</td>\n",
       "      <td>0.015625</td>\n",
       "    </tr>\n",
       "    <tr>\n",
       "      <th>8</th>\n",
       "      <td>4.75</td>\n",
       "      <td>0.046875</td>\n",
       "    </tr>\n",
       "    <tr>\n",
       "      <th>9</th>\n",
       "      <td>5.00</td>\n",
       "      <td>0.046875</td>\n",
       "    </tr>\n",
       "    <tr>\n",
       "      <th>10</th>\n",
       "      <td>5.25</td>\n",
       "      <td>0.015625</td>\n",
       "    </tr>\n",
       "    <tr>\n",
       "      <th>11</th>\n",
       "      <td>5.50</td>\n",
       "      <td>0.070312</td>\n",
       "    </tr>\n",
       "    <tr>\n",
       "      <th>12</th>\n",
       "      <td>6.00</td>\n",
       "      <td>0.062500</td>\n",
       "    </tr>\n",
       "    <tr>\n",
       "      <th>13</th>\n",
       "      <td>6.25</td>\n",
       "      <td>0.046875</td>\n",
       "    </tr>\n",
       "    <tr>\n",
       "      <th>14</th>\n",
       "      <td>6.50</td>\n",
       "      <td>0.023438</td>\n",
       "    </tr>\n",
       "    <tr>\n",
       "      <th>15</th>\n",
       "      <td>6.75</td>\n",
       "      <td>0.093750</td>\n",
       "    </tr>\n",
       "    <tr>\n",
       "      <th>16</th>\n",
       "      <td>7.00</td>\n",
       "      <td>0.023438</td>\n",
       "    </tr>\n",
       "    <tr>\n",
       "      <th>17</th>\n",
       "      <td>7.25</td>\n",
       "      <td>0.062500</td>\n",
       "    </tr>\n",
       "    <tr>\n",
       "      <th>18</th>\n",
       "      <td>7.50</td>\n",
       "      <td>0.046875</td>\n",
       "    </tr>\n",
       "    <tr>\n",
       "      <th>19</th>\n",
       "      <td>7.75</td>\n",
       "      <td>0.015625</td>\n",
       "    </tr>\n",
       "    <tr>\n",
       "      <th>20</th>\n",
       "      <td>8.00</td>\n",
       "      <td>0.070312</td>\n",
       "    </tr>\n",
       "    <tr>\n",
       "      <th>21</th>\n",
       "      <td>8.50</td>\n",
       "      <td>0.046875</td>\n",
       "    </tr>\n",
       "    <tr>\n",
       "      <th>22</th>\n",
       "      <td>8.75</td>\n",
       "      <td>0.046875</td>\n",
       "    </tr>\n",
       "    <tr>\n",
       "      <th>23</th>\n",
       "      <td>9.00</td>\n",
       "      <td>0.003906</td>\n",
       "    </tr>\n",
       "    <tr>\n",
       "      <th>24</th>\n",
       "      <td>9.25</td>\n",
       "      <td>0.046875</td>\n",
       "    </tr>\n",
       "    <tr>\n",
       "      <th>25</th>\n",
       "      <td>9.50</td>\n",
       "      <td>0.015625</td>\n",
       "    </tr>\n",
       "    <tr>\n",
       "      <th>26</th>\n",
       "      <td>9.75</td>\n",
       "      <td>0.015625</td>\n",
       "    </tr>\n",
       "    <tr>\n",
       "      <th>27</th>\n",
       "      <td>10.00</td>\n",
       "      <td>0.015625</td>\n",
       "    </tr>\n",
       "    <tr>\n",
       "      <th>28</th>\n",
       "      <td>10.50</td>\n",
       "      <td>0.023438</td>\n",
       "    </tr>\n",
       "    <tr>\n",
       "      <th>29</th>\n",
       "      <td>11.25</td>\n",
       "      <td>0.015625</td>\n",
       "    </tr>\n",
       "    <tr>\n",
       "      <th>30</th>\n",
       "      <td>12.00</td>\n",
       "      <td>0.003906</td>\n",
       "    </tr>\n",
       "  </tbody>\n",
       "</table>\n",
       "</div>"
      ],
      "text/plain": [
       "      avg      prob\n",
       "0    2.00  0.003906\n",
       "1    2.50  0.015625\n",
       "2    3.00  0.023438\n",
       "3    3.50  0.015625\n",
       "4    3.75  0.015625\n",
       "5    4.00  0.003906\n",
       "6    4.25  0.046875\n",
       "7    4.50  0.015625\n",
       "8    4.75  0.046875\n",
       "9    5.00  0.046875\n",
       "10   5.25  0.015625\n",
       "11   5.50  0.070312\n",
       "12   6.00  0.062500\n",
       "13   6.25  0.046875\n",
       "14   6.50  0.023438\n",
       "15   6.75  0.093750\n",
       "16   7.00  0.023438\n",
       "17   7.25  0.062500\n",
       "18   7.50  0.046875\n",
       "19   7.75  0.015625\n",
       "20   8.00  0.070312\n",
       "21   8.50  0.046875\n",
       "22   8.75  0.046875\n",
       "23   9.00  0.003906\n",
       "24   9.25  0.046875\n",
       "25   9.50  0.015625\n",
       "26   9.75  0.015625\n",
       "27  10.00  0.015625\n",
       "28  10.50  0.023438\n",
       "29  11.25  0.015625\n",
       "30  12.00  0.003906"
      ]
     },
     "execution_count": 11,
     "metadata": {},
     "output_type": "execute_result"
    }
   ],
   "source": [
    "df = df.groupby('avg')[['prob']].sum().reset_index()\n",
    "df"
   ]
  },
  {
   "cell_type": "code",
   "execution_count": 12,
   "id": "15423841",
   "metadata": {},
   "outputs": [
    {
     "data": {
      "text/plain": [
       "1.0"
      ]
     },
     "execution_count": 12,
     "metadata": {},
     "output_type": "execute_result"
    }
   ],
   "source": [
    "df.prob.sum()"
   ]
  },
  {
   "cell_type": "code",
   "execution_count": 13,
   "id": "de1fffe7",
   "metadata": {},
   "outputs": [
    {
     "data": {
      "image/png": "[encoded data removed]",
      "text/plain": [
       "<Figure size 1000x500 with 1 Axes>"
      ]
     },
     "metadata": {},
     "output_type": "display_data"
    }
   ],
   "source": [
    "fig, ax = plt.subplots(figsize=(10, 5))\n",
    "\n",
    "plt.bar(df.avg.astype(str), df.prob, color ='maroon',width = 0.4)\n",
    "plt.show()"
   ]
  },
  {
   "cell_type": "markdown",
   "id": "d2ef2266",
   "metadata": {},
   "source": [
    "References:\n",
    "1. [StatQuest - Part1](https://www.youtube.com/watch?v=Xz0x-8-cgaQ)\n",
    "2. [StatQuest - Part2](https://www.youtube.com/watch?v=N4ZQQqyIf6k)\n",
    "3. [SciPy - Bootstrap](https://docs.scipy.org/doc/scipy/reference/generated/scipy.stats.bootstrap.html)\n",
    "4. `Examples 1.2.20 and A.0.1; Statistical Inference by George Casella and Roger L.Berger.`"
   ]
  },
  {
   "cell_type": "markdown",
   "id": "c51b2aa6",
   "metadata": {},
   "source": [
    "# Case Study:\n",
    "\n",
    "David Glasgow, a Forensic & Clinical Psychologist from the UK, reached out to me with an application of Bootstrapping. \n",
    "\n",
    "As part of his work, he has to profile internet offenders from their digital records. Basically, he gets data on suspect's internet history. Each row is a website the suspect has visited. Each of these websites is flagged - either sexual or not. Based on this data, he has to profile if the suspect is an internet offender. Their hypothesis is that the more sexual content a suspect consumes, the more is their propensity to be an internet offender.\n",
    "\n",
    "Ideally, if David has the entire internet history of a suspect (the population dataset), then he would use it to just calculate the percentage of sexual content in suspect's web history. Then he could use a threshold to classify if the suspect is an internet offender or not. (Say, more than 50% of one's web history).\n",
    "\n",
    "But, the police may not be successful in retrieving the entire internet history everytime. They may get only a sample internet history (Note - this sample may not be randomly generated - if the police retreive internet history from phone alone, the estimate would be positively biased). Based on this sample internet history, David wants to build a Bootstrapping Confidence Interval.\n",
    "\n",
    "I asked David if he could share this data, but given that it contains illegal websites, he was afraid that it would land me in trouble. So, I'll work on dummy data based on the summary stats shared."
   ]
  },
  {
   "cell_type": "markdown",
   "id": "d927f37c",
   "metadata": {},
   "source": [
    "## Dummy Data\n",
    "\n",
    "There is a suspect, whose internet history was retrieved by the police. It consists of 780999 URLS that the suspect has visited in his life time. Each URL is either flagged sexual or not. Apparently 44.67% of these URLs are of sexual nature. We'll create a dummy data that is the population dataset. "
   ]
  },
  {
   "cell_type": "code",
   "execution_count": 1,
   "id": "76de64f2",
   "metadata": {},
   "outputs": [],
   "source": [
    "import numpy as np\n",
    "\n",
    "# Define the total number of rows and the number of ones (1 = sexual content)\n",
    "total_rows = 780999\n",
    "num_ones = 348872\n",
    "\n",
    "# Create an array with the desired number of ones and zeros\n",
    "column = np.zeros(total_rows)\n",
    "column[:num_ones] = 1\n",
    "\n",
    "# Shuffle the array to randomize the positions of ones and zeros\n",
    "np.random.shuffle(column)"
   ]
  },
  {
   "cell_type": "code",
   "execution_count": 2,
   "id": "93770404",
   "metadata": {},
   "outputs": [
    {
     "data": {
      "text/plain": [
       "0.44669967567179986"
      ]
     },
     "execution_count": 2,
     "metadata": {},
     "output_type": "execute_result"
    }
   ],
   "source": [
    "# Population - Sexual content\n",
    "column.mean()"
   ]
  },
  {
   "cell_type": "markdown",
   "id": "66844330",
   "metadata": {},
   "source": [
    "Now, imagine David got access to only 78 records of the suspect's internet history (Not the entire population)."
   ]
  },
  {
   "cell_type": "code",
   "execution_count": 3,
   "id": "32f875ac",
   "metadata": {},
   "outputs": [],
   "source": [
    "sample = np.random.choice(column, size=78, replace=True)"
   ]
  },
  {
   "cell_type": "code",
   "execution_count": 4,
   "id": "02bac258",
   "metadata": {},
   "outputs": [
    {
     "data": {
      "text/plain": [
       "0.44871794871794873"
      ]
     },
     "execution_count": 4,
     "metadata": {},
     "output_type": "execute_result"
    }
   ],
   "source": [
    "sample.mean()"
   ]
  },
  {
   "cell_type": "markdown",
   "id": "dba48c23",
   "metadata": {},
   "source": [
    "Based on these 78 records, he wants to construct a Bootstrapping CI."
   ]
  },
  {
   "cell_type": "code",
   "execution_count": 5,
   "id": "6cd90784",
   "metadata": {},
   "outputs": [],
   "source": [
    "from scipy.stats import bootstrap\n",
    "\n",
    "sample = (sample,)\n",
    "#calculate 95% bootstrap for mean\n",
    "bootstraped_percentile = bootstrap(sample, np.mean, confidence_level=0.95,\n",
    "                         random_state=111, method='percentile')"
   ]
  },
  {
   "cell_type": "code",
   "execution_count": 6,
   "id": "b8eda1ca",
   "metadata": {},
   "outputs": [
    {
     "name": "stdout",
     "output_type": "stream",
     "text": [
      "ConfidenceInterval(low=0.3333333333333333, high=0.5641025641025641)\n"
     ]
    }
   ],
   "source": [
    "print(bootstraped_percentile.confidence_interval)"
   ]
  },
  {
   "cell_type": "code",
   "execution_count": 7,
   "id": "2ed4aa2c",
   "metadata": {},
   "outputs": [],
   "source": [
    "#calculate 95% bootstrap for mean\n",
    "bootstraped_bca = bootstrap(sample, np.mean, confidence_level=0.95,\n",
    "                         random_state=111, method='BCa')"
   ]
  },
  {
   "cell_type": "code",
   "execution_count": 8,
   "id": "cb4f13e0",
   "metadata": {},
   "outputs": [
    {
     "name": "stdout",
     "output_type": "stream",
     "text": [
      "ConfidenceInterval(low=0.3333333333333333, high=0.5641025641025641)\n"
     ]
    }
   ],
   "source": [
    "print(bootstraped_bca.confidence_interval)"
   ]
  },
  {
   "cell_type": "markdown",
   "id": "dba013a3",
   "metadata": {},
   "source": [
    "David wants to know how the sample size affects the width of the Bootstrapping CI. "
   ]
  },
  {
   "cell_type": "code",
   "execution_count": 9,
   "id": "b3c8c87c",
   "metadata": {},
   "outputs": [],
   "source": [
    "ci_lows = []\n",
    "ci_highs = []\n",
    "means = []\n",
    "for samplesize in [78, 781, 7810]:\n",
    "    sample = np.random.choice(column, size=samplesize, replace=False)\n",
    "    sample = (sample,)\n",
    "    #calculate 95% bootstrap for mean\n",
    "    bootstraped_percentile = bootstrap(sample, np.mean, confidence_level=0.95,\n",
    "                             random_state=111, method='percentile')\n",
    "    \n",
    "    mean = bootstraped_percentile.bootstrap_distribution.mean()\n",
    "    ci_low = bootstraped_percentile.confidence_interval[0]\n",
    "    ci_high = bootstraped_percentile.confidence_interval[1]\n",
    "    \n",
    "    ci_lows.append(ci_low)\n",
    "    ci_highs.append(ci_high)\n",
    "    means.append(mean)"
   ]
  },
  {
   "cell_type": "code",
   "execution_count": 10,
   "id": "6be1ca7b",
   "metadata": {},
   "outputs": [],
   "source": [
    "import pandas as pd\n",
    "df = pd.DataFrame([ci_lows, ci_highs, means, [78, 781, 7810]]).T\n",
    "df.columns = ['ci_low', 'ci_high', 'mean', 'samplesize']"
   ]
  },
  {
   "cell_type": "code",
   "execution_count": 11,
   "id": "8b0de068",
   "metadata": {},
   "outputs": [
    {
     "data": {
      "text/html": [
       "<div>\n",
       "<style scoped>\n",
       "    .dataframe tbody tr th:only-of-type {\n",
       "        vertical-align: middle;\n",
       "    }\n",
       "\n",
       "    .dataframe tbody tr th {\n",
       "        vertical-align: top;\n",
       "    }\n",
       "\n",
       "    .dataframe thead th {\n",
       "        text-align: right;\n",
       "    }\n",
       "</style>\n",
       "<table border=\"1\" class=\"dataframe\">\n",
       "  <thead>\n",
       "    <tr style=\"text-align: right;\">\n",
       "      <th></th>\n",
       "      <th>ci_low</th>\n",
       "      <th>ci_high</th>\n",
       "      <th>mean</th>\n",
       "      <th>samplesize</th>\n",
       "    </tr>\n",
       "  </thead>\n",
       "  <tbody>\n",
       "    <tr>\n",
       "      <th>0</th>\n",
       "      <td>0.333333</td>\n",
       "      <td>0.551282</td>\n",
       "      <td>0.436862</td>\n",
       "      <td>78.0</td>\n",
       "    </tr>\n",
       "    <tr>\n",
       "      <th>1</th>\n",
       "      <td>0.403329</td>\n",
       "      <td>0.472471</td>\n",
       "      <td>0.438249</td>\n",
       "      <td>781.0</td>\n",
       "    </tr>\n",
       "    <tr>\n",
       "      <th>2</th>\n",
       "      <td>0.434571</td>\n",
       "      <td>0.456210</td>\n",
       "      <td>0.445392</td>\n",
       "      <td>7810.0</td>\n",
       "    </tr>\n",
       "  </tbody>\n",
       "</table>\n",
       "</div>"
      ],
      "text/plain": [
       "     ci_low   ci_high      mean  samplesize\n",
       "0  0.333333  0.551282  0.436862        78.0\n",
       "1  0.403329  0.472471  0.438249       781.0\n",
       "2  0.434571  0.456210  0.445392      7810.0"
      ]
     },
     "execution_count": 11,
     "metadata": {},
     "output_type": "execute_result"
    }
   ],
   "source": [
    "df"
   ]
  },
  {
   "cell_type": "code",
   "execution_count": 12,
   "id": "6ffd24d7",
   "metadata": {},
   "outputs": [
    {
     "data": {
      "image/png": "[encoded data removed]",
      "text/plain": [
       "<Figure size 1000x600 with 1 Axes>"
      ]
     },
     "metadata": {},
     "output_type": "display_data"
    }
   ],
   "source": [
    "import matplotlib.pyplot as plt\n",
    "plt.figure(figsize=(10, 6))\n",
    "plt.errorbar(df['samplesize'], df['mean'], yerr=[df['mean'] - df['ci_low'], df['ci_high'] - df['mean']],\n",
    "             fmt='o', capsize=5, markersize=7, label='CI')\n",
    "plt.xlabel('Sample Size')\n",
    "plt.ylabel('Percentage Sexual Content')\n",
    "plt.title('Confidence Interval for Each Sample Size')\n",
    "plt.grid(True)\n",
    "plt.axhline(y=column.mean(), color='r', linestyle='--', label=f'Population mean: {column.mean()}')\n",
    "plt.legend()\n",
    "plt.show()"
   ]
  },
  {
   "cell_type": "markdown",
   "id": "3ff179ae",
   "metadata": {},
   "source": [
    "The width of the CI is reducing with increasing sample size as expected. But this tells us that one must be careful with smaller sample sizes while profiling the suspect.\n",
    "\n",
    "Caveat:\n",
    "1. The sample may not be randomly generated in real life. The police, say, extracted the sample only from the phone of the suspect. In general, people might consume more sexual content from their phones. The CI estimated from phone sample would be positively biased."
   ]
  },
  {
   "cell_type": "markdown",
   "id": "320e5d99-889b-46f4-b1a6-2744e63092df",
   "metadata": {},
   "source": [
    "# Parametric Boostrapping vs Nonparametric Bootstrapping\n",
    "\n",
    "All the above examples are of non-paramteric bootstrapping. We did not assume the distribution of the data generating process (population). We just took one sample and resampled it. Clearly, when the sample size is small non-parametric bootstrapping is not very effective.\n",
    "\n",
    "One alternative is that use your sample to estimate parameters of an assumed population distribution. This estimation is mostly done using [MLE](https://www.youtube.com/watch?v=XepXtl9YKwc) but Method of Moments is also good. Once the estimation is done, construct the distribution and then draw 9999 samples from this distribution. This is parametric Bootsrapping. "
   ]
  },
  {
   "cell_type": "code",
   "execution_count": null,
   "id": "979adb72-1582-4fe5-8704-3d1baff07675",
   "metadata": {},
   "outputs": [],
   "source": []
  }
 ],
 "metadata": {
  "kernelspec": {
   "display_name": "Python 3 (ipykernel)",
   "language": "python",
   "name": "python3"
  },
  "language_info": {
   "codemirror_mode": {
    "name": "ipython",
    "version": 3
   },
   "file_extension": ".py",
   "mimetype": "text/x-python",
   "name": "python",
   "nbconvert_exporter": "python",
   "pygments_lexer": "ipython3",
   "version": "3.11.7"
  }
 },
 "nbformat": 4,
 "nbformat_minor": 5
}
