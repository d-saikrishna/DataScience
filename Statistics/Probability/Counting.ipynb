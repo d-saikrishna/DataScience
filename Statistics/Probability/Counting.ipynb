{
 "cells": [
  {
   "cell_type": "markdown",
   "id": "9fdb36a1",
   "metadata": {},
   "source": [
    "# Unordered - With Replacement"
   ]
  },
  {
   "cell_type": "code",
   "execution_count": 1,
   "id": "26969a46",
   "metadata": {},
   "outputs": [],
   "source": []
  },
  {
   "cell_type": "code",
   "execution_count": 2,
   "id": "eae1f81c",
   "metadata": {},
   "outputs": [],
   "source": [
    "data = [2, 4, 9, 12]"
   ]
  },
  {
   "cell_type": "code",
   "execution_count": 3,
   "id": "1a64ff0b",
   "metadata": {},
   "outputs": [
    {
     "data": {
      "text/plain": [
       "[(2, 2, 2, 2),\n",
       " (2, 2, 2, 4),\n",
       " (2, 2, 2, 9),\n",
       " (2, 2, 2, 12),\n",
       " (2, 2, 4, 4),\n",
       " (2, 2, 4, 9),\n",
       " (2, 2, 4, 12),\n",
       " (2, 2, 9, 9),\n",
       " (2, 2, 9, 12),\n",
       " (2, 2, 12, 12),\n",
       " (2, 4, 4, 4),\n",
       " (2, 4, 4, 9),\n",
       " (2, 4, 4, 12),\n",
       " (2, 4, 9, 9),\n",
       " (2, 4, 9, 12),\n",
       " (2, 4, 12, 12),\n",
       " (2, 9, 9, 9),\n",
       " (2, 9, 9, 12),\n",
       " (2, 9, 12, 12),\n",
       " (2, 12, 12, 12),\n",
       " (4, 4, 4, 4),\n",
       " (4, 4, 4, 9),\n",
       " (4, 4, 4, 12),\n",
       " (4, 4, 9, 9),\n",
       " (4, 4, 9, 12),\n",
       " (4, 4, 12, 12),\n",
       " (4, 9, 9, 9),\n",
       " (4, 9, 9, 12),\n",
       " (4, 9, 12, 12),\n",
       " (4, 12, 12, 12),\n",
       " (9, 9, 9, 9),\n",
       " (9, 9, 9, 12),\n",
       " (9, 9, 12, 12),\n",
       " (9, 12, 12, 12),\n",
       " (12, 12, 12, 12)]"
      ]
     },
     "execution_count": 3,
     "metadata": {},
     "output_type": "execute_result"
    }
   ],
   "source": [
    "unordered_samplesspace"
   ]
  },
  {
   "cell_type": "code",
   "execution_count": null,
   "id": "aa88c433",
   "metadata": {},
   "outputs": [],
   "source": []
  }
 ],
 "metadata": {
  "kernelspec": {
   "display_name": "Python 3 (ipykernel)",
   "language": "python",
   "name": "python3"
  },
  "language_info": {
   "codemirror_mode": {
    "name": "ipython",
    "version": 3
   },
   "file_extension": ".py",
   "mimetype": "text/x-python",
   "name": "python",
   "nbconvert_exporter": "python",
   "pygments_lexer": "ipython3",
   "version": "3.9.13"
  }
 },
 "nbformat": 4,
 "nbformat_minor": 5
}
