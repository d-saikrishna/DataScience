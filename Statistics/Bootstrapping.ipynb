{
 "cells": [
  {
   "cell_type": "markdown",
   "id": "f0a872ce",
   "metadata": {},
   "source": [
    "# Bootstrapping\n",
    "You conducted an experiment and got values. But is that the true value? You cannot confidently say it. You would want to conduct the experiment multiple times, in different scenarios to go close to the true value. But [India's expenditure on RnD is among the lowest in the world.](https://economictimes.indiatimes.com/news/india/indias-rd-spends-amongst-the-lowest-in-the-world-niti-aayog-study/articleshow/93024586.cms?from=mdr). You don't have enough money to conduct many experiments. And hence, you take help of Statisitics. Because, [Indians are good at math](https://www.hindustantimes.com/india-news/indians-are-so-good-at-mathematics-and-physics-when-stephen-hawking-came-to-india/story-qeRRbpPJK15LCHsNEKWiLK.html).\n",
    "\n",
    "`Bootstrapping is a statistical method in which we resample the original sample to calculate any stat with more confidence.`\n",
    "\n",
    "## Steps of bootstrapping\n",
    "1. Make a `bookstrapped dataset` from the original dataset.\n",
    "2. Calculate something with the bootsrapped dataset (mean, median, SD)\n",
    "3. Keep track of the calculation. (histogram)\n",
    "4. Repeat 1,2,3\n",
    "\n",
    "## Bootstrapped dataset:\n",
    "Perform `Sampling with replacement` on the original dataset. The size of the bootsrapped dataset will be the same as the original dataset.\n",
    "\n",
    "Use the histogram to calculate the SE and CI of the required statistic (mean, median .. )\n",
    "\n",
    "## Use-cases:\n",
    "1. `Hypothesis testing`\n",
    "2. `It helps in estimating the underlying distribution.` (look at the histogram)"
   ]
  },
  {
   "cell_type": "code",
   "execution_count": 1,
   "id": "72280a0d",
   "metadata": {},
   "outputs": [],
   "source": [
    "data = [2,4,9,12]"
   ]
  },
  {
   "cell_type": "code",
   "execution_count": 2,
   "id": "80a9f4e9",
   "metadata": {},
   "outputs": [],
   "source": [
    "from scipy.stats import bootstrap\n",
    "import numpy as np\n",
    "import matplotlib.pyplot as plt\n",
    "import seaborn as sns\n",
    "\n",
    "#convert array to sequence\n",
    "data = (data,)\n",
    "\n",
    "#calculate 95% bootstrap for mean\n",
    "bootstraped = bootstrap(data, np.mean, confidence_level=0.95,\n",
    "                         random_state=111, method='percentile')"
   ]
  },
  {
   "cell_type": "code",
   "execution_count": 3,
   "id": "76364736",
   "metadata": {},
   "outputs": [
    {
     "name": "stdout",
     "output_type": "stream",
     "text": [
      "ConfidenceInterval(low=3.0, high=10.5)\n"
     ]
    }
   ],
   "source": [
    "print(bootstraped.confidence_interval)"
   ]
  },
  {
   "cell_type": "code",
   "execution_count": 5,
   "id": "978ce296",
   "metadata": {},
   "outputs": [
    {
     "data": {
      "text/plain": [
       "array([2.  , 8.5 , 8.  , ..., 8.  , 7.25, 8.75])"
      ]
     },
     "execution_count": 5,
     "metadata": {},
     "output_type": "execute_result"
    }
   ],
   "source": [
    "distribution = bootstraped.bootstrap_distribution\n",
    "distribution"
   ]
  },
  {
   "cell_type": "code",
   "execution_count": 6,
   "id": "ed0bcf45",
   "metadata": {},
   "outputs": [
    {
     "data": {
      "image/png": "[encoded data removed]",
      "text/plain": [
       "<Figure size 600x500 with 1 Axes>"
      ]
     },
     "metadata": {},
     "output_type": "display_data"
    }
   ],
   "source": [
    "fig, ax = plt.subplots(figsize=(6, 5))\n",
    "p = sns.histplot(data=distribution, stat='probability', discrete=True, ax=ax)\n",
    "plt.show()"
   ]
  },
  {
   "cell_type": "markdown",
   "id": "5f0f9161",
   "metadata": {},
   "source": [
    "# Bootstrapping using 'chance' probability\n",
    "\n",
    "In the above section, we caclulated probability of each average using frequency method. We basically took samples 9999 times and then plotted the frequency of each average obtained.\n",
    "\n",
    "We can also obtain these probabilities using counting methods."
   ]
  },
  {
   "cell_type": "code",
   "execution_count": 7,
   "id": "ee5f8203",
   "metadata": {},
   "outputs": [],
   "source": [
    "# Boot strapping through probabilities\n",
    "from math import comb, factorial\n",
    "import numpy as np\n",
    "import pandas as pd\n",
    "from itertools import combinations_with_replacement"
   ]
  },
  {
   "cell_type": "code",
   "execution_count": 8,
   "id": "c86924b7",
   "metadata": {},
   "outputs": [
    {
     "data": {
      "text/plain": [
       "[(2, 2, 2, 2),\n",
       " (2, 2, 2, 4),\n",
       " (2, 2, 2, 9),\n",
       " (2, 2, 2, 12),\n",
       " (2, 2, 4, 4),\n",
       " (2, 2, 4, 9),\n",
       " (2, 2, 4, 12),\n",
       " (2, 2, 9, 9),\n",
       " (2, 2, 9, 12),\n",
       " (2, 2, 12, 12),\n",
       " (2, 4, 4, 4),\n",
       " (2, 4, 4, 9),\n",
       " (2, 4, 4, 12),\n",
       " (2, 4, 9, 9),\n",
       " (2, 4, 9, 12),\n",
       " (2, 4, 12, 12),\n",
       " (2, 9, 9, 9),\n",
       " (2, 9, 9, 12),\n",
       " (2, 9, 12, 12),\n",
       " (2, 12, 12, 12),\n",
       " (4, 4, 4, 4),\n",
       " (4, 4, 4, 9),\n",
       " (4, 4, 4, 12),\n",
       " (4, 4, 9, 9),\n",
       " (4, 4, 9, 12),\n",
       " (4, 4, 12, 12),\n",
       " (4, 9, 9, 9),\n",
       " (4, 9, 9, 12),\n",
       " (4, 9, 12, 12),\n",
       " (4, 12, 12, 12),\n",
       " (9, 9, 9, 9),\n",
       " (9, 9, 9, 12),\n",
       " (9, 9, 12, 12),\n",
       " (9, 12, 12, 12),\n",
       " (12, 12, 12, 12)]"
      ]
     },
     "execution_count": 8,
     "metadata": {},
     "output_type": "execute_result"
    }
   ],
   "source": [
    "data = [2, 4, 9, 12]\n",
    "unordered_samplesspace = list(combinations_with_replacement(data, len(data)))\n",
    "unordered_samplesspace"
   ]
  },
  {
   "cell_type": "markdown",
   "id": "8db559bb",
   "metadata": {},
   "source": [
    "Each unordered sample of the above 35 samples `(n+m-1 C n)` has an average. Sometimes the two different samples can have the same average. For instance `(4, 4, 12, 12)` and `(2, 9, 9, 12)` have the same average of `8`. Hence the probability of getting average `8` is the sum of probabilities of finding both these samples."
   ]
  },
  {
   "cell_type": "markdown",
   "id": "c5a4f849",
   "metadata": {},
   "source": [
    "**Now how to calculate the probability of picking one of these samples?** *Is it not 1/35?* Obviously, NO!\n",
    "\n",
    "When you pick four numbers from `(2,4,9,12)` with replacement - there are actually 4^4 (256) ways of doing it. These 256 are ordered samples. And each of these 256 have equal probability.\n",
    "\n",
    "Each sample from the `unordered sample space` has multiple samples associated in the `ordered sample space`. For instance:\n",
    "1. `{2,2,2,2}` is only associated  `(2,2,2,2)`\n",
    "2. `{2,2,2,4}` is associated with `(2,2,2,4); (2,2,4,2); (2,4,2,2); (4,2,2,2)`\n",
    "\n",
    "etc\n",
    "\n",
    "Hence, each unordered sample has `n!/(k1!*k2!...)`; where\n",
    "1. `n - size of unordered sample`\n",
    "2. `k1, k2....` are reptitions of any number."
   ]
  },
  {
   "cell_type": "code",
   "execution_count": 9,
   "id": "49329306",
   "metadata": {},
   "outputs": [],
   "source": [
    "means = []\n",
    "probs = []\n",
    "for unordered_sample in unordered_samplesspace:\n",
    "    means.append(np.mean(unordered_sample))\n",
    "    repetitions = [[x,unordered_sample.count(x)] for x in set(unordered_sample)]\n",
    "    reptitions_factorials = np.prod([factorial(repetition[1]) for repetition in repetitions])\n",
    "\n",
    "    num_associated_ordered_samples = factorial(len(unordered_sample))/(reptitions_factorials)\n",
    "    prob_unordered_sample = (num_associated_ordered_samples)/256\n",
    "    probs.append(prob_unordered_sample)"
   ]
  },
  {
   "cell_type": "code",
   "execution_count": 10,
   "id": "09bd8bc2",
   "metadata": {},
   "outputs": [],
   "source": [
    "df = pd.DataFrame([means, probs]).T\n",
    "df.columns = ['avg', 'prob']"
   ]
  },
  {
   "cell_type": "code",
   "execution_count": 11,
   "id": "f597253f",
   "metadata": {},
   "outputs": [
    {
     "data": {
      "text/html": [
       "<div>\n",
       "<style scoped>\n",
       "    .dataframe tbody tr th:only-of-type {\n",
       "        vertical-align: middle;\n",
       "    }\n",
       "\n",
       "    .dataframe tbody tr th {\n",
       "        vertical-align: top;\n",
       "    }\n",
       "\n",
       "    .dataframe thead th {\n",
       "        text-align: right;\n",
       "    }\n",
       "</style>\n",
       "<table border=\"1\" class=\"dataframe\">\n",
       "  <thead>\n",
       "    <tr style=\"text-align: right;\">\n",
       "      <th></th>\n",
       "      <th>avg</th>\n",
       "      <th>prob</th>\n",
       "    </tr>\n",
       "  </thead>\n",
       "  <tbody>\n",
       "    <tr>\n",
       "      <th>0</th>\n",
       "      <td>2.00</td>\n",
       "      <td>0.003906</td>\n",
       "    </tr>\n",
       "    <tr>\n",
       "      <th>1</th>\n",
       "      <td>2.50</td>\n",
       "      <td>0.015625</td>\n",
       "    </tr>\n",
       "    <tr>\n",
       "      <th>2</th>\n",
       "      <td>3.00</td>\n",
       "      <td>0.023438</td>\n",
       "    </tr>\n",
       "    <tr>\n",
       "      <th>3</th>\n",
       "      <td>3.50</td>\n",
       "      <td>0.015625</td>\n",
       "    </tr>\n",
       "    <tr>\n",
       "      <th>4</th>\n",
       "      <td>3.75</td>\n",
       "      <td>0.015625</td>\n",
       "    </tr>\n",
       "    <tr>\n",
       "      <th>5</th>\n",
       "      <td>4.00</td>\n",
       "      <td>0.003906</td>\n",
       "    </tr>\n",
       "    <tr>\n",
       "      <th>6</th>\n",
       "      <td>4.25</td>\n",
       "      <td>0.046875</td>\n",
       "    </tr>\n",
       "    <tr>\n",
       "      <th>7</th>\n",
       "      <td>4.50</td>\n",
       "      <td>0.015625</td>\n",
       "    </tr>\n",
       "    <tr>\n",
       "      <th>8</th>\n",
       "      <td>4.75</td>\n",
       "      <td>0.046875</td>\n",
       "    </tr>\n",
       "    <tr>\n",
       "      <th>9</th>\n",
       "      <td>5.00</td>\n",
       "      <td>0.046875</td>\n",
       "    </tr>\n",
       "    <tr>\n",
       "      <th>10</th>\n",
       "      <td>5.25</td>\n",
       "      <td>0.015625</td>\n",
       "    </tr>\n",
       "    <tr>\n",
       "      <th>11</th>\n",
       "      <td>5.50</td>\n",
       "      <td>0.070312</td>\n",
       "    </tr>\n",
       "    <tr>\n",
       "      <th>12</th>\n",
       "      <td>6.00</td>\n",
       "      <td>0.062500</td>\n",
       "    </tr>\n",
       "    <tr>\n",
       "      <th>13</th>\n",
       "      <td>6.25</td>\n",
       "      <td>0.046875</td>\n",
       "    </tr>\n",
       "    <tr>\n",
       "      <th>14</th>\n",
       "      <td>6.50</td>\n",
       "      <td>0.023438</td>\n",
       "    </tr>\n",
       "    <tr>\n",
       "      <th>15</th>\n",
       "      <td>6.75</td>\n",
       "      <td>0.093750</td>\n",
       "    </tr>\n",
       "    <tr>\n",
       "      <th>16</th>\n",
       "      <td>7.00</td>\n",
       "      <td>0.023438</td>\n",
       "    </tr>\n",
       "    <tr>\n",
       "      <th>17</th>\n",
       "      <td>7.25</td>\n",
       "      <td>0.062500</td>\n",
       "    </tr>\n",
       "    <tr>\n",
       "      <th>18</th>\n",
       "      <td>7.50</td>\n",
       "      <td>0.046875</td>\n",
       "    </tr>\n",
       "    <tr>\n",
       "      <th>19</th>\n",
       "      <td>7.75</td>\n",
       "      <td>0.015625</td>\n",
       "    </tr>\n",
       "    <tr>\n",
       "      <th>20</th>\n",
       "      <td>8.00</td>\n",
       "      <td>0.070312</td>\n",
       "    </tr>\n",
       "    <tr>\n",
       "      <th>21</th>\n",
       "      <td>8.50</td>\n",
       "      <td>0.046875</td>\n",
       "    </tr>\n",
       "    <tr>\n",
       "      <th>22</th>\n",
       "      <td>8.75</td>\n",
       "      <td>0.046875</td>\n",
       "    </tr>\n",
       "    <tr>\n",
       "      <th>23</th>\n",
       "      <td>9.00</td>\n",
       "      <td>0.003906</td>\n",
       "    </tr>\n",
       "    <tr>\n",
       "      <th>24</th>\n",
       "      <td>9.25</td>\n",
       "      <td>0.046875</td>\n",
       "    </tr>\n",
       "    <tr>\n",
       "      <th>25</th>\n",
       "      <td>9.50</td>\n",
       "      <td>0.015625</td>\n",
       "    </tr>\n",
       "    <tr>\n",
       "      <th>26</th>\n",
       "      <td>9.75</td>\n",
       "      <td>0.015625</td>\n",
       "    </tr>\n",
       "    <tr>\n",
       "      <th>27</th>\n",
       "      <td>10.00</td>\n",
       "      <td>0.015625</td>\n",
       "    </tr>\n",
       "    <tr>\n",
       "      <th>28</th>\n",
       "      <td>10.50</td>\n",
       "      <td>0.023438</td>\n",
       "    </tr>\n",
       "    <tr>\n",
       "      <th>29</th>\n",
       "      <td>11.25</td>\n",
       "      <td>0.015625</td>\n",
       "    </tr>\n",
       "    <tr>\n",
       "      <th>30</th>\n",
       "      <td>12.00</td>\n",
       "      <td>0.003906</td>\n",
       "    </tr>\n",
       "  </tbody>\n",
       "</table>\n",
       "</div>"
      ],
      "text/plain": [
       "      avg      prob\n",
       "0    2.00  0.003906\n",
       "1    2.50  0.015625\n",
       "2    3.00  0.023438\n",
       "3    3.50  0.015625\n",
       "4    3.75  0.015625\n",
       "5    4.00  0.003906\n",
       "6    4.25  0.046875\n",
       "7    4.50  0.015625\n",
       "8    4.75  0.046875\n",
       "9    5.00  0.046875\n",
       "10   5.25  0.015625\n",
       "11   5.50  0.070312\n",
       "12   6.00  0.062500\n",
       "13   6.25  0.046875\n",
       "14   6.50  0.023438\n",
       "15   6.75  0.093750\n",
       "16   7.00  0.023438\n",
       "17   7.25  0.062500\n",
       "18   7.50  0.046875\n",
       "19   7.75  0.015625\n",
       "20   8.00  0.070312\n",
       "21   8.50  0.046875\n",
       "22   8.75  0.046875\n",
       "23   9.00  0.003906\n",
       "24   9.25  0.046875\n",
       "25   9.50  0.015625\n",
       "26   9.75  0.015625\n",
       "27  10.00  0.015625\n",
       "28  10.50  0.023438\n",
       "29  11.25  0.015625\n",
       "30  12.00  0.003906"
      ]
     },
     "execution_count": 11,
     "metadata": {},
     "output_type": "execute_result"
    }
   ],
   "source": [
    "df = df.groupby('avg')[['prob']].sum().reset_index()\n",
    "df"
   ]
  },
  {
   "cell_type": "code",
   "execution_count": 12,
   "id": "15423841",
   "metadata": {},
   "outputs": [
    {
     "data": {
      "text/plain": [
       "1.0"
      ]
     },
     "execution_count": 12,
     "metadata": {},
     "output_type": "execute_result"
    }
   ],
   "source": [
    "df.prob.sum()"
   ]
  },
  {
   "cell_type": "code",
   "execution_count": 13,
   "id": "de1fffe7",
   "metadata": {},
   "outputs": [
    {
     "data": {
      "image/png": "[encoded data removed]",
      "text/plain": [
       "<Figure size 1000x500 with 1 Axes>"
      ]
     },
     "metadata": {},
     "output_type": "display_data"
    }
   ],
   "source": [
    "fig, ax = plt.subplots(figsize=(10, 5))\n",
    "\n",
    "plt.bar(df.avg.astype(str), df.prob, color ='maroon',width = 0.4)\n",
    "plt.show()"
   ]
  },
  {
   "cell_type": "markdown",
   "id": "d2ef2266",
   "metadata": {},
   "source": [
    "References:\n",
    "1. [StatQuest - Part1](https://www.youtube.com/watch?v=Xz0x-8-cgaQ)\n",
    "2. [StatQuest - Part2](https://www.youtube.com/watch?v=N4ZQQqyIf6k)\n",
    "3. [SciPy - Bootstrap](https://docs.scipy.org/doc/scipy/reference/generated/scipy.stats.bootstrap.html)\n",
    "4. `Examples 1.2.20 and A.0.1; Statistical Inference by George Casella and Roger L.Berger.`"
   ]
  },
  {
   "cell_type": "code",
   "execution_count": null,
   "id": "103e7128",
   "metadata": {},
   "outputs": [],
   "source": []
  }
 ],
 "metadata": {
  "kernelspec": {
   "display_name": "Python 3 (ipykernel)",
   "language": "python",
   "name": "python3"
  },
  "language_info": {
   "codemirror_mode": {
    "name": "ipython",
    "version": 3
   },
   "file_extension": ".py",
   "mimetype": "text/x-python",
   "name": "python",
   "nbconvert_exporter": "python",
   "pygments_lexer": "ipython3",
   "version": "3.9.13"
  }
 },
 "nbformat": 4,
 "nbformat_minor": 5
}
