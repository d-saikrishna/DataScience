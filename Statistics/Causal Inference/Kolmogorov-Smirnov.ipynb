{
 "cells": [
  {
   "cell_type": "code",
   "execution_count": 6,
   "id": "9f4e00a3-c47d-49e6-a051-ba3e3b174e42",
   "metadata": {},
   "outputs": [],
   "source": [
    "import numpy as np\n",
    "import pandas as pd\n",
    "import matplotlib.pyplot as plt"
   ]
  },
  {
   "cell_type": "markdown",
   "id": "6af96151-3d86-4918-8e44-32c174e85911",
   "metadata": {},
   "source": [
    "# One Sample K-S Test\n",
    "\n",
    "**Is the sample from an assumed population distribution?**\n",
    "\n",
    "H0 = Yes!"
   ]
  },
  {
   "cell_type": "code",
   "execution_count": 10,
   "id": "fe74844b-927b-4d62-8298-fbe041ad4add",
   "metadata": {},
   "outputs": [
    {
     "data": {
      "image/png": "[encoded data removed]",
      "text/plain": [
       "<Figure size 640x480 with 1 Axes>"
      ]
     },
     "metadata": {},
     "output_type": "display_data"
    }
   ],
   "source": [
    "# Empirical CDF\n",
    "F_n = lambda x : sum(r <= x) / n\n",
    "\n",
    "r = np.array([1,3,8,2,5,8,10,2,4])\n",
    "n = len(r)\n",
    "xx = sorted(r)\n",
    "\n",
    "data = pd.DataFrame({\n",
    "    'x': xx, \n",
    "    'F_n': np.array(map(F_n, xx)), \n",
    "})\n",
    "\n",
    "plt.step( 'x', 'F_n', data=data, color='red')\n",
    "plt.show()"
   ]
  },
  {
   "cell_type": "code",
   "execution_count": 38,
   "id": "ff1eb0bc-75a2-4bc2-bbb6-90069520d58b",
   "metadata": {},
   "outputs": [
    {
     "data": {
      "image/png": "[encoded data removed]",
      "text/plain": [
       "<Figure size 640x480 with 1 Axes>"
      ]
     },
     "metadata": {},
     "output_type": "display_data"
    }
   ],
   "source": [
    "# CDF of Uniform Distribution\n",
    "data2 = np.random.uniform(1, 10, 1000)\n",
    "\n",
    "# Calculate the cumulative distribution function (CDF)\n",
    "sorted_data = np.sort(data2)\n",
    "cdf_uniform = np.arange(1, len(sorted_data) + 1) / len(sorted_data)\n",
    "\n",
    "data2 = pd.DataFrame({\n",
    "    'x': sorted_data, \n",
    "    'F_n': cdf_uniform, \n",
    "})\n",
    "plt.step( 'x', 'F_n', data=data, color='red')\n",
    "plt.plot( 'x', 'F_n', data=data2)\n",
    "plt.show()"
   ]
  },
  {
   "cell_type": "code",
   "execution_count": 36,
   "id": "29de292d-cfe4-498a-ac9f-27ed7ca3f0c9",
   "metadata": {},
   "outputs": [
    {
     "name": "stdout",
     "output_type": "stream",
     "text": [
      "Maximum vertical distance between the two CDFs: 0.22166666666666662\n",
      "Value at which maximum vertical distance occurs: 5.0\n"
     ]
    }
   ],
   "source": [
    "df1_interp = pd.DataFrame()\n",
    "df1_interp['value'] = np.linspace(data['x'].min(), data['x'].max(), 1000)\n",
    "df1_interp['cdf'] = np.interp(df1_interp['value'], data['x'], data['F_n'])\n",
    "# Calculate the absolute differences between the two CDFs\n",
    "diff_cdf = np.abs(df1_interp['cdf'].values - data2['F_n'].values)\n",
    "# Find the maximum difference and its corresponding value\n",
    "max_diff = np.max(diff_cdf)\n",
    "max_diff_index = np.argmax(diff_cdf)\n",
    "max_diff_value = df1_interp['value'].iloc[max_diff_index]\n",
    "\n",
    "print(\"Maximum vertical distance between the two CDFs:\", max_diff)\n",
    "print(\"Value at which maximum vertical distance occurs:\", max_diff_value)\n"
   ]
  },
  {
   "cell_type": "markdown",
   "id": "537ea2ee-3f43-432d-8828-62238c02a6f5",
   "metadata": {},
   "source": [
    "For n= 9, critical value ot 0.05 alpha is **0.432** (From K-S test table)\n",
    "\n",
    "Since the D value we calculated (0.221) is less than the critical value -- **we cannot reject the null hypothesis** of K-S test that sample comes from the assumed population distribution.\n",
    "\n",
    "PS: We calculated the D distance using interpolated function (not step function) - the actual D would vary. We'll see it in the scipy implementation below."
   ]
  },
  {
   "cell_type": "code",
   "execution_count": 41,
   "id": "3b4543d5-2a2d-462a-9a28-9c3cccfb1b2d",
   "metadata": {},
   "outputs": [
    {
     "name": "stdout",
     "output_type": "stream",
     "text": [
      "KS Statistic: 0.2666666666666666\n",
      "P-value: 0.46613395175197536\n",
      "Fail to reject the null hypothesis: Data follows the specified distribution.\n"
     ]
    }
   ],
   "source": [
    "from scipy.stats import kstest, ks_2samp\n",
    "ks_statistic, p_value = kstest(r, 'uniform', args=(1, 10))\n",
    "\n",
    "# Print the results\n",
    "print(\"KS Statistic:\", ks_statistic)\n",
    "print(\"P-value:\", p_value)\n",
    "\n",
    "# Interpret the results\n",
    "alpha = 0.05  # Significance level\n",
    "if p_value < alpha:\n",
    "    print(\"Reject the null hypothesis: Data does not follow the specified distribution.\")\n",
    "else:\n",
    "    print(\"Fail to reject the null hypothesis: Data follows the specified distribution.\")\n"
   ]
  },
  {
   "cell_type": "markdown",
   "id": "2f151077-80ba-4982-a445-5afe8a38490c",
   "metadata": {},
   "source": [
    "# Two-Sample Test\n",
    "\n",
    "**Are the two samples coming from the same population distribution?**\n",
    "\n",
    "H0 = Yes!\n",
    "\n",
    "Same test as above. Just that we calculate max vertical distance between two empirical CDFs. Meaning -- we are actually comparing if two samples come from the same population distribution (no matter what it is!). Beauty of non-parametric tests!"
   ]
  },
  {
   "cell_type": "markdown",
   "id": "f76785ec-9c0c-4fc0-b0a4-2ac27394fdeb",
   "metadata": {},
   "source": [
    "# References\n",
    "1. [A very good explainer on how the critical D values are generated](https://stats.stackexchange.com/questions/471732/intuitive-explanation-of-kolmogorov-smirnov-test)\n",
    "2. [K-S 2 sample Python from scratch](https://www.linkedin.com/pulse/exploring-two-sample-kolmogorov-smirnov-test-yevhen-kralych/)"
   ]
  },
  {
   "cell_type": "code",
   "execution_count": null,
   "id": "d8ed9a58-a0d1-4f76-b47f-761aeaf08bc0",
   "metadata": {},
   "outputs": [],
   "source": []
  }
 ],
 "metadata": {
  "kernelspec": {
   "display_name": "Python 3 (ipykernel)",
   "language": "python",
   "name": "python3"
  },
  "language_info": {
   "codemirror_mode": {
    "name": "ipython",
    "version": 3
   },
   "file_extension": ".py",
   "mimetype": "text/x-python",
   "name": "python",
   "nbconvert_exporter": "python",
   "pygments_lexer": "ipython3",
   "version": "3.11.7"
  }
 },
 "nbformat": 4,
 "nbformat_minor": 5
}
