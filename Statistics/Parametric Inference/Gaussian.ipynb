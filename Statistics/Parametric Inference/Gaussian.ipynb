{
 "cells": [
  {
   "cell_type": "code",
   "execution_count": 11,
   "id": "9668d362-0a32-43d9-b26b-22d254db9489",
   "metadata": {},
   "outputs": [],
   "source": [
    "import pandas as pd\n",
    "import numpy as np\n",
    "import scipy.stats as stats\n",
    "from scipy.stats import norm\n",
    "\n",
    "import matplotlib.pyplot as plt"
   ]
  },
  {
   "cell_type": "code",
   "execution_count": 2,
   "id": "59995694-ba2b-4f05-910e-511bef5be01c",
   "metadata": {},
   "outputs": [
    {
     "data": {
      "text/plain": [
       "(104.82277040567706, 182.17722959432294)"
      ]
     },
     "execution_count": 2,
     "metadata": {},
     "output_type": "execute_result"
    }
   ],
   "source": [
    "#data = np.array([90, 78, 181, 79, 78, 76, 55, 82, 84, 58, 102])\n",
    "#data = np.array([105, 144, 148, 150, 118, 179, 120, 156, 147, 87, 133, 83, 158, 109, 288, 94, 104, 118, 195, 170, 97, 123, 116, 119, 120, 130, 139, 136, 120, 118, 108, 199, 112, 106, 111, 131])\n",
    "#data = np.array([185, 227])\n",
    "data = np.array([98, 150, 133, 193])\n",
    "# Estimate parameters\n",
    "mu = np.mean(data)\n",
    "sigma = np.std(data, ddof=1)\n",
    "degrees_of_freedom = len(data) - 1\n",
    "t_score = stats.t.ppf(0.975, degrees_of_freedom) # 95% confidence\n",
    "z = norm.ppf(0.975)  # 95% confidence\n",
    "\n",
    "n = len(data)\n",
    "\n",
    "ci_lower = mu - z * (sigma / np.sqrt(n))\n",
    "ci_upper = mu + z * (sigma / np.sqrt(n))\n",
    "\n",
    "ci_lower, ci_upper"
   ]
  },
  {
   "cell_type": "code",
   "execution_count": 3,
   "id": "42b222af-4193-478e-994e-3592616dd661",
   "metadata": {},
   "outputs": [],
   "source": [
    "indian_males_shoesizes_sample = np.array([8.6, 7.4, 9.1, 11.3, 8.4, 8.4, 11.5, 9.5, 7.0, 8.7,\n",
    " 7.0, 7.0, 8.1, 5.8, 6.3, 7.6, 6.8, 8.3, 7.0, 6.3,\n",
    " 10.8, 8.4, 8.8, 6.3, 7.6, 8.2, 6.7, 8.3, 7.6, 8.0,\n",
    " 7.6, 11.6, 8.5, 6.5, 9.3, 6.5, 8.5, 5.8, 6.3, 8.2,\n",
    " 9.5, 8.4, 7.4, 8.2, 6.2, 7.7, 7.0, 9.9, 8.3, 6.3,\n",
    " 8.2, 7.5, 7.2, 9.1, 9.8, 9.5, 7.0, 7.8, 8.5, 9.6,\n",
    " 7.5, 7.7, 6.8, 6.7, 9.1, 10.7, 8.1, 9.7, 8.6, 7.2,\n",
    " 8.6, 10.9, 8.1, 10.8, 4.4, 9.3, 8.6, 7.9, 8.6, 5.4,\n",
    " 8.2, 8.6, 10.8, 7.7, 7.0, 7.9, 9.5, 8.5, 7.6, 8.7,\n",
    " 8.3, 9.6, 7.1, 7.8, 7.5, 6.1, 8.4, 8.7, 8.4, 8.0]\n",
    ")"
   ]
  },
  {
   "cell_type": "code",
   "execution_count": 4,
   "id": "4a45b136-5fe5-40c1-90e9-24b0bbfdee91",
   "metadata": {},
   "outputs": [
    {
     "name": "stdout",
     "output_type": "stream",
     "text": [
      "\n",
      "Sample mean: 8.118\n",
      "Sample STD: 1.359439590419523\n",
      "Sample size: 100\n",
      "\n"
     ]
    }
   ],
   "source": [
    "# Descriptive statistics\n",
    "sample_mean = np.mean(indian_males_shoesizes_sample)\n",
    "sample_std = np.std(indian_males_shoesizes_sample)\n",
    "sample_size = len(indian_males_shoesizes_sample)\n",
    "\n",
    "print('''\n",
    "Sample mean: {}\n",
    "Sample STD: {}\n",
    "Sample size: {}\n",
    "'''.format(sample_mean, sample_std, sample_size))"
   ]
  },
  {
   "cell_type": "code",
   "execution_count": 5,
   "id": "14560568-b42a-47c3-ba58-e0b05c813088",
   "metadata": {},
   "outputs": [
    {
     "data": {
      "text/plain": [
       "3344.3363910050093"
      ]
     },
     "execution_count": 5,
     "metadata": {},
     "output_type": "execute_result"
    }
   ],
   "source": [
    "# MLE estimates of the parameters\n",
    "mu = sample_mean\n",
    "sigma = sample_std\n",
    "\n",
    "# Calculate the z-scores\n",
    "z_1 = (10.5 - mu) / sigma\n",
    "z_2 = (11.5 - mu) / sigma\n",
    "\n",
    "# Find the proportion of the population between 11.5 and 10.5\n",
    "proportion_1 = stats.norm.cdf(z_1)\n",
    "proportion_2 = stats.norm.cdf(z_2)\n",
    "proportion = proportion_2 - proportion_1\n",
    "\n",
    "# Calculate the number of individuals between 11.5 and 10.5\n",
    "numer_size11 = proportion * 100000\n",
    "numer_size11"
   ]
  },
  {
   "cell_type": "code",
   "execution_count": 19,
   "id": "75b242db-b524-4f69-ad2f-6089734eaadb",
   "metadata": {},
   "outputs": [
    {
     "data": {
      "text/plain": [
       "(array([   35.,   447.,  3494., 14106., 29281., 30715., 16629.,  4589.,\n",
       "          651.,    53.]),\n",
       " array([7.53679859, 7.65137369, 7.7659488 , 7.88052391, 7.99509901,\n",
       "        8.10967412, 8.22424922, 8.33882433, 8.45339944, 8.56797454,\n",
       "        8.68254965]),\n",
       " <BarContainer object of 10 artists>)"
      ]
     },
     "execution_count": 19,
     "metadata": {},
     "output_type": "execute_result"
    },
    {
     "data": {
      "image/png": "[encoded data removed]",
      "text/plain": [
       "<Figure size 640x480 with 1 Axes>"
      ]
     },
     "metadata": {},
     "output_type": "display_data"
    }
   ],
   "source": [
    "# parametric bootsrap - \n",
    "means = []\n",
    "for _ in range(100000):\n",
    "    sample = np.random.normal(mu, sigma, 100)\n",
    "    means.append(sample.mean())\n",
    "plt.hist(means)"
   ]
  },
  {
   "cell_type": "code",
   "execution_count": 21,
   "id": "6759f6a0-8531-4836-9055-1792b0c44888",
   "metadata": {},
   "outputs": [
    {
     "data": {
      "text/plain": [
       "0.13611550300983755"
      ]
     },
     "execution_count": 21,
     "metadata": {},
     "output_type": "execute_result"
    }
   ],
   "source": [
    "np.array(means).std()"
   ]
  },
  {
   "cell_type": "code",
   "execution_count": 37,
   "id": "c594e0e6-eeaa-420a-96b3-2573de2a8893",
   "metadata": {},
   "outputs": [
    {
     "data": {
      "text/plain": [
       "0.006426983320567792"
      ]
     },
     "execution_count": 37,
     "metadata": {},
     "output_type": "execute_result"
    }
   ],
   "source": [
    "proportion_2"
   ]
  },
  {
   "cell_type": "code",
   "execution_count": 49,
   "id": "49ac745e-d476-4a14-aad3-fef993622f96",
   "metadata": {},
   "outputs": [
    {
     "data": {
      "text/plain": [
       "10.431999999999999"
      ]
     },
     "execution_count": 49,
     "metadata": {},
     "output_type": "execute_result"
    }
   ],
   "source": [
    "8.12+ 1.7*1.36"
   ]
  },
  {
   "cell_type": "code",
   "execution_count": 41,
   "id": "7e751325-b29c-4710-a334-78281f4989b1",
   "metadata": {},
   "outputs": [
    {
     "data": {
      "text/plain": [
       "0.9601296527693821"
      ]
     },
     "execution_count": 41,
     "metadata": {},
     "output_type": "execute_result"
    }
   ],
   "source": [
    "proportion_1"
   ]
  },
  {
   "cell_type": "code",
   "execution_count": 42,
   "id": "4ad2da34-887a-4c92-9718-2b8c15ab44ec",
   "metadata": {},
   "outputs": [
    {
     "data": {
      "text/plain": [
       "0.9935730166794322"
      ]
     },
     "execution_count": 42,
     "metadata": {},
     "output_type": "execute_result"
    }
   ],
   "source": [
    "proportion_2"
   ]
  },
  {
   "cell_type": "code",
   "execution_count": 56,
   "id": "1215d67f-d54e-4fd3-8588-f0a39243d816",
   "metadata": {},
   "outputs": [
    {
     "data": {
      "text/plain": [
       "13888.888888888896"
      ]
     },
     "execution_count": 56,
     "metadata": {},
     "output_type": "execute_result"
    }
   ],
   "source": [
    "# MLE estimates of the parameters\n",
    "a = indian_males_shoesizes_sample.min()\n",
    "b = indian_males_shoesizes_sample.max()\n",
    "\n",
    "# Find the proportion of the population between 11.5 and 10.5\n",
    "proportion_1 = (10.5-a)/(b-a)\n",
    "proportion_2 = (11.5-a)/(b-a)\n",
    "\n",
    "proportion = proportion_2 - proportion_1\n",
    "\n",
    "# Calculate the number of individuals more than 11\n",
    "numer_size11 = proportion * 100000\n",
    "numer_size11"
   ]
  },
  {
   "cell_type": "code",
   "execution_count": 66,
   "id": "ce0d2ab0-617b-44bf-b191-5b4d3e662d4f",
   "metadata": {},
   "outputs": [
    {
     "data": {
      "text/plain": [
       "3179.43971229121"
      ]
     },
     "execution_count": 66,
     "metadata": {},
     "output_type": "execute_result"
    }
   ],
   "source": [
    "# MLE estimates of the parameters\n",
    "lambdaa = len(indian_males_shoesizes_sample)/indian_males_shoesizes_sample.sum()\n",
    "\n",
    "# Define an array of x values\n",
    "x_values = np.linspace(0, 13, 10000)  # Adjust the range and number of points as needed\n",
    "\n",
    "\n",
    "# Find the proportion of the population between 11.5 and 10.5\n",
    "proportion_1 = stats.expon.cdf(10.5, scale=1/lambdaa)\n",
    "proportion_2 = stats.expon.cdf(11.5, scale=1/lambdaa)\n",
    "\n",
    "proportion = proportion_2 - proportion_1\n",
    "\n",
    "# Calculate the number of individuals more than 11\n",
    "numer_size11 = proportion * 100000\n",
    "numer_size11"
   ]
  },
  {
   "cell_type": "code",
   "execution_count": 64,
   "id": "f903b881-2e31-45f2-b6b0-fbff1200b506",
   "metadata": {},
   "outputs": [
    {
     "data": {
      "text/plain": [
       "array([0.00000000e+00, 1.60141156e-04, 3.20256668e-04, ...,\n",
       "       7.98317246e-01, 7.98349544e-01, 7.98381837e-01])"
      ]
     },
     "execution_count": 64,
     "metadata": {},
     "output_type": "execute_result"
    }
   ],
   "source": [
    "cdf_values"
   ]
  },
  {
   "cell_type": "code",
   "execution_count": 69,
   "id": "0ef63865-965b-4e09-a6a8-3dc25ed67a2b",
   "metadata": {},
   "outputs": [
    {
     "data": {
      "image/png": "[encoded data removed]",
      "text/plain": [
       "<Figure size 640x480 with 1 Axes>"
      ]
     },
     "metadata": {},
     "output_type": "display_data"
    }
   ],
   "source": [
    "import numpy as np\n",
    "import matplotlib.pyplot as plt\n",
    "from scipy.stats import expon\n",
    "\n",
    "# Define the rate parameter (lambda)\n",
    "lambda_param = 0.123\n",
    "\n",
    "# Generate x values\n",
    "x_values = np.linspace(0, 20, 1000)  # Adjust the range and number of points as needed\n",
    "\n",
    "# Calculate the PDF values using the expon.pdf() function\n",
    "pdf_values = expon.pdf(x_values, scale=1/lambda_param)\n",
    "\n",
    "# Plot the PDF\n",
    "plt.plot(x_values, pdf_values, label='Exponential PDF')\n",
    "\n",
    "# Add labels and legend\n",
    "plt.title('Exponential Probability Density Function')\n",
    "plt.xlabel('shoe size')\n",
    "plt.ylabel('PDF')\n",
    "plt.legend()\n",
    "\n",
    "# Show plot\n",
    "plt.grid(True)\n",
    "plt.show()"
   ]
  },
  {
   "cell_type": "code",
   "execution_count": 73,
   "id": "ea6d5e83-f056-40b1-91a4-76ef27f77d79",
   "metadata": {},
   "outputs": [
    {
     "name": "stdout",
     "output_type": "stream",
     "text": [
      "Method of moments estimate of alpha: 0.19791011625497812\n"
     ]
    }
   ],
   "source": [
    "import numpy as np\n",
    "\n",
    "def power_law_moments_estimate(data):\n",
    "    x_min = min(data)\n",
    "    n = len(data)\n",
    "    \n",
    "    sample_mean = np.mean(data)\n",
    "    sample_variance = np.var(data, ddof=1)  # Using ddof=1 for unbiased variance estimator\n",
    "    \n",
    "    alpha = 1 + n / (np.sum(np.log(data / x_min)) - n * (sample_mean / x_min))\n",
    "    \n",
    "    return alpha\n",
    "\n",
    "# Example data\n",
    "data = np.array([1.2, 2.3, 3.4, 4.5, 5.6])\n",
    "\n",
    "# Estimate alpha using method of moments\n",
    "alpha_moments = power_law_moments_estimate(indian_males_shoesizes_sample)\n",
    "\n",
    "print(\"Method of moments estimate of alpha:\", alpha_moments)\n"
   ]
  },
  {
   "cell_type": "code",
   "execution_count": 81,
   "id": "36706d69-e16f-4973-a1b0-036e8937c82c",
   "metadata": {},
   "outputs": [
    {
     "data": {
      "image/png": "[encoded data removed]",
      "text/plain": [
       "<Figure size 640x480 with 1 Axes>"
      ]
     },
     "metadata": {},
     "output_type": "display_data"
    }
   ],
   "source": [
    "import numpy as np\n",
    "import matplotlib.pyplot as plt\n",
    "\n",
    "def power_law_pdf(x, alpha, x_min):\n",
    "    return (1-alpha) / x_min * (x / x_min)**(-alpha)\n",
    "\n",
    "# Define the estimated parameters\n",
    "alpha = power_law_moments_estimate(indian_males_shoesizes_sample)  # Estimated scaling parameter\n",
    "x_min = min(indian_males_shoesizes_sample)  # Minimum value in the dataset\n",
    "\n",
    "# Generate x values\n",
    "x_values = np.linspace(x_min, 13, 1000)  # Adjust the range as needed\n",
    "\n",
    "# Calculate the PDF values\n",
    "pdf_values = power_law_pdf(x_values, alpha, x_min)\n",
    "\n",
    "# Plot the PDF\n",
    "plt.plot(x_values, pdf_values, label='Power Law PDF')\n",
    "\n",
    "# Add labels and legend\n",
    "plt.title('Power Law Probability Density Function')\n",
    "plt.xlabel('shoe size')\n",
    "plt.ylabel('PDF')\n",
    "plt.legend()\n",
    "\n",
    "# Show plot\n",
    "plt.grid(True)\n",
    "plt.show()\n"
   ]
  },
  {
   "cell_type": "code",
   "execution_count": 79,
   "id": "26d16ae3-7ea3-480a-ad14-b1b78c9c7ff4",
   "metadata": {},
   "outputs": [
    {
     "data": {
      "text/plain": [
       "15207.208084186685"
      ]
     },
     "execution_count": 79,
     "metadata": {},
     "output_type": "execute_result"
    }
   ],
   "source": [
    "import scipy as sp\n",
    "\n",
    "# Calculate the proportion using integration (trapezoidal rule)\n",
    "def proportion_between(x_min, lower_bound, upper_bound, alpha):\n",
    "    integral, _ = sp.integrate.quad(power_law_pdf, lower_bound, upper_bound, args=(alpha, x_min))\n",
    "    return integral\n",
    "\n",
    "proportion = proportion_between(x_min, 10.5, 11.5, alpha)\n",
    "proportion*100000"
   ]
  },
  {
   "cell_type": "code",
   "execution_count": 22,
   "id": "29328bf2-62b4-4c5b-a214-eb37fcca47d0",
   "metadata": {},
   "outputs": [
    {
     "data": {
      "text/plain": [
       "550"
      ]
     },
     "execution_count": 22,
     "metadata": {},
     "output_type": "execute_result"
    }
   ],
   "source": [
    "100+90+80+70+60+50+40+30+20+10"
   ]
  },
  {
   "cell_type": "code",
   "execution_count": 23,
   "id": "30faf5a2-2f28-4bee-abdb-6ae99524d5b3",
   "metadata": {},
   "outputs": [
    {
     "data": {
      "text/plain": [
       "55.0"
      ]
     },
     "execution_count": 23,
     "metadata": {},
     "output_type": "execute_result"
    }
   ],
   "source": [
    "550/10"
   ]
  },
  {
   "cell_type": "code",
   "execution_count": 27,
   "id": "1cf17dbb-427a-4079-a7c9-5e9a88879498",
   "metadata": {},
   "outputs": [],
   "source": [
    "pop = np.ones(10)\n",
    "for i in range(2,11):\n",
    "    pop = np.append(pop, np.ones(10)*i)"
   ]
  },
  {
   "cell_type": "code",
   "execution_count": 144,
   "id": "e60e3e62-b321-4fbb-b6c4-5944cc3e0d97",
   "metadata": {},
   "outputs": [
    {
     "data": {
      "text/plain": [
       "array([ 4.,  8.,  3.,  5.,  3.,  7.,  5.,  5.,  3.,  8.,  3.,  3.,  9.,\n",
       "       10., 10.,  3.,  3.,  6.,  6.,  8.,  8.,  8.,  2., 10.,  4.,  2.,\n",
       "        9.,  2.,  7.,  4.])"
      ]
     },
     "execution_count": 144,
     "metadata": {},
     "output_type": "execute_result"
    }
   ],
   "source": [
    "n = 30\n",
    "sample = np.random.choice(pop, size=n)\n",
    "sample"
   ]
  },
  {
   "cell_type": "code",
   "execution_count": 125,
   "id": "4df36832-5fb0-4cf1-a7fc-2b7f9f4d4db8",
   "metadata": {},
   "outputs": [
    {
     "data": {
      "text/plain": [
       "5.5"
      ]
     },
     "execution_count": 125,
     "metadata": {},
     "output_type": "execute_result"
    }
   ],
   "source": [
    "pop.mean()"
   ]
  },
  {
   "cell_type": "code",
   "execution_count": 126,
   "id": "b23faee6-c185-44d2-b4ba-36530ffcbc1a",
   "metadata": {},
   "outputs": [
    {
     "data": {
      "text/plain": [
       "4.0"
      ]
     },
     "execution_count": 126,
     "metadata": {},
     "output_type": "execute_result"
    }
   ],
   "source": [
    "sample.std()"
   ]
  },
  {
   "cell_type": "code",
   "execution_count": 127,
   "id": "612d18cc-ca18-4de7-a7c5-6196bca932c3",
   "metadata": {},
   "outputs": [
    {
     "name": "stdout",
     "output_type": "stream",
     "text": [
      "-30.9 - 40.9\n"
     ]
    }
   ],
   "source": [
    "ci_l = sample.mean() - 12.7*sample.std()/np.sqrt(2)\n",
    "ci_u = sample.mean() + 12.7*sample.std()/np.sqrt(2)\n",
    "\n",
    "print(\"{} - {}\".format(round(ci_l,1), round(ci_u,1)))"
   ]
  },
  {
   "cell_type": "code",
   "execution_count": 128,
   "id": "423464ec-5ede-4c04-bc08-e40ff258ba29",
   "metadata": {},
   "outputs": [
    {
     "data": {
      "text/plain": [
       "True"
      ]
     },
     "execution_count": 128,
     "metadata": {},
     "output_type": "execute_result"
    }
   ],
   "source": [
    "(pop.mean() >= ci_l) & (pop.mean() <= ci_u)"
   ]
  },
  {
   "cell_type": "code",
   "execution_count": 553,
   "id": "4213b97d-48bf-42af-9dba-7ea975ee4bc4",
   "metadata": {},
   "outputs": [],
   "source": [
    "n = 100\n",
    "t = 1.96\n",
    "#t = 12.706 #n=2\n",
    "#t = 4.303 #n=3\n",
    "#t = 3.184 #n=4\n",
    "#t = 2.228 #n=10\n",
    "\n",
    "count = 0\n",
    "cvs_plus = []\n",
    "cvs_minus = []\n",
    "n_sim = 10000\n",
    "good_rejects = []\n",
    "bad_rejects = []\n",
    "for _ in range(n_sim):\n",
    "    sample = np.random.choice(pop, size=n)\n",
    "    ci_l = sample.mean() - t*sample.std()/np.sqrt(n-1)\n",
    "    ci_u = sample.mean() + t*sample.std()/np.sqrt(n-1)\n",
    "    if (pop.mean() >= ci_l) & (pop.mean() <= ci_u):\n",
    "        count=count+1\n",
    "        cvs_plus.append(sample.std()/pop.std())\n",
    "    else:\n",
    "        sampling_dist_std = pop.std()/np.sqrt(n)\n",
    "        ci_l_samplingdist = pop.mean() - 1.96*sampling_dist_std\n",
    "        ci_u_samplingdist = pop.mean() + 1.96*sampling_dist_std\n",
    "        if (sample.mean() >=  ci_l_samplingdist) & (sample.mean() <=  ci_u_samplingdist): #ideally should not fail\n",
    "            bad_rejects.append(sample)\n",
    "            cvs_minus.append(sample.std()/pop.std())\n",
    "            continue\n",
    "        good_rejects.append(sample)"
   ]
  },
  {
   "cell_type": "code",
   "execution_count": 554,
   "id": "450966b6-f215-4e11-966c-8401ad358137",
   "metadata": {},
   "outputs": [
    {
     "data": {
      "text/plain": [
       "94.86"
      ]
     },
     "execution_count": 554,
     "metadata": {},
     "output_type": "execute_result"
    }
   ],
   "source": [
    "(count/n_sim)*100"
   ]
  },
  {
   "cell_type": "code",
   "execution_count": 555,
   "id": "247057a5-ce9d-49b2-9891-b47e03679278",
   "metadata": {},
   "outputs": [
    {
     "data": {
      "text/plain": [
       "[0.9111497897678184,\n",
       " 0.9261454823867872,\n",
       " 0.8962886439832503,\n",
       " 0.9608329719571451,\n",
       " 0.9557735245878233,\n",
       " 0.971565434718318,\n",
       " 0.9482615672903759,\n",
       " 0.9118479405397958,\n",
       " 0.9320879136582979,\n",
       " 0.9339651541095682,\n",
       " 0.9758539384000606,\n",
       " 0.9620936765327182,\n",
       " 0.9808098076527778,\n",
       " 0.9288898554922232,\n",
       " 0.9627926552325257,\n",
       " 0.9820448672092948,\n",
       " 0.9658659170386796,\n",
       " 0.8786973830102666,\n",
       " 0.9506871518044517,\n",
       " 0.9455734191003314,\n",
       " 0.9832783754544608,\n",
       " 0.9758539384000606,\n",
       " 0.9583065872420556,\n",
       " 0.941719896591531,\n",
       " 0.8777657587720811,\n",
       " 0.9116352274231114,\n",
       " 0.9222107824530829,\n",
       " 0.9424339861135198,\n",
       " 0.9577435602877877,\n",
       " 0.9248357757576273,\n",
       " 0.9256676542153809,\n",
       " 0.9164556230887063,\n",
       " 0.9063011741037403,\n",
       " 0.914423149843494,\n",
       " 0.9392711552210592,\n",
       " 0.9424339861135198,\n",
       " 0.9658659170386797,\n",
       " 0.8653883346203424,\n",
       " 0.9671200608617382,\n",
       " 0.8724469246685648,\n",
       " 0.9243572705595837,\n",
       " 0.9430061537766369,\n",
       " 0.9353916697071745,\n",
       " 0.9557735245878233,\n",
       " 0.9665621678104438,\n",
       " 0.9627926552325257,\n",
       " 0.9391420972291035,\n",
       " 0.9261454823867872,\n",
       " 0.9204149261955916,\n",
       " 0.9430061537766369,\n",
       " 0.9703170365994568,\n",
       " 0.9392711552210592,\n",
       " 0.9608329719571451,\n",
       " 0.8583564280505842,\n",
       " 0.969623482063887,\n",
       " 0.8835191342614266,\n",
       " 0.9506871518044517,\n",
       " 0.9533608811446848,\n",
       " 0.9131762749277431,\n",
       " 0.9627926552325257,\n",
       " 0.9627926552325257,\n",
       " 0.9378505405253209,\n",
       " 0.9116352274231113,\n",
       " 0.9746110335239729,\n",
       " 0.912372863704441,\n",
       " 0.9658659170386796,\n",
       " 0.9733665415671654,\n",
       " 0.9519612928214587]"
      ]
     },
     "execution_count": 555,
     "metadata": {},
     "output_type": "execute_result"
    }
   ],
   "source": [
    "cvs_minus"
   ]
  },
  {
   "cell_type": "code",
   "execution_count": 556,
   "id": "740ce087-50f8-4674-a63b-7fd26666a36a",
   "metadata": {},
   "outputs": [
    {
     "data": {
      "text/plain": [
       "446"
      ]
     },
     "execution_count": 556,
     "metadata": {},
     "output_type": "execute_result"
    }
   ],
   "source": [
    "len(good_rejects)"
   ]
  },
  {
   "cell_type": "code",
   "execution_count": 557,
   "id": "4a365e55-9a50-4e83-bebd-97d55476374a",
   "metadata": {},
   "outputs": [
    {
     "data": {
      "text/plain": [
       "68"
      ]
     },
     "execution_count": 557,
     "metadata": {},
     "output_type": "execute_result"
    }
   ],
   "source": [
    "len(cvs_minus)"
   ]
  },
  {
   "cell_type": "code",
   "execution_count": 558,
   "id": "2f9e9ff3-1551-491a-b0b8-f903bd3a046e",
   "metadata": {},
   "outputs": [],
   "source": [
    "sample = bad_rejects[0]\n",
    "ci_l = sample.mean() - t*sample.std()/np.sqrt(n-1)\n",
    "ci_u = sample.mean() + t*sample.std()/np.sqrt(n-1)"
   ]
  },
  {
   "cell_type": "code",
   "execution_count": 559,
   "id": "857a9b34-b59f-4a9c-a818-f9e73b7809d9",
   "metadata": {},
   "outputs": [
    {
     "data": {
      "text/plain": [
       "5.51446847513337"
      ]
     },
     "execution_count": 559,
     "metadata": {},
     "output_type": "execute_result"
    }
   ],
   "source": [
    "ci_l"
   ]
  },
  {
   "cell_type": "code",
   "execution_count": 533,
   "id": "a59c6810-8d95-482e-9989-1262cfda9f9e",
   "metadata": {},
   "outputs": [
    {
     "data": {
      "text/plain": [
       "10.251427991297968"
      ]
     },
     "execution_count": 533,
     "metadata": {},
     "output_type": "execute_result"
    }
   ],
   "source": [
    "ci_u"
   ]
  },
  {
   "cell_type": "code",
   "execution_count": 534,
   "id": "f9fa4b47-a39b-4a5a-9f9b-8079954a4f31",
   "metadata": {},
   "outputs": [
    {
     "data": {
      "text/plain": [
       "False"
      ]
     },
     "execution_count": 534,
     "metadata": {},
     "output_type": "execute_result"
    }
   ],
   "source": [
    "(pop.mean() >= ci_l) & (pop.mean() <= ci_u)"
   ]
  },
  {
   "cell_type": "code",
   "execution_count": 535,
   "id": "f687dbf6-6f98-4fc0-8c72-d054c73888f0",
   "metadata": {},
   "outputs": [
    {
     "data": {
      "text/plain": [
       "array([ 7.,  8., 10.,  7.])"
      ]
     },
     "execution_count": 535,
     "metadata": {},
     "output_type": "execute_result"
    }
   ],
   "source": [
    "bad_rejects[0]"
   ]
  },
  {
   "cell_type": "code",
   "execution_count": 536,
   "id": "fb5ada53-134f-4c22-90f5-431c339bac22",
   "metadata": {},
   "outputs": [
    {
     "data": {
      "text/plain": [
       "8.0"
      ]
     },
     "execution_count": 536,
     "metadata": {},
     "output_type": "execute_result"
    }
   ],
   "source": [
    "bad_rejects[0].mean()"
   ]
  },
  {
   "cell_type": "code",
   "execution_count": 537,
   "id": "e37c2c3f-f134-468f-8292-fb116e8b1cda",
   "metadata": {},
   "outputs": [
    {
     "data": {
      "text/plain": [
       "1.224744871391589"
      ]
     },
     "execution_count": 537,
     "metadata": {},
     "output_type": "execute_result"
    }
   ],
   "source": [
    "bad_rejects[0].std()"
   ]
  },
  {
   "cell_type": "code",
   "execution_count": 538,
   "id": "8f85dde1-0832-48ae-9492-0047c36499fa",
   "metadata": {},
   "outputs": [
    {
     "data": {
      "text/plain": [
       "2.685164303196366"
      ]
     },
     "execution_count": 538,
     "metadata": {},
     "output_type": "execute_result"
    }
   ],
   "source": [
    "ci_l_samplingdist"
   ]
  },
  {
   "cell_type": "code",
   "execution_count": 539,
   "id": "f04a52d0-4979-4bac-90ac-aee4cefbb5cd",
   "metadata": {},
   "outputs": [
    {
     "data": {
      "text/plain": [
       "8.314835696803634"
      ]
     },
     "execution_count": 539,
     "metadata": {},
     "output_type": "execute_result"
    }
   ],
   "source": [
    "ci_u_samplingdist"
   ]
  },
  {
   "cell_type": "code",
   "execution_count": 540,
   "id": "60816fdf-55f4-42d8-9fa9-acc593d4c43f",
   "metadata": {},
   "outputs": [
    {
     "data": {
      "text/plain": [
       "2.8722813232690143"
      ]
     },
     "execution_count": 540,
     "metadata": {},
     "output_type": "execute_result"
    }
   ],
   "source": [
    "pop.std()"
   ]
  },
  {
   "cell_type": "code",
   "execution_count": 541,
   "id": "c7a819f7-b965-4c43-8010-39263944171c",
   "metadata": {},
   "outputs": [
    {
     "data": {
      "text/plain": [
       "[1.3568010505999364,\n",
       " 0.7977240352174656,\n",
       " 0.9003366373785201,\n",
       " 0.7929614610987591,\n",
       " 0.7929614610987591,\n",
       " 0.8660254037844386,\n",
       " 0.816496580927726,\n",
       " 0.996204919895622,\n",
       " 0.30151134457776363,\n",
       " 0.6215815605080611,\n",
       " 0.8660254037844386,\n",
       " 0.7385489458759963,\n",
       " 0.9045340337332909,\n",
       " 0.937436866561092,\n",
       " 1.334279966987075,\n",
       " 0.9333874443188751,\n",
       " 0.49236596391733095,\n",
       " 1.0552897060221726,\n",
       " 0.778498944161523,\n",
       " 0.7177405625652734,\n",
       " 0.7537783614444091,\n",
       " 0.7385489458759963,\n",
       " 0.830297500534561,\n",
       " 0.5707517636920413,\n",
       " 0.6215815605080611,\n",
       " 1.2431631210161223,\n",
       " 1.0,\n",
       " 1.0150384378451047,\n",
       " 0.7977240352174656,\n",
       " 1.1677484162422844,\n",
       " 0.830297500534561,\n",
       " 0.9333874443188751,\n",
       " 1.164500152881315,\n",
       " 0.6030226891555273,\n",
       " 1.164500152881315,\n",
       " 0.7929614610987591,\n",
       " 1.2185435916898848,\n",
       " 1.2792042981336627,\n",
       " 0.8876253645985945,\n",
       " 1.0298573010888745,\n",
       " 0.3793934553196641,\n",
       " 0.830297500534561,\n",
       " 0.937436866561092,\n",
       " 0.9003366373785201,\n",
       " 1.4142135623730951,\n",
       " 0.9534625892455924,\n",
       " 0.6685579234215214,\n",
       " 0.6215815605080611,\n",
       " 1.0730867399773196,\n",
       " 0.7177405625652734,\n",
       " 1.0150384378451047,\n",
       " 0.7977240352174656,\n",
       " 0.6215815605080611,\n",
       " 0.6215815605080611,\n",
       " 1.0150384378451047,\n",
       " 0.9333874443188751,\n",
       " 1.1806521053804944,\n",
       " 0.5773502691896257,\n",
       " 1.2431631210161223,\n",
       " 1.2880570286640685,\n",
       " 0.5707517636920413,\n",
       " 0.6276459144608478,\n",
       " 1.2792042981336627,\n",
       " 1.2154310870109943,\n",
       " 0.7177405625652734,\n",
       " 0.9003366373785201,\n",
       " 0.778498944161523,\n",
       " 0.5707517636920413,\n",
       " 1.0150384378451047,\n",
       " 1.0552897060221726,\n",
       " 0.6513389472789296,\n",
       " 0.5222329678670935,\n",
       " 0.5222329678670935,\n",
       " 0.9534625892455924,\n",
       " 0.937436866561092,\n",
       " 1.2792042981336627,\n",
       " 1.1547005383792515,\n",
       " 0.6685579234215214,\n",
       " 1.1677484162422844,\n",
       " 0.9333874443188751,\n",
       " 0.9333874443188751,\n",
       " 1.111237366564176,\n",
       " 1.044465935734187,\n",
       " 0.28867513459481287,\n",
       " 1.0552897060221726,\n",
       " 1.0298573010888745,\n",
       " 1.2880570286640685,\n",
       " 1.334279966987075,\n",
       " 0.8876253645985945,\n",
       " 0.7929614610987591,\n",
       " 0.42640143271122083,\n",
       " 0.937436866561092,\n",
       " 0.7385489458759963,\n",
       " 0.830297500534561,\n",
       " 1.0588730430094635,\n",
       " 0.937436866561092,\n",
       " 0.8876253645985945,\n",
       " 1.2309149097933274,\n",
       " 1.0552897060221726,\n",
       " 0.937436866561092,\n",
       " 0.6276459144608478,\n",
       " 1.1146408580454255,\n",
       " 1.0730867399773196,\n",
       " 0.9045340337332909,\n",
       " 0.8528028654224417,\n",
       " 0.5149286505444373,\n",
       " 1.0836246694508318,\n",
       " 0.3793934553196641,\n",
       " 0.3892494720807615,\n",
       " 1.0150384378451047,\n",
       " 0.3892494720807615,\n",
       " 0.7537783614444091,\n",
       " 0.7929614610987591,\n",
       " 1.0836246694508318,\n",
       " 0.8876253645985945,\n",
       " 0.6276459144608478,\n",
       " 0.937436866561092,\n",
       " 0.3892494720807615,\n",
       " 0.778498944161523,\n",
       " 0.6215815605080611,\n",
       " 1.0730867399773196,\n",
       " 1.0150384378451047,\n",
       " 1.1677484162422844,\n",
       " 0.8528028654224417,\n",
       " 1.044465935734187,\n",
       " 0.6215815605080611,\n",
       " 1.2309149097933274,\n",
       " 0.9003366373785201,\n",
       " 0.7537783614444091,\n",
       " 1.2401124093721454,\n",
       " 0.9003366373785201,\n",
       " 0.6276459144608478,\n",
       " 0.816496580927726,\n",
       " 0.996204919895622,\n",
       " 1.164500152881315,\n",
       " 1.0261726477695179,\n",
       " 1.044465935734187,\n",
       " 0.6215815605080611,\n",
       " 0.6513389472789296,\n",
       " 0.6513389472789296,\n",
       " 0.7177405625652734,\n",
       " 1.334279966987075,\n",
       " 0.6215815605080611,\n",
       " 0.8876253645985945,\n",
       " 0.996204919895622,\n",
       " 0.42640143271122083,\n",
       " 1.1381803659589922,\n",
       " 0.937436866561092,\n",
       " 0.6685579234215214,\n",
       " 0.996204919895622,\n",
       " 1.0836246694508318,\n",
       " 0.937436866561092,\n",
       " 0.7977240352174656,\n",
       " 0.5773502691896257,\n",
       " 0.996204919895622,\n",
       " 0.7929614610987591,\n",
       " 1.164500152881315,\n",
       " 0.6685579234215214,\n",
       " 1.0150384378451047,\n",
       " 0.7977240352174656,\n",
       " 0.996204919895622,\n",
       " 0.6276459144608478,\n",
       " 1.0261726477695179,\n",
       " 1.0730867399773196,\n",
       " 0.9534625892455924,\n",
       " 0.5707517636920413,\n",
       " 1.164500152881315,\n",
       " 0.9847319278346619,\n",
       " 0.8876253645985945,\n",
       " 0.7977240352174656,\n",
       " 1.2880570286640685,\n",
       " 1.044465935734187,\n",
       " 1.1902380714238083,\n",
       " 0.5222329678670935,\n",
       " 0.7385489458759963,\n",
       " 0.9003366373785201,\n",
       " 1.164500152881315,\n",
       " 0.6513389472789296,\n",
       " 1.0150384378451047,\n",
       " 0.6685579234215214,\n",
       " 0.7177405625652734,\n",
       " 0.6685579234215214,\n",
       " 1.1146408580454255,\n",
       " 1.1381803659589922,\n",
       " 1.164500152881315,\n",
       " 0.5707517636920413,\n",
       " 1.2792042981336627,\n",
       " 0.7587869106393282,\n",
       " 0.7177405625652734,\n",
       " 1.111237366564176,\n",
       " 0.9045340337332909,\n",
       " 1.0730867399773196,\n",
       " 0.9653072991634228,\n",
       " 1.334279966987075,\n",
       " 1.0261726477695179,\n",
       " 1.3568010505999364,\n",
       " 0.6685579234215214,\n",
       " 0.9653072991634228,\n",
       " 0.3793934553196641,\n",
       " 1.1146408580454255,\n",
       " 0.6685579234215214,\n",
       " 0.7929614610987591,\n",
       " 0.7587869106393282,\n",
       " 0.45226701686664544,\n",
       " 0.8876253645985945,\n",
       " 0.9653072991634228,\n",
       " 1.0298573010888745,\n",
       " 1.164500152881315,\n",
       " 0.7177405625652734,\n",
       " 0.8876253645985945,\n",
       " 1.1381803659589922,\n",
       " 0.42640143271122083,\n",
       " 0.816496580927726,\n",
       " 0.830297500534561,\n",
       " 1.0298573010888745,\n",
       " 0.6513389472789296,\n",
       " 0.9045340337332909,\n",
       " 1.2309149097933274,\n",
       " 0.830297500534561,\n",
       " 0.7385489458759963,\n",
       " 1.0836246694508318,\n",
       " 1.1146408580454255,\n",
       " 0.830297500534561,\n",
       " 1.0,\n",
       " 0.7587869106393282,\n",
       " 0.5773502691896257,\n",
       " 0.7385489458759963,\n",
       " 1.1146408580454255,\n",
       " 0.8876253645985945,\n",
       " 0.7537783614444091,\n",
       " 0.6513389472789296,\n",
       " 0.7177405625652734,\n",
       " 1.1009637651263606,\n",
       " 0.42640143271122083,\n",
       " 0.7177405625652734,\n",
       " 0.937436866561092,\n",
       " 0.6685579234215214,\n",
       " 0.6685579234215214,\n",
       " 1.0,\n",
       " 0.9333874443188751,\n",
       " 1.164500152881315,\n",
       " 0.6276459144608478,\n",
       " 0.42640143271122083,\n",
       " 0.5149286505444373,\n",
       " 0.5773502691896257,\n",
       " 1.1381803659589922,\n",
       " 0.7977240352174656,\n",
       " 0.45226701686664544,\n",
       " 1.334279966987075,\n",
       " 1.0261726477695179,\n",
       " 0.7929614610987591,\n",
       " 0.937436866561092,\n",
       " 0.5149286505444373,\n",
       " 1.0150384378451047,\n",
       " 0.7177405625652734,\n",
       " 0.9003366373785201,\n",
       " 0.8876253645985945,\n",
       " 0.28867513459481287,\n",
       " 0.6215815605080611,\n",
       " 0.8660254037844386,\n",
       " 0.8876253645985945,\n",
       " 0.830297500534561,\n",
       " 0.6513389472789296,\n",
       " 1.0261726477695179,\n",
       " 1.0552897060221726,\n",
       " 1.1009637651263606,\n",
       " 0.9653072991634228,\n",
       " 0.8660254037844386,\n",
       " 1.2154310870109943,\n",
       " 1.164500152881315,\n",
       " 1.0261726477695179,\n",
       " 0.7385489458759963,\n",
       " 0.7385489458759963,\n",
       " 0.45226701686664544,\n",
       " 1.1381803659589922,\n",
       " 1.2431631210161223,\n",
       " 0.937436866561092,\n",
       " 0.9333874443188751,\n",
       " 0.7929614610987591,\n",
       " 0.9333874443188751,\n",
       " 0.42640143271122083,\n",
       " 0.3481553119113957,\n",
       " 0.7177405625652734,\n",
       " 0.9653072991634228,\n",
       " 1.1381803659589922,\n",
       " 0.7977240352174656,\n",
       " 0.7385489458759963,\n",
       " 0.9333874443188751,\n",
       " 1.2185435916898848,\n",
       " 0.6963106238227914,\n",
       " 0.9333874443188751,\n",
       " 0.8660254037844386,\n",
       " 0.830297500534561,\n",
       " 0.7385489458759963,\n",
       " 0.9003366373785201,\n",
       " 0.8703882797784892,\n",
       " 0.996204919895622,\n",
       " 0.9333874443188751,\n",
       " 0.6513389472789296,\n",
       " 0.778498944161523,\n",
       " 1.1009637651263606,\n",
       " 0.7177405625652734,\n",
       " 0.5773502691896257,\n",
       " 0.28867513459481287,\n",
       " 1.044465935734187,\n",
       " 1.164500152881315,\n",
       " 0.9003366373785201,\n",
       " 1.2401124093721454,\n",
       " 0.7977240352174656,\n",
       " 0.830297500534561,\n",
       " 1.0261726477695179,\n",
       " 1.0150384378451047,\n",
       " 1.2792042981336627,\n",
       " 1.1381803659589922,\n",
       " 1.334279966987075,\n",
       " 0.5773502691896257,\n",
       " 0.7929614610987591,\n",
       " 1.334279966987075,\n",
       " 0.8703882797784892,\n",
       " 0.3793934553196641,\n",
       " 1.2401124093721454,\n",
       " 1.2880570286640685,\n",
       " 1.0552897060221726,\n",
       " 0.778498944161523,\n",
       " 1.2792042981336627,\n",
       " 0.42640143271122083,\n",
       " 0.5222329678670935,\n",
       " 0.6685579234215214,\n",
       " 0.5149286505444373,\n",
       " 1.334279966987075,\n",
       " 1.1902380714238083,\n",
       " 0.8660254037844386,\n",
       " 1.3568010505999364,\n",
       " 0.996204919895622,\n",
       " 0.7177405625652734,\n",
       " 0.5222329678670935,\n",
       " 0.7587869106393282,\n",
       " 0.6963106238227914,\n",
       " 1.0730867399773196,\n",
       " 1.1806521053804944,\n",
       " 0.937436866561092,\n",
       " 1.0836246694508318,\n",
       " 1.164500152881315,\n",
       " 0.7977240352174656,\n",
       " 0.6276459144608478,\n",
       " 0.712443511849015,\n",
       " 1.1381803659589922,\n",
       " 0.712443511849015,\n",
       " 0.9333874443188751,\n",
       " 0.7929614610987591,\n",
       " 0.937436866561092,\n",
       " 0.6215815605080611,\n",
       " 0.996204919895622,\n",
       " 1.2154310870109943,\n",
       " 0.9045340337332909,\n",
       " 1.2401124093721454,\n",
       " 1.0552897060221726,\n",
       " 0.6513389472789296,\n",
       " 0.7177405625652734,\n",
       " 0.5222329678670935,\n",
       " 0.996204919895622,\n",
       " 1.1415035273840826,\n",
       " 0.8528028654224417,\n",
       " 0.996204919895622,\n",
       " 1.2431631210161223,\n",
       " 1.0588730430094635,\n",
       " 1.164500152881315,\n",
       " 0.3793934553196641,\n",
       " 0.7177405625652734,\n",
       " 1.1146408580454255,\n",
       " 0.7537783614444091,\n",
       " 0.712443511849015,\n",
       " 0.7929614610987591,\n",
       " 0.8528028654224417,\n",
       " 0.5149286505444373,\n",
       " 1.1547005383792515,\n",
       " 0.9045340337332909,\n",
       " 1.2309149097933274,\n",
       " 0.3892494720807615,\n",
       " 0.5504818825631803,\n",
       " 0.3892494720807615,\n",
       " 1.334279966987075,\n",
       " 1.2154310870109943,\n",
       " 0.5149286505444373,\n",
       " 0.8660254037844386,\n",
       " 0.937436866561092,\n",
       " 0.45226701686664544,\n",
       " 0.49236596391733095,\n",
       " 0.9045340337332909,\n",
       " 1.0836246694508318,\n",
       " 0.8660254037844386,\n",
       " 1.0261726477695179,\n",
       " 0.8876253645985945,\n",
       " 0.7177405625652734,\n",
       " 1.164500152881315,\n",
       " 0.6276459144608478,\n",
       " 1.1146408580454255,\n",
       " 1.164500152881315,\n",
       " 1.0730867399773196,\n",
       " 1.2185435916898848,\n",
       " 0.8876253645985945,\n",
       " 0.8703882797784892,\n",
       " 0.9653072991634228,\n",
       " 0.9003366373785201,\n",
       " 0.937436866561092,\n",
       " 0.7977240352174656,\n",
       " 0.5707517636920413,\n",
       " 0.8660254037844386,\n",
       " 0.7385489458759963,\n",
       " 1.0730867399773196,\n",
       " 1.044465935734187,\n",
       " 1.1902380714238083,\n",
       " 0.7177405625652734,\n",
       " 0.5149286505444373,\n",
       " 0.8876253645985945,\n",
       " 0.7977240352174656,\n",
       " 1.0730867399773196,\n",
       " 1.3113721705515067,\n",
       " 0.8528028654224417,\n",
       " 1.1381803659589922,\n",
       " 0.5222329678670935,\n",
       " 0.9534625892455924,\n",
       " 1.164500152881315,\n",
       " 0.5773502691896257,\n",
       " 0.9653072991634228,\n",
       " 1.1146408580454255,\n",
       " 1.0730867399773196,\n",
       " 0.816496580927726,\n",
       " 0.8876253645985945,\n",
       " 0.7177405625652734,\n",
       " 0.7977240352174656,\n",
       " 0.996204919895622,\n",
       " 0.9653072991634228,\n",
       " 1.1415035273840826,\n",
       " 0.8528028654224417,\n",
       " 1.0298573010888745,\n",
       " 0.5773502691896257,\n",
       " 0.5773502691896257,\n",
       " 0.8660254037844386,\n",
       " 0.5773502691896257,\n",
       " 0.3793934553196641,\n",
       " 0.9003366373785201,\n",
       " 0.9333874443188751,\n",
       " 0.9653072991634228,\n",
       " 0.3793934553196641,\n",
       " 0.42640143271122083,\n",
       " 0.5707517636920413,\n",
       " 0.9333874443188751,\n",
       " 1.2880570286640685,\n",
       " 1.044465935734187,\n",
       " 0.5504818825631803,\n",
       " 0.6215815605080611,\n",
       " 1.164500152881315,\n",
       " 0.9653072991634228,\n",
       " 0.28867513459481287,\n",
       " 1.044465935734187,\n",
       " 0.5149286505444373,\n",
       " 0.6030226891555273,\n",
       " 0.8660254037844386,\n",
       " 0.7177405625652734,\n",
       " 0.937436866561092,\n",
       " 0.3793934553196641,\n",
       " 0.7537783614444091,\n",
       " 0.7385489458759963,\n",
       " 0.7537783614444091,\n",
       " 0.3481553119113957,\n",
       " 0.9534625892455924,\n",
       " 0.5222329678670935,\n",
       " 0.8876253645985945,\n",
       " 1.2401124093721454,\n",
       " 0.7385489458759963,\n",
       " 0.9534625892455924,\n",
       " 1.1146408580454255,\n",
       " 0.5149286505444373,\n",
       " 0.8703882797784892,\n",
       " 0.7977240352174656,\n",
       " 1.4142135623730951,\n",
       " 0.7177405625652734,\n",
       " 0.9534625892455924,\n",
       " 0.28867513459481287,\n",
       " 1.0836246694508318,\n",
       " 0.8876253645985945,\n",
       " 0.7977240352174656,\n",
       " 0.5504818825631803,\n",
       " 0.45226701686664544,\n",
       " 1.2309149097933274,\n",
       " 0.3793934553196641,\n",
       " 1.334279966987075,\n",
       " 0.24618298195866548,\n",
       " 0.7929614610987591,\n",
       " 0.6513389472789296,\n",
       " 1.1902380714238083,\n",
       " 0.996204919895622,\n",
       " 1.0,\n",
       " 0.9653072991634228,\n",
       " 0.8660254037844386,\n",
       " 0.7929614610987591,\n",
       " 0.6215815605080611,\n",
       " 0.9333874443188751,\n",
       " 1.0588730430094635,\n",
       " 1.0150384378451047,\n",
       " 0.7929614610987591,\n",
       " 0.5149286505444373,\n",
       " 1.1677484162422844,\n",
       " 0.9003366373785201,\n",
       " 0.8876253645985945,\n",
       " 0.6215815605080611,\n",
       " 0.6685579234215214,\n",
       " 1.0730867399773196,\n",
       " 0.830297500534561,\n",
       " 0.7929614610987591,\n",
       " 0.7977240352174656,\n",
       " 0.8876253645985945,\n",
       " 0.5773502691896257,\n",
       " 0.6030226891555273,\n",
       " 0.7977240352174656,\n",
       " 0.6685579234215214,\n",
       " 1.3142574813455419,\n",
       " 0.6685579234215214,\n",
       " 0.9653072991634228,\n",
       " 1.0150384378451047,\n",
       " 0.9003366373785201,\n",
       " 0.830297500534561,\n",
       " 0.7537783614444091,\n",
       " 1.0552897060221726,\n",
       " 1.0,\n",
       " 1.164500152881315,\n",
       " 1.0730867399773196,\n",
       " 0.830297500534561,\n",
       " 0.5773502691896257,\n",
       " 0.6513389472789296,\n",
       " 0.6215815605080611,\n",
       " 0.937436866561092,\n",
       " 0.778498944161523,\n",
       " 0.712443511849015,\n",
       " 0.8703882797784892,\n",
       " 1.0261726477695179,\n",
       " 0.8876253645985945,\n",
       " 0.816496580927726,\n",
       " 0.8703882797784892,\n",
       " 0.5773502691896257,\n",
       " 0.7929614610987591,\n",
       " 0.6963106238227914,\n",
       " 0.6276459144608478,\n",
       " 1.2154310870109943,\n",
       " 0.6685579234215214,\n",
       " 0.9003366373785201,\n",
       " 0.8876253645985945,\n",
       " 1.164500152881315,\n",
       " 1.0552897060221726,\n",
       " 1.0261726477695179,\n",
       " 0.9045340337332909,\n",
       " 0.7177405625652734,\n",
       " 0.937436866561092,\n",
       " 0.6215815605080611,\n",
       " 0.996204919895622,\n",
       " 1.0836246694508318,\n",
       " 0.6685579234215214,\n",
       " 0.996204919895622,\n",
       " 0.6513389472789296,\n",
       " 0.7177405625652734,\n",
       " 0.7587869106393282,\n",
       " 1.2792042981336627,\n",
       " 0.9045340337332909,\n",
       " 0.9333874443188751,\n",
       " 0.9534625892455924,\n",
       " 0.830297500534561,\n",
       " 0.7587869106393282,\n",
       " 0.8876253645985945,\n",
       " 1.1902380714238083,\n",
       " 0.9045340337332909,\n",
       " 0.937436866561092,\n",
       " 0.30151134457776363,\n",
       " 0.6685579234215214,\n",
       " 1.0552897060221726,\n",
       " 0.8703882797784892,\n",
       " 0.712443511849015,\n",
       " 0.8703882797784892,\n",
       " 0.9045340337332909,\n",
       " 0.6030226891555273,\n",
       " 0.937436866561092,\n",
       " 0.937436866561092,\n",
       " 1.1146408580454255,\n",
       " 0.7537783614444091,\n",
       " 0.7177405625652734,\n",
       " 0.5149286505444373,\n",
       " 1.2880570286640685,\n",
       " 1.2154310870109943,\n",
       " 0.9333874443188751,\n",
       " 0.996204919895622,\n",
       " 1.0552897060221726,\n",
       " 0.5149286505444373,\n",
       " 0.5149286505444373,\n",
       " 1.1009637651263606,\n",
       " 1.0730867399773196,\n",
       " 0.6685579234215214,\n",
       " 0.3793934553196641,\n",
       " 0.8703882797784892,\n",
       " 1.164500152881315,\n",
       " 0.5149286505444373,\n",
       " 0.7177405625652734,\n",
       " 0.712443511849015,\n",
       " 0.5222329678670935,\n",
       " 1.4142135623730951,\n",
       " 1.0730867399773196,\n",
       " 0.830297500534561,\n",
       " 1.0836246694508318,\n",
       " 1.0588730430094635,\n",
       " 1.334279966987075,\n",
       " 0.9534625892455924,\n",
       " 0.7929614610987591,\n",
       " 1.1146408580454255,\n",
       " 1.0552897060221726,\n",
       " 0.996204919895622,\n",
       " 0.7537783614444091,\n",
       " 0.6685579234215214,\n",
       " 0.996204919895622,\n",
       " 1.0836246694508318,\n",
       " 0.6685579234215214,\n",
       " 0.7177405625652734,\n",
       " 1.1902380714238083,\n",
       " 0.6513389472789296,\n",
       " 0.5222329678670935,\n",
       " 1.2792042981336627,\n",
       " 1.1009637651263606,\n",
       " 0.9847319278346619,\n",
       " 1.164500152881315,\n",
       " 0.937436866561092,\n",
       " 1.1146408580454255,\n",
       " 0.6215815605080611,\n",
       " 1.1547005383792515,\n",
       " 0.6215815605080611,\n",
       " 0.7537783614444091,\n",
       " 1.2401124093721454,\n",
       " 1.1677484162422844,\n",
       " 1.164500152881315,\n",
       " 0.7537783614444091,\n",
       " 0.7537783614444091,\n",
       " 1.0552897060221726,\n",
       " 0.7177405625652734,\n",
       " 1.3142574813455419,\n",
       " 0.6513389472789296,\n",
       " 1.2792042981336627,\n",
       " 0.8660254037844386,\n",
       " 0.6685579234215214,\n",
       " 1.0,\n",
       " 0.45226701686664544,\n",
       " 0.778498944161523,\n",
       " 1.0836246694508318,\n",
       " 0.8876253645985945,\n",
       " 0.8703882797784892,\n",
       " 0.996204919895622,\n",
       " 0.6513389472789296,\n",
       " 1.0730867399773196,\n",
       " 1.0261726477695179,\n",
       " 0.6685579234215214,\n",
       " 0.778498944161523,\n",
       " 1.1146408580454255,\n",
       " 0.9045340337332909,\n",
       " 0.9653072991634228,\n",
       " 0.9333874443188751,\n",
       " 0.5222329678670935,\n",
       " 0.7929614610987591,\n",
       " 0.6276459144608478,\n",
       " 0.5504818825631803,\n",
       " 0.7929614610987591,\n",
       " 0.28867513459481287,\n",
       " 0.8660254037844386,\n",
       " 0.8528028654224417,\n",
       " 0.996204919895622,\n",
       " 1.0730867399773196,\n",
       " 0.9003366373785201,\n",
       " 0.9333874443188751,\n",
       " 0.7929614610987591,\n",
       " 0.996204919895622,\n",
       " 0.7929614610987591,\n",
       " 0.8876253645985945,\n",
       " 0.7385489458759963,\n",
       " 0.7929614610987591,\n",
       " 0.996204919895622,\n",
       " 1.0261726477695179,\n",
       " 0.996204919895622,\n",
       " 0.9534625892455924,\n",
       " 0.9534625892455924,\n",
       " 0.9333874443188751,\n",
       " 0.6513389472789296,\n",
       " 0.5773502691896257,\n",
       " 0.6685579234215214,\n",
       " 0.6215815605080611,\n",
       " 0.5222329678670935,\n",
       " 1.1902380714238083,\n",
       " 0.5222329678670935,\n",
       " 0.3892494720807615,\n",
       " 0.7537783614444091,\n",
       " 1.1381803659589922,\n",
       " 0.8876253645985945,\n",
       " 0.8660254037844386,\n",
       " 0.996204919895622,\n",
       " 1.1381803659589922,\n",
       " 0.996204919895622,\n",
       " 1.2673044646258476,\n",
       " 1.1381803659589922,\n",
       " 0.42640143271122083,\n",
       " 1.2401124093721454,\n",
       " 0.7977240352174656,\n",
       " 0.45226701686664544,\n",
       " 0.7537783614444091,\n",
       " 0.937436866561092,\n",
       " 1.0298573010888745,\n",
       " 0.6215815605080611,\n",
       " 0.5773502691896257,\n",
       " 1.0298573010888745,\n",
       " 1.2431631210161223,\n",
       " 1.2154310870109943,\n",
       " 0.5707517636920413,\n",
       " 0.778498944161523,\n",
       " 0.6215815605080611,\n",
       " 0.6685579234215214,\n",
       " 0.7537783614444091,\n",
       " 0.7929614610987591,\n",
       " 1.1415035273840826,\n",
       " 0.6685579234215214,\n",
       " 1.0730867399773196,\n",
       " 0.8876253645985945,\n",
       " 1.2792042981336627,\n",
       " 0.6685579234215214,\n",
       " 0.8660254037844386,\n",
       " 0.7177405625652734,\n",
       " 0.17407765595569785,\n",
       " 1.0,\n",
       " 0.7177405625652734,\n",
       " 1.0730867399773196,\n",
       " 1.0552897060221726,\n",
       " 1.0552897060221726,\n",
       " 1.1677484162422844,\n",
       " 1.1146408580454255,\n",
       " 0.937436866561092,\n",
       " 0.996204919895622,\n",
       " 0.7587869106393282,\n",
       " 0.7929614610987591,\n",
       " 0.45226701686664544,\n",
       " 1.4847711791873703,\n",
       " 1.2309149097933274,\n",
       " 1.1806521053804944,\n",
       " 0.3892494720807615,\n",
       " 0.6276459144608478,\n",
       " 0.937436866561092,\n",
       " 0.5149286505444373,\n",
       " 0.7929614610987591,\n",
       " 1.3142574813455419,\n",
       " 1.1146408580454255,\n",
       " 1.3926212476455828,\n",
       " 0.28867513459481287,\n",
       " 0.6685579234215214,\n",
       " 1.1381803659589922,\n",
       " 0.937436866561092,\n",
       " 0.6685579234215214,\n",
       " 1.2673044646258476,\n",
       " 0.996204919895622,\n",
       " 0.5222329678670935,\n",
       " 0.9003366373785201,\n",
       " 1.164500152881315,\n",
       " 0.6513389472789296,\n",
       " 0.28867513459481287,\n",
       " 1.0,\n",
       " 0.49236596391733095,\n",
       " 1.164500152881315,\n",
       " 0.8876253645985945,\n",
       " 1.164500152881315,\n",
       " 0.6513389472789296,\n",
       " 0.45226701686664544,\n",
       " 0.8703882797784892,\n",
       " 0.6215815605080611,\n",
       " 0.7177405625652734,\n",
       " 0.996204919895622,\n",
       " 0.8876253645985945,\n",
       " 0.5222329678670935,\n",
       " 0.5222329678670935,\n",
       " 0.7929614610987591,\n",
       " 0.7977240352174656,\n",
       " 0.7929614610987591,\n",
       " 0.937436866561092,\n",
       " 0.6215815605080611,\n",
       " 0.9003366373785201,\n",
       " 1.0730867399773196,\n",
       " 0.9045340337332909,\n",
       " 0.3892494720807615,\n",
       " 0.8528028654224417,\n",
       " 1.1381803659589922,\n",
       " 1.1547005383792515,\n",
       " 0.7929614610987591,\n",
       " 0.5504818825631803,\n",
       " 0.9653072991634228,\n",
       " 0.3892494720807615,\n",
       " 1.0730867399773196,\n",
       " 0.7385489458759963,\n",
       " 1.0150384378451047,\n",
       " 0.8876253645985945,\n",
       " 0.5504818825631803,\n",
       " 0.9045340337332909,\n",
       " 0.8876253645985945,\n",
       " 0.996204919895622,\n",
       " 0.8876253645985945,\n",
       " 0.28867513459481287,\n",
       " 0.7537783614444091,\n",
       " 1.1902380714238083,\n",
       " 0.8703882797784892,\n",
       " 1.0588730430094635,\n",
       " 1.1806521053804944,\n",
       " 0.9003366373785201,\n",
       " 0.42640143271122083,\n",
       " 0.830297500534561,\n",
       " 0.45226701686664544,\n",
       " 1.2309149097933274,\n",
       " 0.9534625892455924,\n",
       " 1.1381803659589922,\n",
       " 1.0552897060221726,\n",
       " 0.3793934553196641,\n",
       " 0.9653072991634228,\n",
       " 0.5504818825631803,\n",
       " 0.830297500534561,\n",
       " 1.0552897060221726,\n",
       " 0.712443511849015,\n",
       " 0.6685579234215214,\n",
       " 0.5504818825631803,\n",
       " 0.9003366373785201,\n",
       " 0.8876253645985945,\n",
       " 1.1381803659589922,\n",
       " 1.0730867399773196,\n",
       " 0.996204919895622,\n",
       " 0.9333874443188751,\n",
       " 0.9653072991634228,\n",
       " 0.9003366373785201,\n",
       " 1.403458930534474,\n",
       " 0.8660254037844386,\n",
       " 0.6513389472789296,\n",
       " 1.0730867399773196,\n",
       " 1.164500152881315,\n",
       " 1.1009637651263606,\n",
       " 0.7177405625652734,\n",
       " 0.8660254037844386,\n",
       " 1.2401124093721454,\n",
       " 1.1806521053804944,\n",
       " 1.1381803659589922,\n",
       " 0.996204919895622,\n",
       " 1.0730867399773196,\n",
       " 1.1381803659589922,\n",
       " 0.830297500534561,\n",
       " 0.9333874443188751,\n",
       " 0.6215815605080611,\n",
       " 0.6215815605080611,\n",
       " 0.6685579234215214,\n",
       " 0.7537783614444091,\n",
       " 0.8660254037844386,\n",
       " 0.712443511849015,\n",
       " 0.7537783614444091,\n",
       " 0.6215815605080611,\n",
       " 0.816496580927726,\n",
       " 0.6215815605080611,\n",
       " 0.5222329678670935,\n",
       " 0.6685579234215214,\n",
       " 1.3568010505999364,\n",
       " 1.0298573010888745,\n",
       " 0.7977240352174656,\n",
       " 1.0150384378451047,\n",
       " 1.0,\n",
       " 0.5773502691896257,\n",
       " 0.8703882797784892,\n",
       " 0.9003366373785201,\n",
       " 0.9534625892455924,\n",
       " 0.17407765595569785,\n",
       " 0.9653072991634228,\n",
       " 0.7929614610987591,\n",
       " 0.9653072991634228,\n",
       " 1.1381803659589922,\n",
       " 1.3113721705515067,\n",
       " 0.6685579234215214,\n",
       " 0.816496580927726,\n",
       " 0.7929614610987591,\n",
       " 0.7385489458759963,\n",
       " 0.6215815605080611,\n",
       " 0.7537783614444091,\n",
       " 0.9003366373785201,\n",
       " 0.996204919895622,\n",
       " 0.28867513459481287,\n",
       " 0.9045340337332909,\n",
       " 1.0,\n",
       " 0.996204919895622,\n",
       " 0.816496580927726,\n",
       " 0.7385489458759963,\n",
       " 0.9045340337332909,\n",
       " 0.6513389472789296,\n",
       " 0.6215815605080611,\n",
       " 1.3926212476455828,\n",
       " 0.5222329678670935,\n",
       " 0.6685579234215214,\n",
       " 0.6685579234215214,\n",
       " 0.7977240352174656,\n",
       " 0.937436866561092,\n",
       " 0.9534625892455924,\n",
       " 0.5773502691896257,\n",
       " 0.30151134457776363,\n",
       " 1.1415035273840826,\n",
       " 1.1146408580454255,\n",
       " 0.816496580927726,\n",
       " 0.8876253645985945,\n",
       " 0.7537783614444091,\n",
       " 0.830297500534561,\n",
       " 0.7587869106393282,\n",
       " 1.2643120059877817,\n",
       " 1.1281521496355325,\n",
       " 0.28867513459481287,\n",
       " 0.45226701686664544,\n",
       " 0.5773502691896257,\n",
       " 0.712443511849015,\n",
       " 0.6685579234215214,\n",
       " 0.6513389472789296,\n",
       " 0.8528028654224417,\n",
       " 1.0836246694508318,\n",
       " 1.2643120059877817,\n",
       " 1.2792042981336627,\n",
       " 1.1146408580454255,\n",
       " 0.9003366373785201,\n",
       " 1.2154310870109943,\n",
       " 1.0730867399773196,\n",
       " 0.42640143271122083,\n",
       " 0.8660254037844386,\n",
       " 0.6685579234215214,\n",
       " 1.4847711791873703,\n",
       " 0.42640143271122083,\n",
       " 1.1415035273840826,\n",
       " 0.830297500534561,\n",
       " 1.0552897060221726,\n",
       " 0.5222329678670935,\n",
       " 0.996204919895622,\n",
       " 1.0588730430094635,\n",
       " 0.6513389472789296,\n",
       " 0.9003366373785201,\n",
       " 0.8876253645985945,\n",
       " 0.937436866561092,\n",
       " 0.49236596391733095,\n",
       " 0.6685579234215214,\n",
       " 0.3892494720807615,\n",
       " 0.9003366373785201,\n",
       " 0.42640143271122083,\n",
       " 1.1415035273840826,\n",
       " 0.8876253645985945,\n",
       " 1.1547005383792515,\n",
       " 0.7929614610987591,\n",
       " 0.9653072991634228,\n",
       " 0.7977240352174656,\n",
       " 0.712443511849015,\n",
       " 0.6215815605080611,\n",
       " 0.7929614610987591,\n",
       " 0.7385489458759963,\n",
       " 0.9003366373785201,\n",
       " 0.5504818825631803,\n",
       " 1.1009637651263606,\n",
       " 1.2154310870109943,\n",
       " 0.712443511849015,\n",
       " 1.0150384378451047,\n",
       " 0.6215815605080611,\n",
       " 0.6685579234215214,\n",
       " 1.0836246694508318,\n",
       " 0.42640143271122083,\n",
       " 0.6215815605080611,\n",
       " 0.7587869106393282,\n",
       " 1.044465935734187,\n",
       " 0.7177405625652734,\n",
       " 0.6215815605080611,\n",
       " 1.1146408580454255,\n",
       " 1.0298573010888745,\n",
       " 0.7977240352174656,\n",
       " 0.9045340337332909,\n",
       " 0.3793934553196641,\n",
       " 0.9045340337332909,\n",
       " 0.996204919895622,\n",
       " 0.7587869106393282,\n",
       " 0.3793934553196641,\n",
       " 0.5773502691896257,\n",
       " 0.6276459144608478,\n",
       " 0.816496580927726,\n",
       " 0.9534625892455924,\n",
       " 0.8876253645985945,\n",
       " 0.7977240352174656,\n",
       " 1.2431631210161223,\n",
       " 0.7177405625652734,\n",
       " 1.2431631210161223,\n",
       " 0.7929614610987591,\n",
       " 1.164500152881315,\n",
       " 0.8660254037844386,\n",
       " 0.937436866561092,\n",
       " 0.45226701686664544,\n",
       " 1.403458930534474,\n",
       " 0.996204919895622,\n",
       " 0.7177405625652734,\n",
       " 0.937436866561092,\n",
       " 0.49236596391733095,\n",
       " 0.9003366373785201,\n",
       " 0.778498944161523,\n",
       " ...]"
      ]
     },
     "execution_count": 541,
     "metadata": {},
     "output_type": "execute_result"
    }
   ],
   "source": [
    "cvs_plus"
   ]
  },
  {
   "cell_type": "code",
   "execution_count": null,
   "id": "4d703760-c117-41de-a43c-7b3924f604b3",
   "metadata": {},
   "outputs": [],
   "source": []
  }
 ],
 "metadata": {
  "kernelspec": {
   "display_name": "Python 3 (ipykernel)",
   "language": "python",
   "name": "python3"
  },
  "language_info": {
   "codemirror_mode": {
    "name": "ipython",
    "version": 3
   },
   "file_extension": ".py",
   "mimetype": "text/x-python",
   "name": "python",
   "nbconvert_exporter": "python",
   "pygments_lexer": "ipython3",
   "version": "3.11.7"
  }
 },
 "nbformat": 4,
 "nbformat_minor": 5
}
