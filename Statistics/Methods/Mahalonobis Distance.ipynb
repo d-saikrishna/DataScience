{
 "cells": [
  {
   "cell_type": "code",
   "execution_count": 43,
   "id": "6da3491d-3b4f-4b27-b588-8c4d7382728f",
   "metadata": {},
   "outputs": [],
   "source": [
    "import numpy as np \n",
    "import pandas as pd \n",
    "import scipy as stats \n",
    "from sklearn.datasets import make_blobs\n",
    "import matplotlib.pyplot as plt"
   ]
  },
  {
   "cell_type": "code",
   "execution_count": 58,
   "id": "6938dff7-4d34-48da-a260-379aa653a586",
   "metadata": {},
   "outputs": [],
   "source": [
    "# Create a dataset with 2 clusters\n",
    "X = np.random.normal(5,1,50)\n",
    "y = np.random.normal(3,0.4,50)\n",
    "df = pd.DataFrame([X,y]).T\n",
    "df.columns = ['x', 'y']\n",
    "\n",
    "# Calculate the mean vector and covariance matrix of the dataset\n",
    "mu = np.mean(df.values, axis=0)\n",
    "sigma = np.cov(df.T)"
   ]
  },
  {
   "cell_type": "code",
   "execution_count": 73,
   "id": "39732eda-73dd-4640-8e8b-235f6091d6b2",
   "metadata": {},
   "outputs": [],
   "source": [
    "from scipy.spatial.distance import mahalanobis\n",
    "# Calculate the Mahalanobis Distance between two points\n",
    "x1 = [2, 2]\n",
    "x2 = [7, 4]\n",
    "dist_x1 = mahalanobis(x1, mu, np.linalg.inv(sigma))\n",
    "dist_x2 = mahalanobis(x2, mu, np.linalg.inv(sigma))"
   ]
  },
  {
   "cell_type": "code",
   "execution_count": 74,
   "id": "4e4e7dfa-c073-4910-b6d7-d803dce9775e",
   "metadata": {},
   "outputs": [
    {
     "data": {
      "text/plain": [
       "4.011751632838811"
      ]
     },
     "execution_count": 74,
     "metadata": {},
     "output_type": "execute_result"
    }
   ],
   "source": [
    "dist_x1"
   ]
  },
  {
   "cell_type": "code",
   "execution_count": 75,
   "id": "1c823eb1-ed08-4cdf-b1aa-725cbedb6b42",
   "metadata": {},
   "outputs": [
    {
     "data": {
      "text/plain": [
       "3.3987510954874787"
      ]
     },
     "execution_count": 75,
     "metadata": {},
     "output_type": "execute_result"
    }
   ],
   "source": [
    "dist_x2"
   ]
  },
  {
   "cell_type": "code",
   "execution_count": 72,
   "id": "64fc56e2-aa25-43da-8765-b988bcd85c6c",
   "metadata": {},
   "outputs": [
    {
     "data": {
      "text/plain": [
       "<matplotlib.collections.PathCollection at 0x223574bd190>"
      ]
     },
     "execution_count": 72,
     "metadata": {},
     "output_type": "execute_result"
    },
    {
     "data": {
      "image/png": "[encoded data removed]",
      "text/plain": [
       "<Figure size 640x480 with 1 Axes>"
      ]
     },
     "metadata": {},
     "output_type": "display_data"
    }
   ],
   "source": [
    "plt.scatter(df.x, df.y)\n",
    "plt.scatter(2,2)\n",
    "plt.scatter(7,4)"
   ]
  },
  {
   "cell_type": "code",
   "execution_count": 61,
   "id": "1b385466-0a5e-4de9-bbd0-a7be790d3ce1",
   "metadata": {},
   "outputs": [
    {
     "data": {
      "text/plain": [
       "array([[1.20823241, 0.00703923],\n",
       "       [0.00703923, 6.09407675]])"
      ]
     },
     "execution_count": 61,
     "metadata": {},
     "output_type": "execute_result"
    }
   ],
   "source": [
    "np.linalg.inv(sigma)"
   ]
  },
  {
   "cell_type": "code",
   "execution_count": null,
   "id": "7b62a3f2-92c8-4fab-bf2b-2d0069663623",
   "metadata": {},
   "outputs": [],
   "source": []
  }
 ],
 "metadata": {
  "kernelspec": {
   "display_name": "Python 3 (ipykernel)",
   "language": "python",
   "name": "python3"
  },
  "language_info": {
   "codemirror_mode": {
    "name": "ipython",
    "version": 3
   },
   "file_extension": ".py",
   "mimetype": "text/x-python",
   "name": "python",
   "nbconvert_exporter": "python",
   "pygments_lexer": "ipython3",
   "version": "3.11.7"
  }
 },
 "nbformat": 4,
 "nbformat_minor": 5
}
