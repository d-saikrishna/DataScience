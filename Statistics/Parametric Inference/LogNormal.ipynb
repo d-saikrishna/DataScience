{
 "cells": [
  {
   "cell_type": "code",
   "execution_count": 1,
   "id": "a11b7998-d541-4e36-a625-659d9b24b182",
   "metadata": {},
   "outputs": [],
   "source": [
    "import numpy as np\n",
    "from scipy.stats import norm\n",
    "import scipy.stats as stats"
   ]
  },
  {
   "cell_type": "code",
   "execution_count": 2,
   "id": "ac65aaf3-1537-4d45-b649-07dfe35595ae",
   "metadata": {},
   "outputs": [],
   "source": [
    "# Original data\n",
    "#data = np.array([105, 144, 148, 150, 118, 179, 120, 156, 147, 87, 133, 83, 158, 109, 288, 94, 104, 118, 195, 170, 97, 123, 116, 119, 120, 130, 139, 136, 120, 118, 108, 199, 112, 106, 111, 131])\n",
    "#data = np.array([185, 227])\n",
    "#data = np.array([90, 78, 181, 79, 78, 76, 55, 82, 84, 58, 102])\n",
    "data = np.array([98, 150, 133, 193])\n",
    "\n",
    "# Log-transform the data\n",
    "log_data = np.log(data)\n",
    "\n",
    "# Estimate parameters\n",
    "mu = np.mean(log_data)\n",
    "sigma = np.std(log_data, ddof=1)\n",
    "\n",
    "degrees_of_freedom = len(log_data) - 1\n",
    "t_score = stats.t.ppf(0.975, degrees_of_freedom) # 95% confidence\n",
    "z = norm.ppf(0.975)  # 95% confidence"
   ]
  },
  {
   "cell_type": "code",
   "execution_count": 4,
   "id": "22139b90-4100-4150-8306-d0d428db446a",
   "metadata": {},
   "outputs": [
    {
     "data": {
      "text/plain": [
       "139.37393800264186"
      ]
     },
     "execution_count": 4,
     "metadata": {},
     "output_type": "execute_result"
    }
   ],
   "source": [
    "mu\n",
    "np.exp(mu)"
   ]
  },
  {
   "cell_type": "code",
   "execution_count": 14,
   "id": "c7f988c8-1498-4b8b-8340-c658bb33fecb",
   "metadata": {},
   "outputs": [
    {
     "data": {
      "text/plain": [
       "(89.06364650994031, 218.10351760295643)"
      ]
     },
     "execution_count": 14,
     "metadata": {},
     "output_type": "execute_result"
    }
   ],
   "source": [
    "# Confidence interval for the log-transformed data\n",
    "n = len(data)\n",
    "\n",
    "ci_lower_log = mu - t_score * (sigma / np.sqrt(n))\n",
    "ci_upper_log = mu + t_score * (sigma / np.sqrt(n))\n",
    "\n",
    "# Back-transform the confidence interval\n",
    "ci_lower = np.exp(ci_lower_log)\n",
    "ci_upper = np.exp(ci_upper_log)\n",
    "\n",
    "ci_lower, ci_upper"
   ]
  },
  {
   "cell_type": "code",
   "execution_count": 15,
   "id": "7955f980-833a-46cf-ac8c-d71fe7841b93",
   "metadata": {},
   "outputs": [
    {
     "data": {
      "text/plain": [
       "1.509895002120106"
      ]
     },
     "execution_count": 15,
     "metadata": {},
     "output_type": "execute_result"
    }
   ],
   "source": [
    "ci_lower_log"
   ]
  },
  {
   "cell_type": "code",
   "execution_count": 16,
   "id": "0d57dc9c-eec9-4c93-a8e5-1692f7a75a17",
   "metadata": {},
   "outputs": [
    {
     "data": {
      "text/plain": [
       "8.000549962306415"
      ]
     },
     "execution_count": 16,
     "metadata": {},
     "output_type": "execute_result"
    }
   ],
   "source": [
    "ci_upper_log"
   ]
  },
  {
   "cell_type": "code",
   "execution_count": null,
   "id": "7cbb7f7e-b170-4799-bc95-768228e19d89",
   "metadata": {},
   "outputs": [],
   "source": []
  }
 ],
 "metadata": {
  "kernelspec": {
   "display_name": "Python 3 (ipykernel)",
   "language": "python",
   "name": "python3"
  },
  "language_info": {
   "codemirror_mode": {
    "name": "ipython",
    "version": 3
   },
   "file_extension": ".py",
   "mimetype": "text/x-python",
   "name": "python",
   "nbconvert_exporter": "python",
   "pygments_lexer": "ipython3",
   "version": "3.11.7"
  }
 },
 "nbformat": 4,
 "nbformat_minor": 5
}
