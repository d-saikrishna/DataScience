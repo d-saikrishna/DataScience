{
 "cells": [
  {
   "cell_type": "markdown",
   "id": "891e0b8e-00af-4231-bcf5-ad187acc324d",
   "metadata": {},
   "source": [
    "# Prediction Intervals vs Confidence Intervals"
   ]
  },
  {
   "cell_type": "code",
   "execution_count": 1,
   "id": "6f915220-2cf6-47fb-a534-94b169cc336d",
   "metadata": {},
   "outputs": [],
   "source": [
    "import pandas as pd\n",
    "import statsmodels.api as sm\n",
    "import numpy as np"
   ]
  },
  {
   "cell_type": "code",
   "execution_count": 2,
   "id": "128d1fc0-6537-4fd1-bda8-5c8d67db9b20",
   "metadata": {},
   "outputs": [
    {
     "data": {
      "text/html": [
       "<div>\n",
       "<style scoped>\n",
       "    .dataframe tbody tr th:only-of-type {\n",
       "        vertical-align: middle;\n",
       "    }\n",
       "\n",
       "    .dataframe tbody tr th {\n",
       "        vertical-align: top;\n",
       "    }\n",
       "\n",
       "    .dataframe thead th {\n",
       "        text-align: right;\n",
       "    }\n",
       "</style>\n",
       "<table border=\"1\" class=\"dataframe\">\n",
       "  <thead>\n",
       "    <tr style=\"text-align: right;\">\n",
       "      <th></th>\n",
       "      <th>price</th>\n",
       "      <th>bedrooms</th>\n",
       "      <th>2</th>\n",
       "      <th>3</th>\n",
       "      <th>4</th>\n",
       "      <th>5</th>\n",
       "      <th>6</th>\n",
       "    </tr>\n",
       "  </thead>\n",
       "  <tbody>\n",
       "    <tr>\n",
       "      <th>0</th>\n",
       "      <td>13300000</td>\n",
       "      <td>4</td>\n",
       "      <td>False</td>\n",
       "      <td>False</td>\n",
       "      <td>True</td>\n",
       "      <td>False</td>\n",
       "      <td>False</td>\n",
       "    </tr>\n",
       "    <tr>\n",
       "      <th>1</th>\n",
       "      <td>12250000</td>\n",
       "      <td>4</td>\n",
       "      <td>False</td>\n",
       "      <td>False</td>\n",
       "      <td>True</td>\n",
       "      <td>False</td>\n",
       "      <td>False</td>\n",
       "    </tr>\n",
       "    <tr>\n",
       "      <th>2</th>\n",
       "      <td>12250000</td>\n",
       "      <td>3</td>\n",
       "      <td>False</td>\n",
       "      <td>True</td>\n",
       "      <td>False</td>\n",
       "      <td>False</td>\n",
       "      <td>False</td>\n",
       "    </tr>\n",
       "    <tr>\n",
       "      <th>3</th>\n",
       "      <td>12215000</td>\n",
       "      <td>4</td>\n",
       "      <td>False</td>\n",
       "      <td>False</td>\n",
       "      <td>True</td>\n",
       "      <td>False</td>\n",
       "      <td>False</td>\n",
       "    </tr>\n",
       "    <tr>\n",
       "      <th>4</th>\n",
       "      <td>11410000</td>\n",
       "      <td>4</td>\n",
       "      <td>False</td>\n",
       "      <td>False</td>\n",
       "      <td>True</td>\n",
       "      <td>False</td>\n",
       "      <td>False</td>\n",
       "    </tr>\n",
       "  </tbody>\n",
       "</table>\n",
       "</div>"
      ],
      "text/plain": [
       "      price  bedrooms      2      3      4      5      6\n",
       "0  13300000         4  False  False   True  False  False\n",
       "1  12250000         4  False  False   True  False  False\n",
       "2  12250000         3  False   True  False  False  False\n",
       "3  12215000         4  False  False   True  False  False\n",
       "4  11410000         4  False  False   True  False  False"
      ]
     },
     "execution_count": 2,
     "metadata": {},
     "output_type": "execute_result"
    }
   ],
   "source": [
    "df = pd.read_csv('data/Housing.csv')[['price', 'bedrooms']]\n",
    "#df['bedrooms'] = df['bedrooms'] -1 #Transforming data to make intercept meaningful\n",
    "df_dummies = pd.get_dummies(df['bedrooms'], drop_first=True)\n",
    "df = pd.concat([df, df_dummies], axis=1)\n",
    "\n",
    "df.head()"
   ]
  },
  {
   "cell_type": "markdown",
   "id": "2ad071d1-3d92-46de-8141-3f6ebb49aa6c",
   "metadata": {},
   "source": [
    "Say we are modelling the price of the house solely on the number of bedrooms variable.\n",
    "\n",
    "We can easily calculate the mean price of house at each bedroom count."
   ]
  },
  {
   "cell_type": "code",
   "execution_count": 3,
   "id": "4176038d-c0f4-4091-9739-15538e23976c",
   "metadata": {},
   "outputs": [
    {
     "data": {
      "text/plain": [
       "bedrooms\n",
       "1    2.712500e+06\n",
       "2    3.632022e+06\n",
       "3    4.954598e+06\n",
       "4    5.729758e+06\n",
       "5    5.819800e+06\n",
       "6    4.791500e+06\n",
       "Name: price, dtype: float64"
      ]
     },
     "execution_count": 3,
     "metadata": {},
     "output_type": "execute_result"
    }
   ],
   "source": [
    "means = df.groupby('bedrooms')['price'].mean()\n",
    "means"
   ]
  },
  {
   "cell_type": "markdown",
   "id": "e98aabc8-8e80-4967-ba9d-7563d933cc4d",
   "metadata": {},
   "source": [
    "But this dataset is not population. It is a sample.\n",
    "\n",
    "So we need to calculate [confidence intervals](https://medium.com/@saikrishna_17904/confidence-intervals-de47ccce3728) of each of these means. To calculate confidence intervals, we need sample standard deviation (S) and sample size (n)."
   ]
  },
  {
   "cell_type": "code",
   "execution_count": 4,
   "id": "cad25253-0292-4774-9932-c53474b1164e",
   "metadata": {},
   "outputs": [
    {
     "data": {
      "text/plain": [
       "bedrooms\n",
       "1    6.187184e+05\n",
       "2    1.004024e+06\n",
       "3    1.747527e+06\n",
       "4    2.307740e+06\n",
       "5    2.502315e+06\n",
       "6    1.826457e+06\n",
       "Name: price, dtype: float64"
      ]
     },
     "execution_count": 4,
     "metadata": {},
     "output_type": "execute_result"
    }
   ],
   "source": [
    "SDs = df.groupby('bedrooms')['price'].std()\n",
    "SDs "
   ]
  },
  {
   "cell_type": "code",
   "execution_count": 5,
   "id": "cd2e8f18-6813-485d-9e9a-faee3ea79c52",
   "metadata": {},
   "outputs": [
    {
     "data": {
      "text/plain": [
       "bedrooms\n",
       "1      2\n",
       "2    136\n",
       "3    300\n",
       "4     95\n",
       "5     10\n",
       "6      2\n",
       "Name: price, dtype: int64"
      ]
     },
     "execution_count": 5,
     "metadata": {},
     "output_type": "execute_result"
    }
   ],
   "source": [
    "sample_sizes = df.groupby('bedrooms')['price'].count()\n",
    "sample_sizes"
   ]
  },
  {
   "cell_type": "markdown",
   "id": "99de85f3-283c-4ffc-ad6e-6b52dc13b4d6",
   "metadata": {},
   "source": [
    "The sample sizes are different for each category of bedrooms. So, we cannot use 1.96 z-value to calculate the confidence intervals for each of the means above."
   ]
  },
  {
   "cell_type": "code",
   "execution_count": 6,
   "id": "b9f7651d-3258-4865-b5d5-27abf0c2f32e",
   "metadata": {},
   "outputs": [
    {
     "data": {
      "text/plain": [
       "[12.706204736432095,\n",
       " 1.977692277222804,\n",
       " 1.9679296690653618,\n",
       " 1.9855234417658298,\n",
       " 2.2621571627409915,\n",
       " 12.706204736432095]"
      ]
     },
     "execution_count": 6,
     "metadata": {},
     "output_type": "execute_result"
    }
   ],
   "source": [
    "from scipy import stats\n",
    "confidence_level = 0.95\n",
    "alpha = 1 - confidence_level\n",
    "\n",
    "t_values = []\n",
    "for n in sample_sizes:\n",
    "    dof = n - 1  # degrees of freedom\n",
    "    t_value = stats.t.ppf(1 - alpha / 2, dof)  # Two-tailed t-value\n",
    "    t_values.append(t_value)\n",
    "t_values"
   ]
  },
  {
   "cell_type": "code",
   "execution_count": 7,
   "id": "271d394f-e2bc-4605-8278-e40551f8ceac",
   "metadata": {},
   "outputs": [],
   "source": [
    "import math\n",
    "ci_lowers = []\n",
    "ci_uppers = []\n",
    "\n",
    "for idx, mean in enumerate(means):\n",
    "    ci_low = mean - t_values[idx]*(SDs.to_list()[idx]/math.sqrt(sample_sizes.to_list()[idx]))\n",
    "    ci_lowers.append(ci_low)\n",
    "    ci_up = mean + t_values[idx]*(SDs.to_list()[idx]/math.sqrt(sample_sizes.to_list()[idx]))\n",
    "    ci_uppers.append(ci_up)"
   ]
  },
  {
   "cell_type": "code",
   "execution_count": 8,
   "id": "d2d80322-5d10-430b-b437-5cc757dde60b",
   "metadata": {},
   "outputs": [
    {
     "data": {
      "text/html": [
       "<div>\n",
       "<style scoped>\n",
       "    .dataframe tbody tr th:only-of-type {\n",
       "        vertical-align: middle;\n",
       "    }\n",
       "\n",
       "    .dataframe tbody tr th {\n",
       "        vertical-align: top;\n",
       "    }\n",
       "\n",
       "    .dataframe thead th {\n",
       "        text-align: right;\n",
       "    }\n",
       "</style>\n",
       "<table border=\"1\" class=\"dataframe\">\n",
       "  <thead>\n",
       "    <tr style=\"text-align: right;\">\n",
       "      <th></th>\n",
       "      <th>bedrooms</th>\n",
       "      <th>mean</th>\n",
       "      <th>ci_low</th>\n",
       "      <th>ci_up</th>\n",
       "    </tr>\n",
       "  </thead>\n",
       "  <tbody>\n",
       "    <tr>\n",
       "      <th>0</th>\n",
       "      <td>1.0</td>\n",
       "      <td>2.712500e+06</td>\n",
       "      <td>-2.846465e+06</td>\n",
       "      <td>8.271465e+06</td>\n",
       "    </tr>\n",
       "    <tr>\n",
       "      <th>1</th>\n",
       "      <td>2.0</td>\n",
       "      <td>3.632022e+06</td>\n",
       "      <td>3.461754e+06</td>\n",
       "      <td>3.802290e+06</td>\n",
       "    </tr>\n",
       "    <tr>\n",
       "      <th>2</th>\n",
       "      <td>3.0</td>\n",
       "      <td>4.954598e+06</td>\n",
       "      <td>4.756047e+06</td>\n",
       "      <td>5.153149e+06</td>\n",
       "    </tr>\n",
       "    <tr>\n",
       "      <th>3</th>\n",
       "      <td>4.0</td>\n",
       "      <td>5.729758e+06</td>\n",
       "      <td>5.259647e+06</td>\n",
       "      <td>6.199869e+06</td>\n",
       "    </tr>\n",
       "    <tr>\n",
       "      <th>4</th>\n",
       "      <td>5.0</td>\n",
       "      <td>5.819800e+06</td>\n",
       "      <td>4.029752e+06</td>\n",
       "      <td>7.609848e+06</td>\n",
       "    </tr>\n",
       "    <tr>\n",
       "      <th>5</th>\n",
       "      <td>6.0</td>\n",
       "      <td>4.791500e+06</td>\n",
       "      <td>-1.161856e+07</td>\n",
       "      <td>2.120156e+07</td>\n",
       "    </tr>\n",
       "  </tbody>\n",
       "</table>\n",
       "</div>"
      ],
      "text/plain": [
       "   bedrooms          mean        ci_low         ci_up\n",
       "0       1.0  2.712500e+06 -2.846465e+06  8.271465e+06\n",
       "1       2.0  3.632022e+06  3.461754e+06  3.802290e+06\n",
       "2       3.0  4.954598e+06  4.756047e+06  5.153149e+06\n",
       "3       4.0  5.729758e+06  5.259647e+06  6.199869e+06\n",
       "4       5.0  5.819800e+06  4.029752e+06  7.609848e+06\n",
       "5       6.0  4.791500e+06 -1.161856e+07  2.120156e+07"
      ]
     },
     "execution_count": 8,
     "metadata": {},
     "output_type": "execute_result"
    }
   ],
   "source": [
    "ci_df = pd.DataFrame([means.index, means.to_list(),ci_lowers,ci_uppers]).T\n",
    "ci_df.columns = ['bedrooms', 'mean', 'ci_low', 'ci_up']\n",
    "ci_df"
   ]
  },
  {
   "cell_type": "code",
   "execution_count": 9,
   "id": "bbfc0e34-b3eb-48bc-b19f-6bcb6a6c7795",
   "metadata": {},
   "outputs": [
    {
     "data": {
      "text/html": [
       "<div>\n",
       "<style scoped>\n",
       "    .dataframe tbody tr th:only-of-type {\n",
       "        vertical-align: middle;\n",
       "    }\n",
       "\n",
       "    .dataframe tbody tr th {\n",
       "        vertical-align: top;\n",
       "    }\n",
       "\n",
       "    .dataframe thead th {\n",
       "        text-align: right;\n",
       "    }\n",
       "</style>\n",
       "<table border=\"1\" class=\"dataframe\">\n",
       "  <thead>\n",
       "    <tr style=\"text-align: right;\">\n",
       "      <th></th>\n",
       "      <th>price</th>\n",
       "      <th>bedrooms</th>\n",
       "      <th>2</th>\n",
       "      <th>3</th>\n",
       "      <th>4</th>\n",
       "      <th>5</th>\n",
       "      <th>6</th>\n",
       "    </tr>\n",
       "  </thead>\n",
       "  <tbody>\n",
       "    <tr>\n",
       "      <th>0</th>\n",
       "      <td>13300000</td>\n",
       "      <td>4</td>\n",
       "      <td>False</td>\n",
       "      <td>False</td>\n",
       "      <td>True</td>\n",
       "      <td>False</td>\n",
       "      <td>False</td>\n",
       "    </tr>\n",
       "    <tr>\n",
       "      <th>1</th>\n",
       "      <td>12250000</td>\n",
       "      <td>4</td>\n",
       "      <td>False</td>\n",
       "      <td>False</td>\n",
       "      <td>True</td>\n",
       "      <td>False</td>\n",
       "      <td>False</td>\n",
       "    </tr>\n",
       "    <tr>\n",
       "      <th>2</th>\n",
       "      <td>12250000</td>\n",
       "      <td>3</td>\n",
       "      <td>False</td>\n",
       "      <td>True</td>\n",
       "      <td>False</td>\n",
       "      <td>False</td>\n",
       "      <td>False</td>\n",
       "    </tr>\n",
       "    <tr>\n",
       "      <th>3</th>\n",
       "      <td>12215000</td>\n",
       "      <td>4</td>\n",
       "      <td>False</td>\n",
       "      <td>False</td>\n",
       "      <td>True</td>\n",
       "      <td>False</td>\n",
       "      <td>False</td>\n",
       "    </tr>\n",
       "    <tr>\n",
       "      <th>4</th>\n",
       "      <td>11410000</td>\n",
       "      <td>4</td>\n",
       "      <td>False</td>\n",
       "      <td>False</td>\n",
       "      <td>True</td>\n",
       "      <td>False</td>\n",
       "      <td>False</td>\n",
       "    </tr>\n",
       "    <tr>\n",
       "      <th>...</th>\n",
       "      <td>...</td>\n",
       "      <td>...</td>\n",
       "      <td>...</td>\n",
       "      <td>...</td>\n",
       "      <td>...</td>\n",
       "      <td>...</td>\n",
       "      <td>...</td>\n",
       "    </tr>\n",
       "    <tr>\n",
       "      <th>540</th>\n",
       "      <td>1820000</td>\n",
       "      <td>2</td>\n",
       "      <td>True</td>\n",
       "      <td>False</td>\n",
       "      <td>False</td>\n",
       "      <td>False</td>\n",
       "      <td>False</td>\n",
       "    </tr>\n",
       "    <tr>\n",
       "      <th>541</th>\n",
       "      <td>1767150</td>\n",
       "      <td>3</td>\n",
       "      <td>False</td>\n",
       "      <td>True</td>\n",
       "      <td>False</td>\n",
       "      <td>False</td>\n",
       "      <td>False</td>\n",
       "    </tr>\n",
       "    <tr>\n",
       "      <th>542</th>\n",
       "      <td>1750000</td>\n",
       "      <td>2</td>\n",
       "      <td>True</td>\n",
       "      <td>False</td>\n",
       "      <td>False</td>\n",
       "      <td>False</td>\n",
       "      <td>False</td>\n",
       "    </tr>\n",
       "    <tr>\n",
       "      <th>543</th>\n",
       "      <td>1750000</td>\n",
       "      <td>3</td>\n",
       "      <td>False</td>\n",
       "      <td>True</td>\n",
       "      <td>False</td>\n",
       "      <td>False</td>\n",
       "      <td>False</td>\n",
       "    </tr>\n",
       "    <tr>\n",
       "      <th>544</th>\n",
       "      <td>1750000</td>\n",
       "      <td>3</td>\n",
       "      <td>False</td>\n",
       "      <td>True</td>\n",
       "      <td>False</td>\n",
       "      <td>False</td>\n",
       "      <td>False</td>\n",
       "    </tr>\n",
       "  </tbody>\n",
       "</table>\n",
       "<p>545 rows × 7 columns</p>\n",
       "</div>"
      ],
      "text/plain": [
       "        price  bedrooms      2      3      4      5      6\n",
       "0    13300000         4  False  False   True  False  False\n",
       "1    12250000         4  False  False   True  False  False\n",
       "2    12250000         3  False   True  False  False  False\n",
       "3    12215000         4  False  False   True  False  False\n",
       "4    11410000         4  False  False   True  False  False\n",
       "..        ...       ...    ...    ...    ...    ...    ...\n",
       "540   1820000         2   True  False  False  False  False\n",
       "541   1767150         3  False   True  False  False  False\n",
       "542   1750000         2   True  False  False  False  False\n",
       "543   1750000         3  False   True  False  False  False\n",
       "544   1750000         3  False   True  False  False  False\n",
       "\n",
       "[545 rows x 7 columns]"
      ]
     },
     "execution_count": 9,
     "metadata": {},
     "output_type": "execute_result"
    }
   ],
   "source": [
    "df"
   ]
  },
  {
   "cell_type": "code",
   "execution_count": 10,
   "id": "157ca155-68cd-4cbb-ae94-3fa2225e19a4",
   "metadata": {},
   "outputs": [
    {
     "name": "stdout",
     "output_type": "stream",
     "text": [
      "                            OLS Regression Results                            \n",
      "==============================================================================\n",
      "Dep. Variable:                  price   R-squared:                       0.154\n",
      "Model:                            OLS   Adj. R-squared:                  0.146\n",
      "Method:                 Least Squares   F-statistic:                     19.64\n",
      "Date:                Tue, 15 Oct 2024   Prob (F-statistic):           5.36e-18\n",
      "Time:                        15:40:16   Log-Likelihood:                -8597.9\n",
      "No. Observations:                 545   AIC:                         1.721e+04\n",
      "Df Residuals:                     539   BIC:                         1.723e+04\n",
      "Df Model:                           5                                         \n",
      "Covariance Type:            nonrobust                                         \n",
      "==============================================================================\n",
      "                 coef    std err          t      P>|t|      [0.025      0.975]\n",
      "------------------------------------------------------------------------------\n",
      "const       2.713e+06   1.22e+06      2.220      0.027    3.12e+05    5.11e+06\n",
      "2           9.195e+05   1.23e+06      0.747      0.455    -1.5e+06    3.34e+06\n",
      "3           2.242e+06   1.23e+06      1.829      0.068   -1.66e+05    4.65e+06\n",
      "4           3.017e+06   1.23e+06      2.443      0.015    5.92e+05    5.44e+06\n",
      "5           3.107e+06   1.34e+06      2.321      0.021    4.78e+05    5.74e+06\n",
      "6           2.079e+06   1.73e+06      1.203      0.230   -1.32e+06    5.47e+06\n",
      "==============================================================================\n",
      "Omnibus:                       90.460   Durbin-Watson:                   0.298\n",
      "Prob(Omnibus):                  0.000   Jarque-Bera (JB):              157.778\n",
      "Skew:                           0.992   Prob(JB):                     5.48e-35\n",
      "Kurtosis:                       4.737   Cond. No.                         49.2\n",
      "==============================================================================\n",
      "\n",
      "Notes:\n",
      "[1] Standard Errors assume that the covariance matrix of the errors is correctly specified.\n"
     ]
    }
   ],
   "source": [
    "# Using statsmodels\n",
    "\n",
    "Y = df['price']\n",
    "X = df[[2,3,4,5,6]].astype(int)\n",
    "\n",
    "results = sm.OLS(Y, sm.add_constant(X)).fit()\n",
    "print(results.summary())"
   ]
  },
  {
   "cell_type": "code",
   "execution_count": 11,
   "id": "f4e837b2-aee3-4b82-a1c0-f754182ab061",
   "metadata": {},
   "outputs": [
    {
     "data": {
      "text/plain": [
       "bedrooms\n",
       "1    2.712500e+06\n",
       "2    3.632022e+06\n",
       "3    4.954598e+06\n",
       "4    5.729758e+06\n",
       "5    5.819800e+06\n",
       "6    4.791500e+06\n",
       "Name: price, dtype: float64"
      ]
     },
     "execution_count": 11,
     "metadata": {},
     "output_type": "execute_result"
    }
   ],
   "source": [
    "means"
   ]
  },
  {
   "cell_type": "code",
   "execution_count": 35,
   "id": "6e6065e9-6b32-4ed7-9986-0e600ec0ef4b",
   "metadata": {},
   "outputs": [
    {
     "data": {
      "text/html": [
       "<div>\n",
       "<style scoped>\n",
       "    .dataframe tbody tr th:only-of-type {\n",
       "        vertical-align: middle;\n",
       "    }\n",
       "\n",
       "    .dataframe tbody tr th {\n",
       "        vertical-align: top;\n",
       "    }\n",
       "\n",
       "    .dataframe thead th {\n",
       "        text-align: right;\n",
       "    }\n",
       "</style>\n",
       "<table border=\"1\" class=\"dataframe\">\n",
       "  <thead>\n",
       "    <tr style=\"text-align: right;\">\n",
       "      <th></th>\n",
       "      <th>mean</th>\n",
       "      <th>mean_se</th>\n",
       "      <th>mean_ci_lower</th>\n",
       "      <th>mean_ci_upper</th>\n",
       "      <th>obs_ci_lower</th>\n",
       "      <th>obs_ci_upper</th>\n",
       "    </tr>\n",
       "  </thead>\n",
       "  <tbody>\n",
       "    <tr>\n",
       "      <th>0</th>\n",
       "      <td>5.729758e+06</td>\n",
       "      <td>1.773128e+05</td>\n",
       "      <td>5.381449e+06</td>\n",
       "      <td>6.078067e+06</td>\n",
       "      <td>2.317043e+06</td>\n",
       "      <td>9.142473e+06</td>\n",
       "    </tr>\n",
       "    <tr>\n",
       "      <th>1</th>\n",
       "      <td>4.954598e+06</td>\n",
       "      <td>9.977946e+04</td>\n",
       "      <td>4.758594e+06</td>\n",
       "      <td>5.150602e+06</td>\n",
       "      <td>1.554051e+06</td>\n",
       "      <td>8.355145e+06</td>\n",
       "    </tr>\n",
       "    <tr>\n",
       "      <th>2</th>\n",
       "      <td>5.819800e+06</td>\n",
       "      <td>5.465146e+05</td>\n",
       "      <td>4.746240e+06</td>\n",
       "      <td>6.893360e+06</td>\n",
       "      <td>2.259205e+06</td>\n",
       "      <td>9.380395e+06</td>\n",
       "    </tr>\n",
       "    <tr>\n",
       "      <th>3</th>\n",
       "      <td>3.632022e+06</td>\n",
       "      <td>1.481946e+05</td>\n",
       "      <td>3.340912e+06</td>\n",
       "      <td>3.923132e+06</td>\n",
       "      <td>2.246700e+05</td>\n",
       "      <td>7.039374e+06</td>\n",
       "    </tr>\n",
       "    <tr>\n",
       "      <th>4</th>\n",
       "      <td>4.791500e+06</td>\n",
       "      <td>1.222044e+06</td>\n",
       "      <td>2.390948e+06</td>\n",
       "      <td>7.192052e+06</td>\n",
       "      <td>6.336214e+05</td>\n",
       "      <td>8.949379e+06</td>\n",
       "    </tr>\n",
       "    <tr>\n",
       "      <th>5</th>\n",
       "      <td>2.712500e+06</td>\n",
       "      <td>1.222044e+06</td>\n",
       "      <td>3.119477e+05</td>\n",
       "      <td>5.113052e+06</td>\n",
       "      <td>-1.445379e+06</td>\n",
       "      <td>6.870379e+06</td>\n",
       "    </tr>\n",
       "  </tbody>\n",
       "</table>\n",
       "</div>"
      ],
      "text/plain": [
       "           mean       mean_se  mean_ci_lower  mean_ci_upper  obs_ci_lower  \\\n",
       "0  5.729758e+06  1.773128e+05   5.381449e+06   6.078067e+06  2.317043e+06   \n",
       "1  4.954598e+06  9.977946e+04   4.758594e+06   5.150602e+06  1.554051e+06   \n",
       "2  5.819800e+06  5.465146e+05   4.746240e+06   6.893360e+06  2.259205e+06   \n",
       "3  3.632022e+06  1.481946e+05   3.340912e+06   3.923132e+06  2.246700e+05   \n",
       "4  4.791500e+06  1.222044e+06   2.390948e+06   7.192052e+06  6.336214e+05   \n",
       "5  2.712500e+06  1.222044e+06   3.119477e+05   5.113052e+06 -1.445379e+06   \n",
       "\n",
       "   obs_ci_upper  \n",
       "0  9.142473e+06  \n",
       "1  8.355145e+06  \n",
       "2  9.380395e+06  \n",
       "3  7.039374e+06  \n",
       "4  8.949379e+06  \n",
       "5  6.870379e+06  "
      ]
     },
     "execution_count": 35,
     "metadata": {},
     "output_type": "execute_result"
    }
   ],
   "source": [
    "    predictions = results.get_prediction(sm.add_constant(ff)).summary_frame(alpha=0.05)  # alpha = significance level for confidence interval\n",
    "predictions"
   ]
  },
  {
   "cell_type": "code",
   "execution_count": 36,
   "id": "5ad80162-9a39-49f8-9b9d-dc1fdf65cdf9",
   "metadata": {},
   "outputs": [
    {
     "data": {
      "text/html": [
       "<div>\n",
       "<style scoped>\n",
       "    .dataframe tbody tr th:only-of-type {\n",
       "        vertical-align: middle;\n",
       "    }\n",
       "\n",
       "    .dataframe tbody tr th {\n",
       "        vertical-align: top;\n",
       "    }\n",
       "\n",
       "    .dataframe thead th {\n",
       "        text-align: right;\n",
       "    }\n",
       "</style>\n",
       "<table border=\"1\" class=\"dataframe\">\n",
       "  <thead>\n",
       "    <tr style=\"text-align: right;\">\n",
       "      <th></th>\n",
       "      <th>bedrooms</th>\n",
       "      <th>mean</th>\n",
       "      <th>ci_low</th>\n",
       "      <th>ci_up</th>\n",
       "    </tr>\n",
       "  </thead>\n",
       "  <tbody>\n",
       "    <tr>\n",
       "      <th>0</th>\n",
       "      <td>1.0</td>\n",
       "      <td>2.712500e+06</td>\n",
       "      <td>-2.846465e+06</td>\n",
       "      <td>8.271465e+06</td>\n",
       "    </tr>\n",
       "    <tr>\n",
       "      <th>1</th>\n",
       "      <td>2.0</td>\n",
       "      <td>3.632022e+06</td>\n",
       "      <td>3.461754e+06</td>\n",
       "      <td>3.802290e+06</td>\n",
       "    </tr>\n",
       "    <tr>\n",
       "      <th>2</th>\n",
       "      <td>3.0</td>\n",
       "      <td>4.954598e+06</td>\n",
       "      <td>4.756047e+06</td>\n",
       "      <td>5.153149e+06</td>\n",
       "    </tr>\n",
       "    <tr>\n",
       "      <th>3</th>\n",
       "      <td>4.0</td>\n",
       "      <td>5.729758e+06</td>\n",
       "      <td>5.259647e+06</td>\n",
       "      <td>6.199869e+06</td>\n",
       "    </tr>\n",
       "    <tr>\n",
       "      <th>4</th>\n",
       "      <td>5.0</td>\n",
       "      <td>5.819800e+06</td>\n",
       "      <td>4.029752e+06</td>\n",
       "      <td>7.609848e+06</td>\n",
       "    </tr>\n",
       "    <tr>\n",
       "      <th>5</th>\n",
       "      <td>6.0</td>\n",
       "      <td>4.791500e+06</td>\n",
       "      <td>-1.161856e+07</td>\n",
       "      <td>2.120156e+07</td>\n",
       "    </tr>\n",
       "  </tbody>\n",
       "</table>\n",
       "</div>"
      ],
      "text/plain": [
       "   bedrooms          mean        ci_low         ci_up\n",
       "0       1.0  2.712500e+06 -2.846465e+06  8.271465e+06\n",
       "1       2.0  3.632022e+06  3.461754e+06  3.802290e+06\n",
       "2       3.0  4.954598e+06  4.756047e+06  5.153149e+06\n",
       "3       4.0  5.729758e+06  5.259647e+06  6.199869e+06\n",
       "4       5.0  5.819800e+06  4.029752e+06  7.609848e+06\n",
       "5       6.0  4.791500e+06 -1.161856e+07  2.120156e+07"
      ]
     },
     "execution_count": 36,
     "metadata": {},
     "output_type": "execute_result"
    }
   ],
   "source": [
    "ci_df"
   ]
  },
  {
   "cell_type": "code",
   "execution_count": 23,
   "id": "d5cb0105-ac4c-456e-a45e-8d66d828efdc",
   "metadata": {},
   "outputs": [
    {
     "data": {
      "text/html": [
       "<div>\n",
       "<style scoped>\n",
       "    .dataframe tbody tr th:only-of-type {\n",
       "        vertical-align: middle;\n",
       "    }\n",
       "\n",
       "    .dataframe tbody tr th {\n",
       "        vertical-align: top;\n",
       "    }\n",
       "\n",
       "    .dataframe thead th {\n",
       "        text-align: right;\n",
       "    }\n",
       "</style>\n",
       "<table border=\"1\" class=\"dataframe\">\n",
       "  <thead>\n",
       "    <tr style=\"text-align: right;\">\n",
       "      <th></th>\n",
       "      <th>0</th>\n",
       "      <th>1</th>\n",
       "      <th>2</th>\n",
       "      <th>3</th>\n",
       "      <th>4</th>\n",
       "    </tr>\n",
       "  </thead>\n",
       "  <tbody>\n",
       "    <tr>\n",
       "      <th>0</th>\n",
       "      <td>0</td>\n",
       "      <td>1</td>\n",
       "      <td>0</td>\n",
       "      <td>0</td>\n",
       "      <td>0</td>\n",
       "    </tr>\n",
       "  </tbody>\n",
       "</table>\n",
       "</div>"
      ],
      "text/plain": [
       "   0  1  2  3  4\n",
       "0  0  1  0  0  0"
      ]
     },
     "execution_count": 23,
     "metadata": {},
     "output_type": "execute_result"
    }
   ],
   "source": [
    "pd.DataFrame([0,1,0,0,0]).T"
   ]
  },
  {
   "cell_type": "code",
   "execution_count": 27,
   "id": "a624465a-7b35-4900-aa5f-69ccdaeb0aad",
   "metadata": {},
   "outputs": [],
   "source": [
    "ff = X.drop_duplicates().reset_index(drop=True).copy()"
   ]
  },
  {
   "cell_type": "code",
   "execution_count": 37,
   "id": "e55c96ec-ff69-4b96-a365-263fff822d0f",
   "metadata": {},
   "outputs": [
    {
     "data": {
      "text/plain": [
       "bedrooms\n",
       "1      2\n",
       "2    136\n",
       "3    300\n",
       "4     95\n",
       "5     10\n",
       "6      2\n",
       "Name: price, dtype: int64"
      ]
     },
     "execution_count": 37,
     "metadata": {},
     "output_type": "execute_result"
    }
   ],
   "source": [
    "sample_sizes"
   ]
  },
  {
   "cell_type": "code",
   "execution_count": 3,
   "id": "2a61481a-79cf-4528-beb8-814b496a31e6",
   "metadata": {},
   "outputs": [
    {
     "data": {
      "text/html": [
       "<div>\n",
       "<style scoped>\n",
       "    .dataframe tbody tr th:only-of-type {\n",
       "        vertical-align: middle;\n",
       "    }\n",
       "\n",
       "    .dataframe tbody tr th {\n",
       "        vertical-align: top;\n",
       "    }\n",
       "\n",
       "    .dataframe thead th {\n",
       "        text-align: right;\n",
       "    }\n",
       "</style>\n",
       "<table border=\"1\" class=\"dataframe\">\n",
       "  <thead>\n",
       "    <tr style=\"text-align: right;\">\n",
       "      <th></th>\n",
       "      <th>price</th>\n",
       "      <th>bedrooms</th>\n",
       "      <th>2</th>\n",
       "      <th>3</th>\n",
       "      <th>4</th>\n",
       "      <th>5</th>\n",
       "      <th>6</th>\n",
       "    </tr>\n",
       "  </thead>\n",
       "  <tbody>\n",
       "    <tr>\n",
       "      <th>0</th>\n",
       "      <td>13300000</td>\n",
       "      <td>4</td>\n",
       "      <td>False</td>\n",
       "      <td>False</td>\n",
       "      <td>True</td>\n",
       "      <td>False</td>\n",
       "      <td>False</td>\n",
       "    </tr>\n",
       "    <tr>\n",
       "      <th>1</th>\n",
       "      <td>12250000</td>\n",
       "      <td>4</td>\n",
       "      <td>False</td>\n",
       "      <td>False</td>\n",
       "      <td>True</td>\n",
       "      <td>False</td>\n",
       "      <td>False</td>\n",
       "    </tr>\n",
       "    <tr>\n",
       "      <th>2</th>\n",
       "      <td>12250000</td>\n",
       "      <td>3</td>\n",
       "      <td>False</td>\n",
       "      <td>True</td>\n",
       "      <td>False</td>\n",
       "      <td>False</td>\n",
       "      <td>False</td>\n",
       "    </tr>\n",
       "    <tr>\n",
       "      <th>3</th>\n",
       "      <td>12215000</td>\n",
       "      <td>4</td>\n",
       "      <td>False</td>\n",
       "      <td>False</td>\n",
       "      <td>True</td>\n",
       "      <td>False</td>\n",
       "      <td>False</td>\n",
       "    </tr>\n",
       "    <tr>\n",
       "      <th>4</th>\n",
       "      <td>11410000</td>\n",
       "      <td>4</td>\n",
       "      <td>False</td>\n",
       "      <td>False</td>\n",
       "      <td>True</td>\n",
       "      <td>False</td>\n",
       "      <td>False</td>\n",
       "    </tr>\n",
       "    <tr>\n",
       "      <th>...</th>\n",
       "      <td>...</td>\n",
       "      <td>...</td>\n",
       "      <td>...</td>\n",
       "      <td>...</td>\n",
       "      <td>...</td>\n",
       "      <td>...</td>\n",
       "      <td>...</td>\n",
       "    </tr>\n",
       "    <tr>\n",
       "      <th>540</th>\n",
       "      <td>1820000</td>\n",
       "      <td>2</td>\n",
       "      <td>True</td>\n",
       "      <td>False</td>\n",
       "      <td>False</td>\n",
       "      <td>False</td>\n",
       "      <td>False</td>\n",
       "    </tr>\n",
       "    <tr>\n",
       "      <th>541</th>\n",
       "      <td>1767150</td>\n",
       "      <td>3</td>\n",
       "      <td>False</td>\n",
       "      <td>True</td>\n",
       "      <td>False</td>\n",
       "      <td>False</td>\n",
       "      <td>False</td>\n",
       "    </tr>\n",
       "    <tr>\n",
       "      <th>542</th>\n",
       "      <td>1750000</td>\n",
       "      <td>2</td>\n",
       "      <td>True</td>\n",
       "      <td>False</td>\n",
       "      <td>False</td>\n",
       "      <td>False</td>\n",
       "      <td>False</td>\n",
       "    </tr>\n",
       "    <tr>\n",
       "      <th>543</th>\n",
       "      <td>1750000</td>\n",
       "      <td>3</td>\n",
       "      <td>False</td>\n",
       "      <td>True</td>\n",
       "      <td>False</td>\n",
       "      <td>False</td>\n",
       "      <td>False</td>\n",
       "    </tr>\n",
       "    <tr>\n",
       "      <th>544</th>\n",
       "      <td>1750000</td>\n",
       "      <td>3</td>\n",
       "      <td>False</td>\n",
       "      <td>True</td>\n",
       "      <td>False</td>\n",
       "      <td>False</td>\n",
       "      <td>False</td>\n",
       "    </tr>\n",
       "  </tbody>\n",
       "</table>\n",
       "<p>545 rows × 7 columns</p>\n",
       "</div>"
      ],
      "text/plain": [
       "        price  bedrooms      2      3      4      5      6\n",
       "0    13300000         4  False  False   True  False  False\n",
       "1    12250000         4  False  False   True  False  False\n",
       "2    12250000         3  False   True  False  False  False\n",
       "3    12215000         4  False  False   True  False  False\n",
       "4    11410000         4  False  False   True  False  False\n",
       "..        ...       ...    ...    ...    ...    ...    ...\n",
       "540   1820000         2   True  False  False  False  False\n",
       "541   1767150         3  False   True  False  False  False\n",
       "542   1750000         2   True  False  False  False  False\n",
       "543   1750000         3  False   True  False  False  False\n",
       "544   1750000         3  False   True  False  False  False\n",
       "\n",
       "[545 rows x 7 columns]"
      ]
     },
     "execution_count": 3,
     "metadata": {},
     "output_type": "execute_result"
    }
   ],
   "source": [
    "df"
   ]
  },
  {
   "cell_type": "code",
   "execution_count": 20,
   "id": "3eff4307-b595-488c-a3a0-cf9d1a4e1a85",
   "metadata": {},
   "outputs": [
    {
     "data": {
      "text/html": [
       "<div>\n",
       "<style scoped>\n",
       "    .dataframe tbody tr th:only-of-type {\n",
       "        vertical-align: middle;\n",
       "    }\n",
       "\n",
       "    .dataframe tbody tr th {\n",
       "        vertical-align: top;\n",
       "    }\n",
       "\n",
       "    .dataframe thead th {\n",
       "        text-align: right;\n",
       "    }\n",
       "</style>\n",
       "<table border=\"1\" class=\"dataframe\">\n",
       "  <thead>\n",
       "    <tr style=\"text-align: right;\">\n",
       "      <th></th>\n",
       "      <th>price</th>\n",
       "      <th>bedrooms</th>\n",
       "    </tr>\n",
       "  </thead>\n",
       "  <tbody>\n",
       "    <tr>\n",
       "      <th>112</th>\n",
       "      <td>6083000</td>\n",
       "      <td>5</td>\n",
       "    </tr>\n",
       "    <tr>\n",
       "      <th>395</th>\n",
       "      <td>3500000</td>\n",
       "      <td>5</td>\n",
       "    </tr>\n",
       "    <tr>\n",
       "      <th>112</th>\n",
       "      <td>6083000</td>\n",
       "      <td>5</td>\n",
       "    </tr>\n",
       "    <tr>\n",
       "      <th>395</th>\n",
       "      <td>3500000</td>\n",
       "      <td>5</td>\n",
       "    </tr>\n",
       "    <tr>\n",
       "      <th>112</th>\n",
       "      <td>6083000</td>\n",
       "      <td>5</td>\n",
       "    </tr>\n",
       "    <tr>\n",
       "      <th>...</th>\n",
       "      <td>...</td>\n",
       "      <td>...</td>\n",
       "    </tr>\n",
       "    <tr>\n",
       "      <th>395</th>\n",
       "      <td>3500000</td>\n",
       "      <td>5</td>\n",
       "    </tr>\n",
       "    <tr>\n",
       "      <th>112</th>\n",
       "      <td>6083000</td>\n",
       "      <td>5</td>\n",
       "    </tr>\n",
       "    <tr>\n",
       "      <th>395</th>\n",
       "      <td>3500000</td>\n",
       "      <td>5</td>\n",
       "    </tr>\n",
       "    <tr>\n",
       "      <th>112</th>\n",
       "      <td>6083000</td>\n",
       "      <td>5</td>\n",
       "    </tr>\n",
       "    <tr>\n",
       "      <th>395</th>\n",
       "      <td>3500000</td>\n",
       "      <td>5</td>\n",
       "    </tr>\n",
       "  </tbody>\n",
       "</table>\n",
       "<p>2048 rows × 2 columns</p>\n",
       "</div>"
      ],
      "text/plain": [
       "       price  bedrooms\n",
       "112  6083000         5\n",
       "395  3500000         5\n",
       "112  6083000         5\n",
       "395  3500000         5\n",
       "112  6083000         5\n",
       "..       ...       ...\n",
       "395  3500000         5\n",
       "112  6083000         5\n",
       "395  3500000         5\n",
       "112  6083000         5\n",
       "395  3500000         5\n",
       "\n",
       "[2048 rows x 2 columns]"
      ]
     },
     "execution_count": 20,
     "metadata": {},
     "output_type": "execute_result"
    }
   ],
   "source": [
    "df[df['bedrooms']==5]"
   ]
  },
  {
   "cell_type": "code",
   "execution_count": 27,
   "id": "1abcc4eb-3e40-49c2-ab65-e3b5584ecba2",
   "metadata": {},
   "outputs": [
    {
     "name": "stdout",
     "output_type": "stream",
     "text": [
      "                            OLS Regression Results                            \n",
      "==============================================================================\n",
      "Dep. Variable:                  price   R-squared:                       0.134\n",
      "Model:                            OLS   Adj. R-squared:                  0.133\n",
      "Method:                 Least Squares   F-statistic:                     84.25\n",
      "Date:                Tue, 15 Oct 2024   Prob (F-statistic):           9.08e-19\n",
      "Time:                        15:47:32   Log-Likelihood:                -8604.2\n",
      "No. Observations:                 545   AIC:                         1.721e+04\n",
      "Df Residuals:                     543   BIC:                         1.722e+04\n",
      "Df Model:                           1                                         \n",
      "Covariance Type:            nonrobust                                         \n",
      "==============================================================================\n",
      "                 coef    std err          t      P>|t|      [0.025      0.975]\n",
      "------------------------------------------------------------------------------\n",
      "const       2.942e+06   2.12e+05     13.850      0.000    2.52e+06    3.36e+06\n",
      "bedrooms    9.288e+05   1.01e+05      9.179      0.000     7.3e+05    1.13e+06\n",
      "==============================================================================\n",
      "Omnibus:                       91.744   Durbin-Watson:                   0.261\n",
      "Prob(Omnibus):                  0.000   Jarque-Bera (JB):              162.482\n",
      "Skew:                           0.997   Prob(JB):                     5.22e-36\n",
      "Kurtosis:                       4.784   Cond. No.                         7.19\n",
      "==============================================================================\n",
      "\n",
      "Notes:\n",
      "[1] Standard Errors assume that the covariance matrix of the errors is correctly specified.\n"
     ]
    }
   ],
   "source": [
    "df = pd.read_csv('data/Housing.csv')[['price', 'bedrooms']]\n",
    "df['bedrooms'] = df['bedrooms'] -1 #Transforming data to make intercept meaningful\n",
    "\n",
    "#for _ in range(10):\n",
    " #   df = pd.concat([df, df[df['bedrooms']==5]])\n",
    "Y = df['price']\n",
    "X = df['bedrooms']\n",
    "\n",
    "results = sm.OLS(Y, sm.add_constant(X)).fit()\n",
    "print(results.summary())"
   ]
  },
  {
   "cell_type": "code",
   "execution_count": 28,
   "id": "78ede75e-862c-499b-8bb9-c2697afb0581",
   "metadata": {},
   "outputs": [
    {
     "data": {
      "text/plain": [
       "<seaborn.axisgrid.FacetGrid at 0x2b8afea3d10>"
      ]
     },
     "execution_count": 28,
     "metadata": {},
     "output_type": "execute_result"
    },
    {
     "data": {
      "image/png": "[encoded data removed]",
      "text/plain": [
       "<Figure size 500x500 with 1 Axes>"
      ]
     },
     "metadata": {},
     "output_type": "display_data"
    }
   ],
   "source": [
    "import seaborn as sns\n",
    "\n",
    "sns.lmplot(x='bedrooms',y='price',data=df)"
   ]
  },
  {
   "cell_type": "code",
   "execution_count": 10,
   "id": "4c046674-8254-4e30-ad56-11b06ab2cfab",
   "metadata": {},
   "outputs": [
    {
     "name": "stdout",
     "output_type": "stream",
     "text": [
      "                            OLS Regression Results                            \n",
      "==============================================================================\n",
      "Dep. Variable:                  price   R-squared:                       0.154\n",
      "Model:                            OLS   Adj. R-squared:                  0.146\n",
      "Method:                 Least Squares   F-statistic:                     19.64\n",
      "Date:                Mon, 14 Oct 2024   Prob (F-statistic):           5.36e-18\n",
      "Time:                        13:57:30   Log-Likelihood:                -8597.9\n",
      "No. Observations:                 545   AIC:                         1.721e+04\n",
      "Df Residuals:                     539   BIC:                         1.723e+04\n",
      "Df Model:                           5                                         \n",
      "Covariance Type:            nonrobust                                         \n",
      "==============================================================================\n",
      "                 coef    std err          t      P>|t|      [0.025      0.975]\n",
      "------------------------------------------------------------------------------\n",
      "const       2.713e+06   1.22e+06      2.220      0.027    3.12e+05    5.11e+06\n",
      "2           9.195e+05   1.23e+06      0.747      0.455    -1.5e+06    3.34e+06\n",
      "3           2.242e+06   1.23e+06      1.829      0.068   -1.66e+05    4.65e+06\n",
      "4           3.017e+06   1.23e+06      2.443      0.015    5.92e+05    5.44e+06\n",
      "5           3.107e+06   1.34e+06      2.321      0.021    4.78e+05    5.74e+06\n",
      "6           2.079e+06   1.73e+06      1.203      0.230   -1.32e+06    5.47e+06\n",
      "==============================================================================\n",
      "Omnibus:                       90.460   Durbin-Watson:                   0.298\n",
      "Prob(Omnibus):                  0.000   Jarque-Bera (JB):              157.778\n",
      "Skew:                           0.992   Prob(JB):                     5.48e-35\n",
      "Kurtosis:                       4.737   Cond. No.                         49.2\n",
      "==============================================================================\n",
      "\n",
      "Notes:\n",
      "[1] Standard Errors assume that the covariance matrix of the errors is correctly specified.\n"
     ]
    }
   ],
   "source": [
    "df = pd.read_csv('data/Housing.csv')[['price', 'bedrooms']]\n",
    "\n",
    "# OneHot Encode bedrooms variable.\n",
    "df_dummies = pd.get_dummies(df['bedrooms'], drop_first=True)\n",
    "df = pd.concat([df, df_dummies], axis=1)\n",
    "\n",
    "Y = df['price']\n",
    "X = df[[2,3,4,5,6]].astype(int)\n",
    "\n",
    "results = sm.OLS(Y, sm.add_constant(X)).fit()\n",
    "print(results.summary())"
   ]
  },
  {
   "cell_type": "code",
   "execution_count": 34,
   "id": "61f045b2-3c18-4f0e-865b-2e8ba7a37f83",
   "metadata": {},
   "outputs": [
    {
     "data": {
      "text/plain": [
       "1121049.05"
      ]
     },
     "execution_count": 34,
     "metadata": {},
     "output_type": "execute_result"
    }
   ],
   "source": [
    "(9.195221e+05 +1.322576e+06)/2"
   ]
  },
  {
   "cell_type": "code",
   "execution_count": 39,
   "id": "a8a60e78-3cb3-4be0-9256-bd922564ac87",
   "metadata": {},
   "outputs": [
    {
     "data": {
      "text/plain": [
       "504782.105"
      ]
     },
     "execution_count": 39,
     "metadata": {},
     "output_type": "execute_result"
    }
   ],
   "source": [
    "(9.195221e+05 + 9.004211e+04)/2"
   ]
  },
  {
   "cell_type": "code",
   "execution_count": 36,
   "id": "66f33dc1-a46d-412c-8060-656742e83ce3",
   "metadata": {},
   "outputs": [
    {
     "data": {
      "text/plain": [
       "798666.6683333333"
      ]
     },
     "execution_count": 36,
     "metadata": {},
     "output_type": "execute_result"
    }
   ],
   "source": [
    "4792000.01/6"
   ]
  },
  {
   "cell_type": "code",
   "execution_count": 59,
   "id": "e765410f-48e4-4a7b-aa7a-1a7296b1a905",
   "metadata": {},
   "outputs": [
    {
     "data": {
      "text/plain": [
       "1090480.405025516"
      ]
     },
     "execution_count": 59,
     "metadata": {},
     "output_type": "execute_result"
    }
   ],
   "source": [
    "(means.diff(1)* sample_sizes).sum()/545"
   ]
  },
  {
   "cell_type": "code",
   "execution_count": 55,
   "id": "2290f766-30a6-49a2-9c70-3da512f64121",
   "metadata": {},
   "outputs": [
    {
     "data": {
      "text/plain": [
       "545"
      ]
     },
     "execution_count": 55,
     "metadata": {},
     "output_type": "execute_result"
    }
   ],
   "source": []
  },
  {
   "cell_type": "code",
   "execution_count": 33,
   "id": "b619641e-5eea-4b41-8850-fd6becbd9dac",
   "metadata": {},
   "outputs": [
    {
     "data": {
      "text/plain": [
       "2079000.0100000002"
      ]
     },
     "execution_count": 33,
     "metadata": {},
     "output_type": "execute_result"
    }
   ],
   "source": [
    "2079000.0100000002"
   ]
  },
  {
   "cell_type": "code",
   "execution_count": 43,
   "id": "b66d53b0-5527-4fec-bd9a-9c9bc7de2273",
   "metadata": {},
   "outputs": [
    {
     "data": {
      "text/plain": [
       "5820000.0"
      ]
     },
     "execution_count": 43,
     "metadata": {},
     "output_type": "execute_result"
    }
   ],
   "source": [
    "2.713e+06 + 3.107e+06"
   ]
  },
  {
   "cell_type": "code",
   "execution_count": 95,
   "id": "27e9adce-2a80-4d58-93d2-5a93e396b385",
   "metadata": {},
   "outputs": [
    {
     "data": {
      "image/png": "[encoded data removed]",
      "text/plain": [
       "<Figure size 640x480 with 1 Axes>"
      ]
     },
     "metadata": {},
     "output_type": "display_data"
    }
   ],
   "source": [
    "import matplotlib.pyplot as plt\n",
    "\n",
    "means.diff(1).plot(kind='bar')\n",
    "plt.axhline(0, c='black')\n",
    "plt.xlabel('Number of bedrooms', fontsize=15)\n",
    "plt.ylabel('Difference in price', fontsize=15)\n",
    "\n",
    "plt.gcf().axes[0].yaxis.get_major_formatter().set_scientific(False)\n",
    "plt.show()"
   ]
  },
  {
   "cell_type": "code",
   "execution_count": 78,
   "id": "efad34a4-6586-49cb-a76a-18fb122fc5a0",
   "metadata": {},
   "outputs": [
    {
     "name": "stdout",
     "output_type": "stream",
     "text": [
      "                            OLS Regression Results                            \n",
      "==============================================================================\n",
      "Dep. Variable:                      y   R-squared:                       0.605\n",
      "Model:                            OLS   Adj. R-squared:                  0.506\n",
      "Method:                 Least Squares   F-statistic:                     6.126\n",
      "Date:                Mon, 14 Oct 2024   Prob (F-statistic):             0.0686\n",
      "Time:                        16:18:56   Log-Likelihood:                -89.260\n",
      "No. Observations:                   6   AIC:                             182.5\n",
      "Df Residuals:                       4   BIC:                             182.1\n",
      "Df Model:                           1                                         \n",
      "Covariance Type:            nonrobust                                         \n",
      "==============================================================================\n",
      "                 coef    std err          t      P>|t|      [0.025      0.975]\n",
      "------------------------------------------------------------------------------\n",
      "const       2.833e+06   7.97e+05      3.554      0.024     6.2e+05    5.05e+06\n",
      "x1          5.067e+05   2.05e+05      2.475      0.069   -6.17e+04    1.08e+06\n",
      "==============================================================================\n",
      "Omnibus:                          nan   Durbin-Watson:                   1.172\n",
      "Prob(Omnibus):                    nan   Jarque-Bera (JB):                0.574\n",
      "Skew:                          -0.271   Prob(JB):                        0.750\n",
      "Kurtosis:                       1.584   Cond. No.                         9.36\n",
      "==============================================================================\n",
      "\n",
      "Notes:\n",
      "[1] Standard Errors assume that the covariance matrix of the errors is correctly specified.\n"
     ]
    },
    {
     "name": "stderr",
     "output_type": "stream",
     "text": [
      "C:\\Users\\dskcy\\anaconda3\\Lib\\site-packages\\statsmodels\\stats\\stattools.py:74: ValueWarning: omni_normtest is not valid with less than 8 observations; 6 samples were given.\n",
      "  warn(\"omni_normtest is not valid with less than 8 observations; %i \"\n"
     ]
    }
   ],
   "source": [
    "Y = np.array(means.to_list())\n",
    "X = np.array([1,2,3,4,5,6])\n",
    "\n",
    "results = sm.OLS(Y, sm.add_constant(X)).fit()\n",
    "print(results.summary())"
   ]
  },
  {
   "cell_type": "code",
   "execution_count": 79,
   "id": "50480906-0190-4915-a26d-d7e9e892d2ea",
   "metadata": {},
   "outputs": [
    {
     "data": {
      "text/plain": [
       "array([2712500.        , 3632022.05882353, 4954598.13333333,\n",
       "       5729757.89473684, 5819800.        , 4791500.        ])"
      ]
     },
     "execution_count": 79,
     "metadata": {},
     "output_type": "execute_result"
    }
   ],
   "source": [
    "Y"
   ]
  },
  {
   "cell_type": "code",
   "execution_count": 82,
   "id": "a5d2696a-39b5-4a10-8921-05fc19c6f9f3",
   "metadata": {},
   "outputs": [
    {
     "data": {
      "text/plain": [
       "4.158"
      ]
     },
     "execution_count": 82,
     "metadata": {},
     "output_type": "execute_result"
    }
   ],
   "source": [
    "means.diff(1).mean()/100000"
   ]
  },
  {
   "cell_type": "code",
   "execution_count": null,
   "id": "94d08875-260d-4a0e-8349-a647f50f485f",
   "metadata": {},
   "outputs": [],
   "source": []
  },
  {
   "cell_type": "code",
   "execution_count": null,
   "id": "084aee42-3192-4acb-b305-a1c8bf27e132",
   "metadata": {},
   "outputs": [],
   "source": []
  }
 ],
 "metadata": {
  "kernelspec": {
   "display_name": "Python 3 (ipykernel)",
   "language": "python",
   "name": "python3"
  },
  "language_info": {
   "codemirror_mode": {
    "name": "ipython",
    "version": 3
   },
   "file_extension": ".py",
   "mimetype": "text/x-python",
   "name": "python",
   "nbconvert_exporter": "python",
   "pygments_lexer": "ipython3",
   "version": "3.11.7"
  }
 },
 "nbformat": 4,
 "nbformat_minor": 5
}
