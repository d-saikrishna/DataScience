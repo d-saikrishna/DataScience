{
 "cells": [
  {
   "cell_type": "code",
   "execution_count": 1,
   "id": "abf0086f-499f-4d52-af7c-0f75401405f1",
   "metadata": {},
   "outputs": [
    {
     "name": "stdout",
     "output_type": "stream",
     "text": [
      "XIRR: 30.40%\n"
     ]
    }
   ],
   "source": [
    "import numpy as np\n",
    "from scipy.optimize import newton\n",
    "\n",
    "# Define your cash flows and dates\n",
    "cash_flows = [-1000, 1200, -500, 800]\n",
    "dates = ['2022-01-01', '2022-12-01', '2022-03-01', '2023-07-01']\n",
    "\n",
    "# Convert dates to datetime objects\n",
    "dates = np.array([np.datetime64(date) for date in dates])\n",
    "\n",
    "# Calculate the year fractions\n",
    "year_fractions = (dates - dates[0]).astype('timedelta64[D]').astype(int) / 365.0\n",
    "\n",
    "# Define the XIRR function\n",
    "def xirr(cash_flows, year_fractions):\n",
    "    def npv(rate):\n",
    "        return np.sum(cash_flows / (1 + rate) ** year_fractions)\n",
    "    return newton(npv, 0.1)\n",
    "\n",
    "# Calculate the XIRR\n",
    "result = xirr(np.array(cash_flows), year_fractions)\n",
    "print(f\"XIRR: {result * 100:.2f}%\")\n"
   ]
  },
  {
   "cell_type": "code",
   "execution_count": null,
   "id": "db23a6e1-efb6-487c-90d6-76055b8004ba",
   "metadata": {},
   "outputs": [],
   "source": []
  }
 ],
 "metadata": {
  "kernelspec": {
   "display_name": "Python 3 (ipykernel)",
   "language": "python",
   "name": "python3"
  },
  "language_info": {
   "codemirror_mode": {
    "name": "ipython",
    "version": 3
   },
   "file_extension": ".py",
   "mimetype": "text/x-python",
   "name": "python",
   "nbconvert_exporter": "python",
   "pygments_lexer": "ipython3",
   "version": "3.11.7"
  }
 },
 "nbformat": 4,
 "nbformat_minor": 5
}
