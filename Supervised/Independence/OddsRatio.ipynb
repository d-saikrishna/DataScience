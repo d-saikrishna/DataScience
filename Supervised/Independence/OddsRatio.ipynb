{
 "cells": [
  {
   "cell_type": "markdown",
   "id": "16d2cb45-45e9-4c9a-b225-fc802aa838ab",
   "metadata": {},
   "source": [
    "# Odds Ratio\n",
    "Odds Ratio is used for the test of independence when both variables are binary"
   ]
  },
  {
   "cell_type": "code",
   "execution_count": 82,
   "id": "9f9e6c5e-ad77-4e56-b8bf-898738cd8471",
   "metadata": {},
   "outputs": [],
   "source": [
    "import pandas as pd\n",
    "import numpy as np\n",
    "import scipy.stats as stats\n",
    "\n",
    "import seaborn as sns\n",
    "import matplotlib.pyplot as plt\n"
   ]
  },
  {
   "cell_type": "code",
   "execution_count": 83,
   "id": "61aaddaa-0834-45d5-ac78-4ada718df142",
   "metadata": {},
   "outputs": [
    {
     "data": {
      "text/html": [
       "<div>\n",
       "<style scoped>\n",
       "    .dataframe tbody tr th:only-of-type {\n",
       "        vertical-align: middle;\n",
       "    }\n",
       "\n",
       "    .dataframe tbody tr th {\n",
       "        vertical-align: top;\n",
       "    }\n",
       "\n",
       "    .dataframe thead th {\n",
       "        text-align: right;\n",
       "    }\n",
       "</style>\n",
       "<table border=\"1\" class=\"dataframe\">\n",
       "  <thead>\n",
       "    <tr style=\"text-align: right;\">\n",
       "      <th></th>\n",
       "      <th>famhist</th>\n",
       "      <th>chd</th>\n",
       "    </tr>\n",
       "  </thead>\n",
       "  <tbody>\n",
       "    <tr>\n",
       "      <th>0</th>\n",
       "      <td>1</td>\n",
       "      <td>1</td>\n",
       "    </tr>\n",
       "    <tr>\n",
       "      <th>1</th>\n",
       "      <td>0</td>\n",
       "      <td>1</td>\n",
       "    </tr>\n",
       "    <tr>\n",
       "      <th>2</th>\n",
       "      <td>1</td>\n",
       "      <td>0</td>\n",
       "    </tr>\n",
       "    <tr>\n",
       "      <th>3</th>\n",
       "      <td>1</td>\n",
       "      <td>1</td>\n",
       "    </tr>\n",
       "    <tr>\n",
       "      <th>4</th>\n",
       "      <td>1</td>\n",
       "      <td>1</td>\n",
       "    </tr>\n",
       "  </tbody>\n",
       "</table>\n",
       "</div>"
      ],
      "text/plain": [
       "   famhist  chd\n",
       "0        1    1\n",
       "1        0    1\n",
       "2        1    0\n",
       "3        1    1\n",
       "4        1    1"
      ]
     },
     "execution_count": 83,
     "metadata": {},
     "output_type": "execute_result"
    }
   ],
   "source": [
    "df = pd.read_csv(\"CORIS.txt\")\n",
    "\n",
    "# encode famhist with dummy 0-1 variable\n",
    "df['famhist'] = pd.get_dummies(df['famhist'])['Present']\n",
    "df['famhist'] = df['famhist'].astype(int)\n",
    "target = 'chd'\n",
    "features = ['sbp', 'tobacco', 'ldl', 'famhist', 'obesity', 'alcohol', 'age']\n",
    "features = ['famhist']\n",
    "\n",
    "df.drop('row.names', axis=1, inplace=True)\n",
    "df[features+[target]].head()"
   ]
  },
  {
   "cell_type": "code",
   "execution_count": 84,
   "id": "cfbaa019-bcc9-407f-acd7-c460d26b42ab",
   "metadata": {},
   "outputs": [
    {
     "data": {
      "text/html": [
       "<div>\n",
       "<style scoped>\n",
       "    .dataframe tbody tr th:only-of-type {\n",
       "        vertical-align: middle;\n",
       "    }\n",
       "\n",
       "    .dataframe tbody tr th {\n",
       "        vertical-align: top;\n",
       "    }\n",
       "\n",
       "    .dataframe thead th {\n",
       "        text-align: right;\n",
       "    }\n",
       "</style>\n",
       "<table border=\"1\" class=\"dataframe\">\n",
       "  <thead>\n",
       "    <tr style=\"text-align: right;\">\n",
       "      <th>chd</th>\n",
       "      <th>0</th>\n",
       "      <th>1</th>\n",
       "    </tr>\n",
       "    <tr>\n",
       "      <th>famhist</th>\n",
       "      <th></th>\n",
       "      <th></th>\n",
       "    </tr>\n",
       "  </thead>\n",
       "  <tbody>\n",
       "    <tr>\n",
       "      <th>0</th>\n",
       "      <td>206</td>\n",
       "      <td>64</td>\n",
       "    </tr>\n",
       "    <tr>\n",
       "      <th>1</th>\n",
       "      <td>96</td>\n",
       "      <td>96</td>\n",
       "    </tr>\n",
       "  </tbody>\n",
       "</table>\n",
       "</div>"
      ],
      "text/plain": [
       "chd        0   1\n",
       "famhist         \n",
       "0        206  64\n",
       "1         96  96"
      ]
     },
     "execution_count": 84,
     "metadata": {},
     "output_type": "execute_result"
    }
   ],
   "source": [
    "count_table = df.groupby(['famhist', 'chd']).size().unstack(fill_value=0)\n",
    "count_table"
   ]
  },
  {
   "cell_type": "code",
   "execution_count": 85,
   "id": "e1ffc07c-24f2-481a-983b-798c79366eec",
   "metadata": {},
   "outputs": [
    {
     "data": {
      "text/html": [
       "<div>\n",
       "<style scoped>\n",
       "    .dataframe tbody tr th:only-of-type {\n",
       "        vertical-align: middle;\n",
       "    }\n",
       "\n",
       "    .dataframe tbody tr th {\n",
       "        vertical-align: top;\n",
       "    }\n",
       "\n",
       "    .dataframe thead th {\n",
       "        text-align: right;\n",
       "    }\n",
       "</style>\n",
       "<table border=\"1\" class=\"dataframe\">\n",
       "  <thead>\n",
       "    <tr style=\"text-align: right;\">\n",
       "      <th>chd</th>\n",
       "      <th>0</th>\n",
       "      <th>1</th>\n",
       "    </tr>\n",
       "    <tr>\n",
       "      <th>famhist</th>\n",
       "      <th></th>\n",
       "      <th></th>\n",
       "    </tr>\n",
       "  </thead>\n",
       "  <tbody>\n",
       "    <tr>\n",
       "      <th>0</th>\n",
       "      <td>76.296296</td>\n",
       "      <td>23.703704</td>\n",
       "    </tr>\n",
       "    <tr>\n",
       "      <th>1</th>\n",
       "      <td>50.000000</td>\n",
       "      <td>50.000000</td>\n",
       "    </tr>\n",
       "  </tbody>\n",
       "</table>\n",
       "</div>"
      ],
      "text/plain": [
       "chd              0          1\n",
       "famhist                      \n",
       "0        76.296296  23.703704\n",
       "1        50.000000  50.000000"
      ]
     },
     "execution_count": 85,
     "metadata": {},
     "output_type": "execute_result"
    }
   ],
   "source": [
    "percentage_table = count_table.div(count_table.sum(axis=1), axis=0) * 100\n",
    "percentage_table"
   ]
  },
  {
   "cell_type": "code",
   "execution_count": 86,
   "id": "6a553ad7-cd06-450c-b3d4-9596dba04a19",
   "metadata": {},
   "outputs": [
    {
     "data": {
      "text/plain": [
       "3.2187499999999996"
      ]
     },
     "execution_count": 86,
     "metadata": {},
     "output_type": "execute_result"
    }
   ],
   "source": [
    "p = percentage_table.copy()\n",
    "# MLE Estimate of Odds Ratio\n",
    "odds_ratio = (p[0][0]*p[1][1])/(p[0][1]*p[1][0])\n",
    "odds_ratio"
   ]
  },
  {
   "cell_type": "code",
   "execution_count": 87,
   "id": "a6b0d085-981e-46ea-b929-913b1e106c98",
   "metadata": {},
   "outputs": [
    {
     "data": {
      "text/plain": [
       "1.168993085429909"
      ]
     },
     "execution_count": 87,
     "metadata": {},
     "output_type": "execute_result"
    }
   ],
   "source": [
    "# MLE Estimate of Log Odds Ratio\n",
    "log_oddsratio = np.log(odds_ratio)\n",
    "log_oddsratio"
   ]
  },
  {
   "cell_type": "markdown",
   "id": "fd7a6698-8acf-49f1-b8a8-3a81c7aa7957",
   "metadata": {},
   "source": [
    "If odds_ratio = 1; this implies that the events are independent. But also note that the odds_ratio is calculated from the sample data. So, what we calculated above is an estimate. There is a standard error to it.\n",
    "\n"
   ]
  },
  {
   "cell_type": "code",
   "execution_count": 90,
   "id": "23d7c33b-e9f2-4a12-9412-d834736060c4",
   "metadata": {},
   "outputs": [
    {
     "name": "stdout",
     "output_type": "stream",
     "text": [
      "Odds Ratio (OR): 3.219\n",
      "95% Confidence Interval for LogOR: (0.771, 1.567)\n",
      "95% Confidence Interval for OR: (2.161, 4.794)\n"
     ]
    }
   ],
   "source": [
    "x = count_table.copy()\n",
    "odds_ratio = (x[0][0]*x[1][1])/(x[0][1]*x[1][0])\n",
    "\n",
    "se_log_oddsratio = np.sqrt(1/x[0][0] + 1/x[0][1] + 1/x[1][0] + 1/x[1][1])\n",
    "se_oddsratio = odds_ratio*se_log_oddsratio\n",
    "\n",
    "# Determine the 95% confidence interval for ln(OR) using the normal distribution\n",
    "## Sampling distribution of log_oddsratio == Central Limit theorem\n",
    "z = stats.norm.ppf(0.975)  # 1.96 for 95% CI\n",
    "CI_lower_ln_OR = log_oddsratio - z * se_log_oddsratio\n",
    "CI_upper_ln_OR = log_oddsratio + z * se_log_oddsratio\n",
    "\n",
    "# Exponentiate the CI to get the CI for OR\n",
    "CI_lower_OR = np.exp(CI_lower_ln_OR)\n",
    "CI_upper_OR = np.exp(CI_upper_ln_OR)\n",
    "\n",
    "\n",
    "print(f\"Odds Ratio (OR): {odds_ratio:.3f}\")\n",
    "print(f\"95% Confidence Interval for LogOR: ({CI_lower_ln_OR:.3f}, {CI_upper_ln_OR:.3f})\")\n",
    "\n",
    "print(f\"95% Confidence Interval for OR: ({CI_lower_OR:.3f}, {CI_upper_OR:.3f})\")\n"
   ]
  },
  {
   "cell_type": "markdown",
   "id": "0a35f7b3-e12d-4dd3-90e7-8368758a1626",
   "metadata": {},
   "source": [
    "If the data is from a randomised experiment, then odds_ratio != 1 can be interpreted as a causal relationship. But if the data is from an observational study, there can be confounding factors responsible. Hence odds_ratio != 1 only tells about independence/association/correlation.\n",
    "\n",
    "Hence, given that odds_ratio>1 - famhist is associated with chd -- A good predictor."
   ]
  },
  {
   "cell_type": "markdown",
   "id": "a6b8fa6d-e993-4f64-8257-c37c7a146e7e",
   "metadata": {},
   "source": [
    "# Programming proof that Log OddsRatio has CLT"
   ]
  },
  {
   "cell_type": "code",
   "execution_count": 76,
   "id": "8698f388-7a86-4aca-9fa9-9af91ddb33ba",
   "metadata": {},
   "outputs": [],
   "source": [
    "# Step 1: Generate Random Data\n",
    "n=0\n",
    "vals = []\n",
    "while n<10000:\n",
    "    X = np.random.binomial(1, 0.5, 462)\n",
    "    Y = np.random.binomial(1, 0.5, 462)\n",
    "    \n",
    "    x = pd.crosstab(X, Y)\n",
    "    odds_ratio = (x[0][0]*x[1][1])/(x[0][1]*x[1][0])\n",
    "    log_odds_ratio = np.log(odds_ratio)\n",
    "    vals.append(log_odds_ratio)\n",
    "    n=n+1"
   ]
  },
  {
   "cell_type": "code",
   "execution_count": 77,
   "id": "e2793b5a-42ac-4c83-b74f-f8351b213a14",
   "metadata": {},
   "outputs": [
    {
     "name": "stderr",
     "output_type": "stream",
     "text": [
      "C:\\Users\\dskcy\\AppData\\Local\\Temp\\ipykernel_23064\\2187983324.py:1: FutureWarning: \n",
      "\n",
      "`shade` is now deprecated in favor of `fill`; setting `fill=True`.\n",
      "This will become an error in seaborn v0.14.0; please update your code.\n",
      "\n",
      "  sns.kdeplot(vals, shade=True)\n",
      "C:\\Users\\dskcy\\anaconda3\\Lib\\site-packages\\seaborn\\_oldcore.py:1119: FutureWarning: use_inf_as_na option is deprecated and will be removed in a future version. Convert inf values to NaN before operating instead.\n",
      "  with pd.option_context('mode.use_inf_as_na', True):\n"
     ]
    },
    {
     "data": {
      "image/png": "[encoded data removed]",
      "text/plain": [
       "<Figure size 640x480 with 1 Axes>"
      ]
     },
     "metadata": {},
     "output_type": "display_data"
    }
   ],
   "source": [
    "sns.kdeplot(vals, shade=True)\n",
    "plt.title('Sampling Distribution of Log(OddsRatios)')\n",
    "plt.show()"
   ]
  },
  {
   "cell_type": "code",
   "execution_count": 78,
   "id": "d1797bbd-1b8b-4727-8966-932c972769fe",
   "metadata": {},
   "outputs": [
    {
     "name": "stdout",
     "output_type": "stream",
     "text": [
      "Shapiro-Wilk Test: The data follows a normal distribution (fail to reject H0).\n"
     ]
    },
    {
     "name": "stderr",
     "output_type": "stream",
     "text": [
      "C:\\Users\\dskcy\\anaconda3\\Lib\\site-packages\\scipy\\stats\\_morestats.py:1882: UserWarning: p-value may not be accurate for N > 5000.\n",
      "  warnings.warn(\"p-value may not be accurate for N > 5000.\")\n"
     ]
    }
   ],
   "source": [
    "shapiro_test = stats.shapiro(vals)\n",
    "# Shapiro-Wilk Test\n",
    "if shapiro_test.pvalue > 0.05:\n",
    "    print(\"Shapiro-Wilk Test: The data follows a normal distribution (fail to reject H0).\")\n",
    "else:\n",
    "    print(\"Shapiro-Wilk Test: The data does not follow a normal distribution (reject H0).\")\n"
   ]
  },
  {
   "cell_type": "code",
   "execution_count": 79,
   "id": "26c91617-99d6-47d3-ad47-b87172f690f2",
   "metadata": {},
   "outputs": [
    {
     "data": {
      "text/plain": [
       "0.475604385137558"
      ]
     },
     "execution_count": 79,
     "metadata": {},
     "output_type": "execute_result"
    }
   ],
   "source": [
    "shapiro_test.pvalue"
   ]
  },
  {
   "cell_type": "code",
   "execution_count": 81,
   "id": "01c98198-386b-4956-8f0d-0a8fb4b9adf2",
   "metadata": {},
   "outputs": [
    {
     "data": {
      "text/plain": [
       "0.18690562647319675"
      ]
     },
     "execution_count": 81,
     "metadata": {},
     "output_type": "execute_result"
    }
   ],
   "source": [
    "np.array(vals).std()"
   ]
  },
  {
   "cell_type": "code",
   "execution_count": 89,
   "id": "057e1d3b-8ebc-4107-b45c-63c02dab174a",
   "metadata": {},
   "outputs": [
    {
     "data": {
      "text/plain": [
       "0.20325526380729275"
      ]
     },
     "execution_count": 89,
     "metadata": {},
     "output_type": "execute_result"
    }
   ],
   "source": [
    "se_log_oddsratio"
   ]
  },
  {
   "cell_type": "code",
   "execution_count": null,
   "id": "d7ff7650-f84b-46c1-a430-0f952c0d51c3",
   "metadata": {},
   "outputs": [],
   "source": []
  }
 ],
 "metadata": {
  "kernelspec": {
   "display_name": "Python 3 (ipykernel)",
   "language": "python",
   "name": "python3"
  },
  "language_info": {
   "codemirror_mode": {
    "name": "ipython",
    "version": 3
   },
   "file_extension": ".py",
   "mimetype": "text/x-python",
   "name": "python",
   "nbconvert_exporter": "python",
   "pygments_lexer": "ipython3",
   "version": "3.11.7"
  }
 },
 "nbformat": 4,
 "nbformat_minor": 5
}
