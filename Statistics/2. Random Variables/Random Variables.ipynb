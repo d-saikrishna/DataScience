{
 "cells": [
  {
   "cell_type": "markdown",
   "id": "36da4d32-7d25-48fb-8d7d-672c2882f044",
   "metadata": {},
   "source": [
    "### 3.18. All of Stats\n",
    "Let $X \\sim N(3, 16)$\n",
    ". Solve the followin\n",
    "\n",
    "1.  $P(X<7)$e"
   ]
  },
  {
   "cell_type": "code",
   "execution_count": 1,
   "id": "6aabfce7-512b-41d2-94f8-3d3251e74a56",
   "metadata": {},
   "outputs": [
    {
     "name": "stdout",
     "output_type": "stream",
     "text": [
      "0.8413\n"
     ]
    }
   ],
   "source": [
    "import numpy as np\n",
    "from scipy.stats import norm\n",
    "\n",
    "print('%.4f' % norm.cdf(7, loc=3, scale=4))"
   ]
  },
  {
   "cell_type": "markdown",
   "id": "b50bfb62-214d-4723-8794-7b46dcce7bb3",
   "metadata": {},
   "source": [
    "3. Find x such that P(X>x) = .05\n",
    "\n",
    "1 - P(X<=x) = 0.05 <br>\n",
    "CDF = 0.95"
   ]
  },
  {
   "cell_type": "code",
   "execution_count": 3,
   "id": "3a2472e8-102b-4423-b027-8b213d41a373",
   "metadata": {},
   "outputs": [
    {
     "name": "stdout",
     "output_type": "stream",
     "text": [
      "9.5794\n"
     ]
    }
   ],
   "source": [
    "print('%.4f' % norm.ppf(.95, loc=3, scale=4))"
   ]
  },
  {
   "cell_type": "code",
   "execution_count": null,
   "id": "52a05be7-965f-4a7c-b1a3-b100e38f5930",
   "metadata": {},
   "outputs": [],
   "source": []
  }
 ],
 "metadata": {
  "kernelspec": {
   "display_name": "Python 3 (ipykernel)",
   "language": "python",
   "name": "python3"
  },
  "language_info": {
   "codemirror_mode": {
    "name": "ipython",
    "version": 3
   },
   "file_extension": ".py",
   "mimetype": "text/x-python",
   "name": "python",
   "nbconvert_exporter": "python",
   "pygments_lexer": "ipython3",
   "version": "3.11.7"
  }
 },
 "nbformat": 4,
 "nbformat_minor": 5
}
